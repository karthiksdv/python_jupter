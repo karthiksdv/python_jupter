{
 "cells": [
  {
   "cell_type": "markdown",
   "metadata": {},
   "source": [
    "# Numpy - Numerical Python"
   ]
  },
  {
   "cell_type": "code",
   "execution_count": 1,
   "metadata": {},
   "outputs": [],
   "source": [
    "import numpy as np"
   ]
  },
  {
   "cell_type": "code",
   "execution_count": 3,
   "metadata": {},
   "outputs": [
    {
     "data": {
      "text/plain": [
       "numpy.ndarray"
      ]
     },
     "execution_count": 3,
     "metadata": {},
     "output_type": "execute_result"
    }
   ],
   "source": [
    "# Numpy Array   int(4.5)\n",
    "a = np.array([2,5,7])\n",
    "type(a)"
   ]
  },
  {
   "cell_type": "code",
   "execution_count": 5,
   "metadata": {},
   "outputs": [
    {
     "name": "stdout",
     "output_type": "stream",
     "text": [
      "[2 5 7]\n"
     ]
    }
   ],
   "source": [
    "print(a)"
   ]
  },
  {
   "cell_type": "code",
   "execution_count": 9,
   "metadata": {},
   "outputs": [
    {
     "name": "stdout",
     "output_type": "stream",
     "text": [
      "['2' '5.5' '7' 'True' 'hello']\n"
     ]
    }
   ],
   "source": [
    "#homogeneous\n",
    "a = np.array([2,5.5,7,True,'hello'])\n",
    "print(a)"
   ]
  },
  {
   "cell_type": "code",
   "execution_count": 17,
   "metadata": {},
   "outputs": [
    {
     "name": "stdout",
     "output_type": "stream",
     "text": [
      "[2 5 7]\n",
      "size of the array :  3\n",
      "Array element datatype :  int64\n",
      "Number of dimension :  1\n",
      "shape of the Array :  (3,)\n"
     ]
    }
   ],
   "source": [
    "#homogeneous\n",
    "a = np.array([2,5,7])\n",
    "print(a)\n",
    "print(\"size of the array : \",a.size)\n",
    "print(\"Array element datatype : \",a.dtype)\n",
    "print(\"Number of dimension : \",a.ndim)\n",
    "print(\"shape of the Array : \",a.shape)"
   ]
  },
  {
   "cell_type": "code",
   "execution_count": 18,
   "metadata": {},
   "outputs": [
    {
     "name": "stdout",
     "output_type": "stream",
     "text": [
      "[[2 5 7]\n",
      " [6 9 3]]\n",
      "size of the array :  6\n",
      "Array element datatype :  int64\n",
      "Number of dimension :  2\n",
      "shape of the Array :  (2, 3)\n"
     ]
    }
   ],
   "source": [
    "#homogeneous\n",
    "# 2-D array is a collection 1-D arrays\n",
    "a = np.array([ \n",
    "                [2,5,7],\n",
    "                [6,9,3]\n",
    "             ])\n",
    "print(a)\n",
    "print(\"size of the array : \",a.size)\n",
    "print(\"Array element datatype : \",a.dtype)\n",
    "print(\"Number of dimension : \",a.ndim)\n",
    "print(\"shape of the Array : \",a.shape)"
   ]
  },
  {
   "cell_type": "code",
   "execution_count": 20,
   "metadata": {},
   "outputs": [
    {
     "name": "stdout",
     "output_type": "stream",
     "text": [
      "[[[ 2  5  7]\n",
      "  [ 6  9  3]]\n",
      "\n",
      " [[ 4 15 17]\n",
      "  [61 19 32]]]\n",
      "size of the array :  12\n",
      "Array element datatype :  int64\n",
      "Number of dimension :  3\n",
      "shape of the Array :  (2, 2, 3)\n"
     ]
    }
   ],
   "source": [
    "#homogeneous\n",
    "# 3-D array is a collection 2-D arrays\n",
    "a = np.array([\n",
    "             [ [2,5,7],\n",
    "                [6,9,3]],\n",
    "             [ [4,15,17],\n",
    "                [61,19,32]]\n",
    "            ])\n",
    "print(a)\n",
    "print(\"size of the array : \",a.size)\n",
    "print(\"Array element datatype : \",a.dtype)\n",
    "print(\"Number of dimension : \",a.ndim)\n",
    "print(\"shape of the Array : \",a.shape)"
   ]
  },
  {
   "cell_type": "code",
   "execution_count": 24,
   "metadata": {},
   "outputs": [
    {
     "name": "stdout",
     "output_type": "stream",
     "text": [
      "[list([2, 3, 7]) list([7, 3])]\n",
      "size of the array :  2\n",
      "Array element datatype :  object\n",
      "Number of dimension :  1\n",
      "shape of the Array :  (2,)\n"
     ]
    }
   ],
   "source": [
    "# insistant int array becomes array of lists\n",
    "# 3-D array is a collection 2-D arrays\n",
    "a = np.array([ [2,3,7], [7,3] ])\n",
    "print(a)\n",
    "print(\"size of the array : \",a.size)\n",
    "print(\"Array element datatype : \",a.dtype)\n",
    "print(\"Number of dimension : \",a.ndim)\n",
    "print(\"shape of the Array : \",a.shape)"
   ]
  },
  {
   "cell_type": "code",
   "execution_count": null,
   "metadata": {},
   "outputs": [],
   "source": []
  }
 ],
 "metadata": {
  "kernelspec": {
   "display_name": "Python 3 (ipykernel)",
   "language": "python",
   "name": "python3"
  },
  "language_info": {
   "codemirror_mode": {
    "name": "ipython",
    "version": 3
   },
   "file_extension": ".py",
   "mimetype": "text/x-python",
   "name": "python",
   "nbconvert_exporter": "python",
   "pygments_lexer": "ipython3",
   "version": "3.9.12"
  }
 },
 "nbformat": 4,
 "nbformat_minor": 2
}
