{
 "cells": [
  {
   "cell_type": "code",
   "execution_count": 2,
   "metadata": {},
   "outputs": [
    {
     "name": "stdout",
     "output_type": "stream",
     "text": [
      "True block\n"
     ]
    }
   ],
   "source": [
    "######## IF ELSE Statements\n",
    "if True:\n",
    "    print(\"True block\")\n"
   ]
  },
  {
   "cell_type": "code",
   "execution_count": 3,
   "metadata": {},
   "outputs": [],
   "source": [
    "if False:\n",
    "    print(\"The false conditional block\") ### Only if True then only the IF first block will work"
   ]
  },
  {
   "cell_type": "code",
   "execution_count": 1,
   "metadata": {},
   "outputs": [
    {
     "name": "stdout",
     "output_type": "stream",
     "text": [
      "Not Matched\n"
     ]
    }
   ],
   "source": [
    "language = \"PHP\"\n",
    "if language == \"Python\":\n",
    "    print(\"Language is Python\")\n",
    "elif language == \"Java\":\n",
    "    print(\"Language is Java\")\n",
    "else:\n",
    "    print(\"Not Matched\")"
   ]
  },
  {
   "cell_type": "code",
   "execution_count": 14,
   "metadata": {},
   "outputs": [
    {
     "name": "stdout",
     "output_type": "stream",
     "text": [
      "<class 'str'>\n",
      "<class 'bool'>\n",
      "Admin Page\n"
     ]
    }
   ],
   "source": [
    "user = 'Admin'\n",
    "logged_in = True\n",
    "\n",
    "if user == 'Admin' and logged_in:\n",
    "    print(\"Admin Page\")\n",
    "else:\n",
    "    print(\"Wrong Credentials\")"
   ]
  },
  {
   "cell_type": "code",
   "execution_count": 19,
   "metadata": {},
   "outputs": [
    {
     "name": "stdout",
     "output_type": "stream",
     "text": [
      "Please logged in\n"
     ]
    }
   ],
   "source": [
    "if not logged_in:\n",
    "    print(\"Welcome to Home page\")\n",
    "else:\n",
    "    print(\"Please logged in\")"
   ]
  },
  {
   "cell_type": "code",
   "execution_count": 1,
   "metadata": {},
   "outputs": [
    {
     "name": "stdout",
     "output_type": "stream",
     "text": [
      "4464851720\n",
      "4465057352\n",
      "4464851720\n",
      "False\n",
      "True\n",
      "False\n",
      "True\n"
     ]
    }
   ],
   "source": [
    "### IS --  object identity    \n",
    "    \n",
    "a = [1, 2, 3]\n",
    "b = [1, 2, 3]\n",
    "c = a\n",
    "\n",
    "print(id(a))\n",
    "print(id(b))\n",
    "print(id(c))\n",
    "\n",
    "print(id(a) == id(b))\n",
    "\n",
    "print(a == b)\n",
    "\n",
    "print(a is b)\n",
    "\n",
    "print(a is c)"
   ]
  },
  {
   "cell_type": "markdown",
   "metadata": {},
   "source": [
    "# Conditional Evaluation"
   ]
  },
  {
   "cell_type": "code",
   "execution_count": 30,
   "metadata": {},
   "outputs": [
    {
     "name": "stdout",
     "output_type": "stream",
     "text": [
      "Evaluated to False\n"
     ]
    }
   ],
   "source": [
    "## If the condition is FALSE, NONE, 0, '' all will go to Fasle condition only\n",
    "condition = None\n",
    "\n",
    "if condition:\n",
    "    print('Evaluated to True')\n",
    "else:\n",
    "    print('Evaluated to False')\n",
    "        "
   ]
  },
  {
   "cell_type": "code",
   "execution_count": null,
   "metadata": {},
   "outputs": [],
   "source": []
  },
  {
   "cell_type": "code",
   "execution_count": 22,
   "metadata": {},
   "outputs": [
    {
     "name": "stdout",
     "output_type": "stream",
     "text": [
      "Yes\n"
     ]
    }
   ],
   "source": [
    "### Below are default Fasle values\n",
    "# 1 False\n",
    "# 2 None\n",
    "# 3 0 -- Numeric values\n",
    "# 4 Any  empty list, set [], ()\n",
    "# 5 Any Empty mapping {}\n",
    "\n",
    "if(2 in a):\n",
    "    print(\"Yes\")\n",
    "else:\n",
    "    print(\"no\")"
   ]
  },
  {
   "cell_type": "markdown",
   "metadata": {},
   "source": [
    "### Conditonal"
   ]
  },
  {
   "cell_type": "code",
   "execution_count": null,
   "metadata": {},
   "outputs": [],
   "source": [
    "### Loops"
   ]
  },
  {
   "cell_type": "code",
   "execution_count": 7,
   "metadata": {},
   "outputs": [
    {
     "name": "stdout",
     "output_type": "stream",
     "text": [
      "1\n",
      "2\n",
      "Found it\n",
      "Done, Exit the loop \n",
      "###########\n",
      "1\n",
      "2\n",
      "Found it, skip the current value and continue the loop \n",
      "4\n",
      "5\n",
      "0 a\n",
      "0 b\n",
      "0 c\n",
      "1 a\n",
      "1 b\n",
      "1 c\n"
     ]
    }
   ],
   "source": [
    "numbers = [1,2,3,4,5]\n",
    "\n",
    "numbers1 = [1,2,3,4,5]\n",
    "\n",
    "for num in numbers:\n",
    "    if num == 3:\n",
    "        print(\"Found it\")\n",
    "        print(\"Done, Exit the loop \")\n",
    "        print(\"###########\")\n",
    "        break        \n",
    "    print(num)    \n",
    "\n",
    "for num in numbers1:\n",
    "    if num == 3:\n",
    "        print(\"Found it, skip the current value and continue the loop \")\n",
    "        continue        \n",
    "    print(num)\n",
    "    \n",
    "    \n",
    "##### Nested Loops\n",
    "\n",
    "for num in range(2):\n",
    "    for letter in \"abc\":\n",
    "        print(num, letter)\n",
    "        \n",
    "\n",
    "        "
   ]
  },
  {
   "cell_type": "code",
   "execution_count": null,
   "metadata": {},
   "outputs": [],
   "source": [
    "##### FUNCTIONS\n"
   ]
  },
  {
   "cell_type": "code",
   "execution_count": 47,
   "metadata": {},
   "outputs": [
    {
     "name": "stdout",
     "output_type": "stream",
     "text": [
      "Hello World!\n",
      "Hello World!\n",
      "HELLO DK\n",
      "Hello, DK\n",
      "Hello, Karthik\n"
     ]
    }
   ],
   "source": [
    "def hello_world():\n",
    "    print(\"Hello World!\")\n",
    "    return \"Hello DK\"\n",
    "    \n",
    "hello_world()    \n",
    "print(hello_world().upper())\n",
    "\n",
    "\n",
    "def hello_func(greeting, name=\"DK\"):\n",
    "    return '{}, {}'.format(greeting, name)\n",
    "\n",
    "print(hello_func('Hello'))\n",
    "print(hello_func('Hello','Karthik'))\n",
    "\n"
   ]
  }
 ],
 "metadata": {
  "kernelspec": {
   "display_name": "Python 3",
   "language": "python",
   "name": "python3"
  },
  "language_info": {
   "codemirror_mode": {
    "name": "ipython",
    "version": 3
   },
   "file_extension": ".py",
   "mimetype": "text/x-python",
   "name": "python",
   "nbconvert_exporter": "python",
   "pygments_lexer": "ipython3",
   "version": "3.7.1"
  }
 },
 "nbformat": 4,
 "nbformat_minor": 2
}
