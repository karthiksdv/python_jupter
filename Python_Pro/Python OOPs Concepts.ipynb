{
 "cells": [
  {
   "cell_type": "code",
   "execution_count": 16,
   "metadata": {},
   "outputs": [
    {
     "name": "stdout",
     "output_type": "stream",
     "text": [
      "DK\n",
      "Karthik\n"
     ]
    }
   ],
   "source": [
    "class Edureka:\n",
    "    \n",
    "    def __init__(self,name):\n",
    "        self.name = \"Karthik\"\n",
    "        print(name)\n",
    "        print(self.name)\n",
    "        \n",
    "    def func(self):\n",
    "        print(\"Hello world\")\n",
    "        \n",
    "x = Edureka(\"DK\")\n"
   ]
  },
  {
   "cell_type": "code",
   "execution_count": 1,
   "metadata": {},
   "outputs": [
    {
     "name": "stdout",
     "output_type": "stream",
     "text": [
      "0\n",
      "2\n",
      "10400\n",
      "20800\n",
      "1.04\n",
      "1.05\n",
      "1.04\n",
      "{'first': 'Karthik', 'last': 'Dhanbal', 'pay': 10400, 'email': 'Karthik.Dhanbal@gmail.com', 'raise_amount': 1.05}\n",
      "{'first': 'Test', 'last': 'User', 'pay': 20800, 'email': 'Test.User@gmail.com'}\n"
     ]
    }
   ],
   "source": [
    "class Employee:\n",
    "    \n",
    "    raise_amount = 1.04\n",
    "    num_of_emps = 0\n",
    "\n",
    "    def __init__(self, first, last, pay):\n",
    "        self.first = first\n",
    "        self.last = last\n",
    "        self.pay = pay\n",
    "        self.email = first + \".\"+last+\"@gmail.com\"\n",
    "        Employee.num_of_emps += 1\n",
    "        #print(self.first, self.pay, self.email)\n",
    "\n",
    "    def fullname(self):\n",
    "        return '{} {}'.format(self.first, self.last)\n",
    "    \n",
    "    def apply_raise(self):\n",
    "        self.pay = int(self.pay * self.raise_amount)\n",
    "        return self.pay\n",
    "    \n",
    "\n",
    "print(Employee.num_of_emps)    \n",
    "emp_1 = Employee('Karthik', 'Dhanbal', 10000)\n",
    "emp_2 = Employee('Test', 'User', 20000)\n",
    "print(Employee.num_of_emps)    \n",
    "\n",
    "    \n",
    "print(emp_1.apply_raise())\n",
    "print(emp_2.apply_raise())\n",
    "\n",
    "\n",
    "emp_1.raise_amount = 1.05\n",
    "\n",
    "print(Employee.raise_amount)\n",
    "print(emp_1.raise_amount)\n",
    "print(emp_2.raise_amount)\n",
    "\n",
    "print(emp_1.__dict__)\n",
    "print(emp_2.__dict__)\n",
    "\n",
    "#print(emp_1.fullname())\n",
    "#print(emp_2.fullname())       \n",
    "#print(emp_2.email)        \n",
    "\n"
   ]
  },
  {
   "cell_type": "code",
   "execution_count": null,
   "metadata": {},
   "outputs": [],
   "source": []
  },
  {
   "cell_type": "markdown",
   "metadata": {},
   "source": [
    "## classmethods and staticmethods"
   ]
  },
  {
   "cell_type": "code",
   "execution_count": 3,
   "metadata": {},
   "outputs": [
    {
     "name": "stdout",
     "output_type": "stream",
     "text": [
      "0\n",
      "2\n"
     ]
    }
   ],
   "source": [
    "class Employee:\n",
    "    \n",
    "    raise_amount = 1.04\n",
    "    num_of_emps = 0\n",
    "\n",
    "    def __init__(self, first, last, pay):\n",
    "        self.first = first\n",
    "        self.last = last\n",
    "        self.pay = pay\n",
    "        self.email = first + \".\"+last+\"@gmail.com\"\n",
    "        Employee.num_of_emps += 1\n",
    "        #print(self.first, self.pay, self.email)\n",
    "\n",
    "    def fullname(self):\n",
    "        return '{} {}'.format(self.first, self.last)\n",
    "    \n",
    "    def apply_raise(self):\n",
    "        self.pay = int(self.pay * self.raise_amount)\n",
    "        return self.pay\n",
    "    \n",
    "\n",
    "print(Employee.num_of_emps)    \n",
    "emp_1 = Employee('Karthik', 'Dhanbal', 10000)\n",
    "emp_2 = Employee('Test', 'User', 20000)\n",
    "print(Employee.num_of_emps)    \n"
   ]
  },
  {
   "cell_type": "markdown",
   "metadata": {},
   "source": [
    "## Python Inheritance"
   ]
  },
  {
   "cell_type": "code",
   "execution_count": 9,
   "metadata": {},
   "outputs": [
    {
     "name": "stdout",
     "output_type": "stream",
     "text": [
      "Karthik.Dhanbal@gmail.com\n",
      "Test.User@gmail.com\n",
      "10000\n",
      "10400\n"
     ]
    }
   ],
   "source": [
    "class Employee:\n",
    "    \n",
    "    raise_amount = 1.04\n",
    "    num_of_emps = 0\n",
    "\n",
    "    def __init__(self, first, last, pay):\n",
    "        self.first = first\n",
    "        self.last = last\n",
    "        self.pay = pay\n",
    "        self.email = first + \".\"+last+\"@gmail.com\"\n",
    "        Employee.num_of_emps += 1\n",
    "        #print(self.first, self.pay, self.email)\n",
    "\n",
    "    def fullname(self):\n",
    "        return '{} {}'.format(self.first, self.last)\n",
    "    \n",
    "    def apply_raise(self):\n",
    "        self.pay = int(self.pay * self.raise_amount)\n",
    "        return self.pay\n",
    "\n",
    "class Developer(Employee):\n",
    "    pass\n",
    "\n",
    "dev_1 = Developer('Karthik', 'Dhanbal', 10000)\n",
    "dev_2 = Developer('Test', 'User', 20000)\n",
    "\n",
    "print(dev_1.email)\n",
    "print(dev_2.email)\n",
    "\n",
    "#### check the object 1 date\n",
    "\n",
    "print(dev_1.pay)\n",
    "dev_1.apply_raise()\n",
    "print(dev_1.pay)"
   ]
  },
  {
   "cell_type": "code",
   "execution_count": 39,
   "metadata": {},
   "outputs": [
    {
     "name": "stdout",
     "output_type": "stream",
     "text": [
      "Karthik.Dhanbal@email.com\n",
      "Python\n",
      "\n",
      "###############\n",
      "50000\n",
      "52000\n",
      "52000\n"
     ]
    }
   ],
   "source": [
    "class Developer(Employee):\n",
    "    raise_amount = 1.10\n",
    "    \n",
    "    ## initialize the init method in child class\n",
    "    def __init__(self, first, last, pay, prog_lang):\n",
    "        super().__init__(first, last, pay)\n",
    "        self.prog_lang = prog_lang\n",
    "\n",
    "dev_1 = Developer('Karthik', 'Dhanbal', 50000, 'Python')\n",
    "dev_2 = Developer('Test', 'User', 20000, 'Java')\n",
    "dev_3 = Employee('Karthik', 'Dhanbal', 50000)\n",
    "\n",
    "\n",
    "######### Added new value in the child class and test it\n",
    "\n",
    "print(dev_1.email)\n",
    "print(dev_1.prog_lang)\n",
    "\n",
    "\n",
    "\n",
    "print(\"\")\n",
    "print(\"###############\")\n",
    "\n",
    "\n",
    "\n",
    "\n",
    "\n",
    "#### check the raise amount sR 1 date\n",
    "print(dev_1.pay)\n",
    "dev_1.apply_raise()\n",
    "print(dev_1.pay)\n",
    "dev_3.apply_raise()\n",
    "print(dev_3.pay)"
   ]
  },
  {
   "cell_type": "code",
   "execution_count": 51,
   "metadata": {},
   "outputs": [
    {
     "name": "stdout",
     "output_type": "stream",
     "text": [
      "DK.Don@email.com\n",
      "----> Karthik Dhanbal\n",
      "\n",
      "\n",
      "----> Karthik Dhanbal\n",
      "----> Test User\n",
      "\n",
      "\n",
      "----> Test User\n"
     ]
    }
   ],
   "source": [
    "class Manager(Employee):\n",
    "    \n",
    "    def __init__(self, first, last, pay, employees=None):\n",
    "        super().__init__(first, last, pay)\n",
    "        if employees is None:\n",
    "            self.employees = []\n",
    "        else:\n",
    "            self.employees = employees\n",
    "            \n",
    "    def add_emp(self, emp):\n",
    "        if emp not in self.employees:\n",
    "            self.employees.append(emp)\n",
    "            \n",
    "    def remove_emp(self, emp):\n",
    "        if emp in self.employees:\n",
    "            self.employees.remove(emp)\n",
    "            \n",
    "    def print_emps(self):\n",
    "        for emp in self.employees:\n",
    "            print('---->', emp.fullname())\n",
    "            \n",
    "            \n",
    "     ############ calling second sub class\n",
    "mgr_1 = Manager('DK', 'Don', 20000, [dev_1])\n",
    "print(mgr_1.email)\n",
    "\n",
    "\n",
    "mgr_1.print_emps()\n",
    "print(\"\")\n",
    "mgr_1.add_emp(dev_2)\n",
    "print(\"\")\n",
    "mgr_1.print_emps()\n",
    "print(\"\")\n",
    "mgr_1.remove_emp(dev_1)\n",
    "print(\"\")\n",
    "mgr_1.print_emps()"
   ]
  },
  {
   "cell_type": "code",
   "execution_count": 25,
   "metadata": {},
   "outputs": [],
   "source": [
    "dev_1 = Developer('Karthik', 'Dhanbal', 50000, 'Python')\n",
    "dev_2 = Developer('Test', 'User', 20000, 'Java')"
   ]
  },
  {
   "cell_type": "code",
   "execution_count": null,
   "metadata": {},
   "outputs": [],
   "source": []
  },
  {
   "cell_type": "code",
   "execution_count": 38,
   "metadata": {},
   "outputs": [
    {
     "name": "stdout",
     "output_type": "stream",
     "text": [
      "Sue.Smith@email.com\n",
      "--> Corey Schafer\n",
      "--> Test Employee\n",
      "None\n",
      "--> Corey Schafer\n"
     ]
    }
   ],
   "source": [
    "class Employee:\n",
    "\n",
    "    raise_amt = 1.04\n",
    "\n",
    "    def __init__(self, first, last, pay):\n",
    "        self.first = first\n",
    "        self.last = last\n",
    "        self.email = first + '.' + last + '@email.com'\n",
    "        self.pay = pay\n",
    "\n",
    "    def fullname(self):\n",
    "        return '{} {}'.format(self.first, self.last)\n",
    "\n",
    "    def apply_raise(self):\n",
    "        self.pay = int(self.pay * self.raise_amt)\n",
    "\n",
    "\n",
    "class Developer(Employee):\n",
    "    raise_amt = 1.10\n",
    "\n",
    "    def __init__(self, first, last, pay, prog_lang):\n",
    "        super().__init__(first, last, pay)\n",
    "        self.prog_lang = prog_lang\n",
    "\n",
    "\n",
    "class Manager(Employee):\n",
    "\n",
    "    def __init__(self, first, last, pay, employees=None):\n",
    "        super().__init__(first, last, pay)\n",
    "        if employees is None:\n",
    "            self.employees = []\n",
    "        else:\n",
    "            self.employees = employees\n",
    "\n",
    "    def add_emp(self, emp):\n",
    "        if emp not in self.employees:\n",
    "            self.employees.append(emp)\n",
    "\n",
    "    def remove_emp(self, emp):\n",
    "        if emp in self.employees:\n",
    "            self.employees.remove(emp)\n",
    "\n",
    "    def print_emps(self):\n",
    "        for emp in self.employees:\n",
    "            print('-->', emp.fullname())\n",
    "\n",
    "\n",
    "dev_1 = Developer('Corey', 'Schafer', 50000, 'Python')\n",
    "dev_2 = Developer('Test', 'Employee', 60000, 'Java')\n",
    "\n",
    "mgr_1 = Manager('Sue', 'Smith', 90000, [dev_1])\n",
    "\n",
    "print(mgr_1.email)\n",
    "\n",
    "mgr_1.add_emp(dev_2)\n",
    "print(mgr_1.print_emps())\n",
    "mgr_1.remove_emp(dev_2)\n",
    "\n",
    "mgr_1.print_emps()"
   ]
  },
  {
   "cell_type": "code",
   "execution_count": null,
   "metadata": {},
   "outputs": [],
   "source": []
  },
  {
   "cell_type": "code",
   "execution_count": null,
   "metadata": {},
   "outputs": [],
   "source": []
  },
  {
   "cell_type": "code",
   "execution_count": null,
   "metadata": {},
   "outputs": [],
   "source": []
  },
  {
   "cell_type": "code",
   "execution_count": null,
   "metadata": {},
   "outputs": [],
   "source": []
  },
  {
   "cell_type": "code",
   "execution_count": null,
   "metadata": {},
   "outputs": [],
   "source": []
  },
  {
   "cell_type": "code",
   "execution_count": null,
   "metadata": {},
   "outputs": [],
   "source": []
  },
  {
   "cell_type": "code",
   "execution_count": null,
   "metadata": {},
   "outputs": [],
   "source": []
  },
  {
   "cell_type": "code",
   "execution_count": null,
   "metadata": {},
   "outputs": [],
   "source": []
  },
  {
   "cell_type": "code",
   "execution_count": null,
   "metadata": {},
   "outputs": [],
   "source": []
  },
  {
   "cell_type": "code",
   "execution_count": null,
   "metadata": {},
   "outputs": [],
   "source": []
  },
  {
   "cell_type": "code",
   "execution_count": null,
   "metadata": {},
   "outputs": [],
   "source": []
  },
  {
   "cell_type": "code",
   "execution_count": null,
   "metadata": {},
   "outputs": [],
   "source": []
  },
  {
   "cell_type": "code",
   "execution_count": null,
   "metadata": {},
   "outputs": [],
   "source": []
  },
  {
   "cell_type": "code",
   "execution_count": null,
   "metadata": {},
   "outputs": [],
   "source": []
  },
  {
   "cell_type": "code",
   "execution_count": null,
   "metadata": {},
   "outputs": [],
   "source": []
  },
  {
   "cell_type": "code",
   "execution_count": null,
   "metadata": {},
   "outputs": [],
   "source": []
  },
  {
   "cell_type": "code",
   "execution_count": null,
   "metadata": {},
   "outputs": [],
   "source": []
  },
  {
   "cell_type": "code",
   "execution_count": null,
   "metadata": {},
   "outputs": [],
   "source": []
  },
  {
   "cell_type": "code",
   "execution_count": null,
   "metadata": {},
   "outputs": [],
   "source": []
  },
  {
   "cell_type": "code",
   "execution_count": null,
   "metadata": {},
   "outputs": [],
   "source": []
  },
  {
   "cell_type": "code",
   "execution_count": null,
   "metadata": {},
   "outputs": [],
   "source": []
  },
  {
   "cell_type": "code",
   "execution_count": null,
   "metadata": {},
   "outputs": [],
   "source": []
  },
  {
   "cell_type": "code",
   "execution_count": null,
   "metadata": {},
   "outputs": [],
   "source": []
  },
  {
   "cell_type": "code",
   "execution_count": null,
   "metadata": {},
   "outputs": [],
   "source": []
  },
  {
   "cell_type": "code",
   "execution_count": null,
   "metadata": {},
   "outputs": [],
   "source": []
  },
  {
   "cell_type": "code",
   "execution_count": null,
   "metadata": {},
   "outputs": [],
   "source": []
  },
  {
   "cell_type": "code",
   "execution_count": null,
   "metadata": {},
   "outputs": [],
   "source": []
  },
  {
   "cell_type": "code",
   "execution_count": null,
   "metadata": {},
   "outputs": [],
   "source": []
  },
  {
   "cell_type": "code",
   "execution_count": 1,
   "metadata": {},
   "outputs": [
    {
     "name": "stdout",
     "output_type": "stream",
     "text": [
      "Time taken in seconds - 0.0\n"
     ]
    }
   ],
   "source": [
    "import time, os\n",
    "from threading import Thread, current_thread\n",
    "from multiprocessing import Process, current_process\n",
    "\n",
    "\n",
    "COUNT = 200000000\n",
    "SLEEP = 10\n",
    "\n",
    "def io_bound(sec):\n",
    "\n",
    "\tpid = os.getpid()\n",
    "\tthreadName = current_thread().name\n",
    "\tprocessName = current_process().name\n",
    "\n",
    "\tprint(f\"{pid} * {processName} * {threadName} \\\n",
    "\t\t---> Start sleeping...\")\n",
    "\ttime.sleep(sec)\n",
    "\tprint(f\"{pid} * {processName} * {threadName} \\\n",
    "\t\t---> Finished sleeping...\")\n",
    "\n",
    "def cpu_bound(n):\n",
    "\n",
    "\tpid = os.getpid()\n",
    "\tthreadName = current_thread().name\n",
    "\tprocessName = current_process().name\n",
    "\n",
    "\tprint(f\"{pid} * {processName} * {threadName} \\\n",
    "\t\t---> Start counting...\")\n",
    "\n",
    "\twhile n>0:\n",
    "\t\tn -= 1\n",
    "\n",
    "\tprint(f\"{pid} * {processName} * {threadName} \\\n",
    "\t\t---> Finished counting...\")\n",
    "\n",
    "if __name__==\"__main__\":\n",
    "\tstart = time.time()\n",
    "\n",
    "\t# YOUR CODE SNIPPET HERE\n",
    "\n",
    "\tend = time.time()\n",
    "\tprint('Time taken in seconds -', end - start)\n"
   ]
  },
  {
   "cell_type": "code",
   "execution_count": null,
   "metadata": {},
   "outputs": [],
   "source": []
  },
  {
   "cell_type": "code",
   "execution_count": 11,
   "metadata": {},
   "outputs": [
    {
     "name": "stdout",
     "output_type": "stream",
     "text": [
      "Coders:   0\n",
      "Coders:   1\n",
      "Coders:   2\n",
      "Coders:   3\n",
      "Coders:   4\n"
     ]
    }
   ],
   "source": [
    "import threading\n",
    "\n",
    "def coder(number):\n",
    "    print ('Coders:  ' , number)\n",
    "    return\n",
    "\n",
    "threads = []\n",
    "for k in range(5):\n",
    "    t = threading.Thread(target=coder, args=(k,))\n",
    "    threads.append(t)\n",
    "    t.start()"
   ]
  },
  {
   "cell_type": "code",
   "execution_count": null,
   "metadata": {},
   "outputs": [],
   "source": []
  }
 ],
 "metadata": {
  "kernelspec": {
   "display_name": "Python 3",
   "language": "python",
   "name": "python3"
  },
  "language_info": {
   "codemirror_mode": {
    "name": "ipython",
    "version": 3
   },
   "file_extension": ".py",
   "mimetype": "text/x-python",
   "name": "python",
   "nbconvert_exporter": "python",
   "pygments_lexer": "ipython3",
   "version": "3.7.1"
  }
 },
 "nbformat": 4,
 "nbformat_minor": 2
}
