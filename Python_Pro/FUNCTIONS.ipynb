{
 "cells": [
  {
   "cell_type": "markdown",
   "metadata": {},
   "source": [
    "# Python Functions"
   ]
  },
  {
   "cell_type": "code",
   "execution_count": 8,
   "metadata": {},
   "outputs": [],
   "source": [
    "## Function with out return or output(print) values\n",
    "def hello_world():\n",
    "    pass\n",
    "    \n",
    "\n",
    "hello_world()\n",
    "\n",
    "\n",
    "    "
   ]
  },
  {
   "cell_type": "code",
   "execution_count": 9,
   "metadata": {},
   "outputs": [
    {
     "name": "stdout",
     "output_type": "stream",
     "text": [
      "None\n"
     ]
    }
   ],
   "source": [
    "print(hello_world())"
   ]
  },
  {
   "cell_type": "code",
   "execution_count": 10,
   "metadata": {},
   "outputs": [
    {
     "name": "stdout",
     "output_type": "stream",
     "text": [
      "Hello World\n"
     ]
    }
   ],
   "source": [
    "def hello_world():\n",
    "    print(\"Hello World\")\n",
    "    \n",
    "hello_world()"
   ]
  },
  {
   "cell_type": "code",
   "execution_count": 1,
   "metadata": {},
   "outputs": [
    {
     "name": "stdout",
     "output_type": "stream",
     "text": [
      "Hello Function\n",
      "HELLO FUNCTION\n"
     ]
    }
   ],
   "source": [
    "def hello_func():\n",
    "    return \"Hello Function\"\n",
    "\n",
    "\n",
    "print(hello_func())\n",
    "print(hello_func().upper())"
   ]
  },
  {
   "cell_type": "markdown",
   "metadata": {},
   "source": [
    "# Passing Parameters"
   ]
  },
  {
   "cell_type": "code",
   "execution_count": 1,
   "metadata": {},
   "outputs": [
    {
     "name": "stdout",
     "output_type": "stream",
     "text": [
      "Welcome Function \n"
     ]
    }
   ],
   "source": [
    "def hello_func(greeting):\n",
    "    #return f'{greeting} Function'\n",
    "    return '{} Function '.format(greeting)\n",
    "\n",
    "print(hello_func(\"Welcome\"))"
   ]
  },
  {
   "cell_type": "markdown",
   "metadata": {},
   "source": [
    "### Accessing Variables Across the functions"
   ]
  },
  {
   "cell_type": "code",
   "execution_count": 3,
   "metadata": {},
   "outputs": [
    {
     "name": "stdout",
     "output_type": "stream",
     "text": [
      "Tata Groups\n",
      "The company name is TCS and it is belongs to  Tata Groups\n"
     ]
    },
    {
     "data": {
      "text/plain": [
       "'Tata Groups'"
      ]
     },
     "execution_count": 3,
     "metadata": {},
     "output_type": "execute_result"
    }
   ],
   "source": [
    "org_name = None\n",
    "def parent_company():\n",
    "    global org_name\n",
    "    org_name = \"Tata Groups\"\n",
    "    print (org_name)\n",
    "def child_company():\n",
    "    print(\"The company name is TCS and it is belongs to \", org_name)\n",
    "    \n",
    "parent_company()    \n",
    "child_company()  \n",
    "org_name"
   ]
  },
  {
   "cell_type": "code",
   "execution_count": 32,
   "metadata": {},
   "outputs": [
    {
     "name": "stdout",
     "output_type": "stream",
     "text": [
      "\n",
      "100\n",
      "Tha variable name is  Welcome \n",
      "100\n"
     ]
    }
   ],
   "source": [
    "name = None\n",
    "def fun1():\n",
    "    global name\n",
    "    fun1.var = 100\n",
    "    name =\"Welcome \"\n",
    "    \n",
    "    print()\n",
    "\n",
    "def fun2():\n",
    "    print(fun1.var)\n",
    "    print(\"Tha variable name is \",name)\n",
    "\n",
    "fun1()\n",
    "fun2()\n",
    "\n",
    "print(fun1.var)\n"
   ]
  },
  {
   "cell_type": "markdown",
   "metadata": {},
   "source": [
    "# Multiple Parameters"
   ]
  },
  {
   "cell_type": "code",
   "execution_count": 6,
   "metadata": {},
   "outputs": [
    {
     "name": "stdout",
     "output_type": "stream",
     "text": [
      "Hi False\n"
     ]
    }
   ],
   "source": [
    "def hello_func(greeting, name='Karthik'):\n",
    "    return f'{greeting} {name}'\n",
    "    #return '{} Function '.format(greeting)\n",
    "\n",
    "print(hello_func(\"Hi\", False))"
   ]
  },
  {
   "cell_type": "code",
   "execution_count": 14,
   "metadata": {},
   "outputs": [
    {
     "name": "stdout",
     "output_type": "stream",
     "text": [
      "Hi Karthik\n"
     ]
    }
   ],
   "source": [
    "def hello_func(greeting, name):\n",
    "    return f'{greeting} {name}'\n",
    "    #return '{} Function '.format(greeting)\n",
    "\n",
    "print(hello_func(\"Hi\", \"Karthik\"))"
   ]
  },
  {
   "cell_type": "code",
   "execution_count": null,
   "metadata": {},
   "outputs": [],
   "source": []
  },
  {
   "cell_type": "markdown",
   "metadata": {},
   "source": [
    "## Private Method, Variable, Class"
   ]
  },
  {
   "cell_type": "code",
   "execution_count": 5,
   "metadata": {},
   "outputs": [
    {
     "name": "stdout",
     "output_type": "stream",
     "text": [
      "Private Variable value:  27\n"
     ]
    },
    {
     "data": {
      "text/plain": [
       "55"
      ]
     },
     "execution_count": 5,
     "metadata": {},
     "output_type": "execute_result"
    }
   ],
   "source": [
    "class myClass:\n",
    "   publicvar = 55\n",
    "   __privateVar = 27;\n",
    "   def __privMeth(self):\n",
    "      print(\"I'm inside class myClass\")\n",
    "   def hello(self):\n",
    "      print(\"Private Variable value: \",myClass.__privateVar)\n",
    "foo = myClass()\n",
    "foo.hello()\n",
    "foo.publicvar\n",
    "#foo.__privateMeth()"
   ]
  },
  {
   "cell_type": "code",
   "execution_count": 6,
   "metadata": {},
   "outputs": [
    {
     "ename": "AttributeError",
     "evalue": "'subclass' object has no attribute '__privateVar'",
     "output_type": "error",
     "traceback": [
      "\u001b[0;31m---------------------------------------------------------------------------\u001b[0m",
      "\u001b[0;31mAttributeError\u001b[0m                            Traceback (most recent call last)",
      "\u001b[0;32m<ipython-input-6-89cc1f4019c4>\u001b[0m in \u001b[0;36m<module>\u001b[0;34m\u001b[0m\n\u001b[1;32m      2\u001b[0m     \u001b[0;32mpass\u001b[0m\u001b[0;34m\u001b[0m\u001b[0;34m\u001b[0m\u001b[0m\n\u001b[1;32m      3\u001b[0m \u001b[0mdata\u001b[0m \u001b[0;34m=\u001b[0m \u001b[0msubclass\u001b[0m\u001b[0;34m(\u001b[0m\u001b[0;34m)\u001b[0m\u001b[0;34m\u001b[0m\u001b[0;34m\u001b[0m\u001b[0m\n\u001b[0;32m----> 4\u001b[0;31m \u001b[0mprint\u001b[0m\u001b[0;34m(\u001b[0m\u001b[0mdata\u001b[0m\u001b[0;34m.\u001b[0m\u001b[0m__privateVar\u001b[0m\u001b[0;34m)\u001b[0m\u001b[0;34m\u001b[0m\u001b[0;34m\u001b[0m\u001b[0m\n\u001b[0m",
      "\u001b[0;31mAttributeError\u001b[0m: 'subclass' object has no attribute '__privateVar'"
     ]
    }
   ],
   "source": [
    "class subclass(myClass):\n",
    "    pass\n",
    "data = subclass()\n",
    "print(data.__privateVar)"
   ]
  },
  {
   "cell_type": "code",
   "execution_count": null,
   "metadata": {},
   "outputs": [],
   "source": []
  },
  {
   "cell_type": "markdown",
   "metadata": {},
   "source": [
    "# Unpacked the Parameters"
   ]
  },
  {
   "cell_type": "code",
   "execution_count": 2,
   "metadata": {},
   "outputs": [
    {
     "name": "stdout",
     "output_type": "stream",
     "text": [
      "name Karthik\n",
      "age 30\n"
     ]
    }
   ],
   "source": [
    "def student_details(*args, **kwargs):\n",
    "    #print(args)\n",
    "    #print(kwargs)\n",
    "    for key, value in kwargs.items():\n",
    "        print(key, value)\n",
    "        \n",
    "    \n",
    "courses = ['Maths','Science']\n",
    "info = {'name':'Karthik', 'age':'30'}\n",
    "\n",
    "student_details(*courses, **info)    "
   ]
  },
  {
   "cell_type": "code",
   "execution_count": 11,
   "metadata": {},
   "outputs": [
    {
     "name": "stdout",
     "output_type": "stream",
     "text": [
      "name Karthik\n",
      "Key already avilable, Don't update \n",
      "age 30\n",
      "{'id': 9254, 'Dept': 'Automation', 'name': 'Karthik', 'age': 30}\n"
     ]
    }
   ],
   "source": [
    "def student_details(*args, **kwargs):\n",
    "    #print(args)\n",
    "    #print(kwargs)\n",
    "    stud_details = {'id': 9254, 'Dept': 'Automation', 'name':'Karthik'}\n",
    "    for key, value in kwargs.items():\n",
    "        print(key, value)\n",
    "        if key in stud_details:\n",
    "            print(\"Key already avilable, Don't update \")\n",
    "        else:\n",
    "            stud_details[key]=value\n",
    "\n",
    "    print(stud_details)              \n",
    "        \n",
    "        \n",
    "        \n",
    "courses = ['Maths','Science']\n",
    "info = {'name':'Karthik', 'age':30}\n",
    "\n",
    "student_details(*courses, **info)   "
   ]
  },
  {
   "cell_type": "markdown",
   "metadata": {},
   "source": [
    "### Finding leap_year and number of days in month"
   ]
  },
  {
   "cell_type": "code",
   "execution_count": 5,
   "metadata": {},
   "outputs": [
    {
     "name": "stdout",
     "output_type": "stream",
     "text": [
      "Enter the year 2100\n",
      "Enter the month 2\n",
      "It is a leap year False\n",
      "It is a leap year False\n"
     ]
    },
    {
     "data": {
      "text/plain": [
       "28"
      ]
     },
     "execution_count": 5,
     "metadata": {},
     "output_type": "execute_result"
    }
   ],
   "source": [
    "month_days = [0, 31,28,31,30,31,30,31,31,30,31,30,31]\n",
    "\n",
    "def is_leap(year):\n",
    "    print (\"It is a leap year\", year % 4 == 0 and (year % 100 != 0 or year % 400 == 0))\n",
    "\n",
    "def days_in_month(year, month):\n",
    "    if month <= 0 and month <= 12:\n",
    "        print(\"Enter a valid month\")\n",
    "        \n",
    "    if month == 2 and is_leap(year):\n",
    "        return 29\n",
    "    \n",
    "    return month_days[month]\n",
    "    \n",
    "\n",
    "\n",
    "year = int(input(\"Enter the year \"))\n",
    "month = int(input(\"Enter the month \"))\n",
    "is_leap(year)\n",
    "days_in_month(year, month)"
   ]
  },
  {
   "cell_type": "markdown",
   "metadata": {},
   "source": [
    "# GLOBAL and LOCAL Variables (LEGB)"
   ]
  },
  {
   "cell_type": "code",
   "execution_count": 20,
   "metadata": {},
   "outputs": [
    {
     "name": "stdout",
     "output_type": "stream",
     "text": [
      "local y\n",
      "global x\n",
      "global x\n",
      "local y\n"
     ]
    }
   ],
   "source": [
    "x = 'global x'\n",
    "\n",
    "def test():\n",
    "    global y\n",
    "    y = 'local y'\n",
    "    print(y)\n",
    "    print(x)\n",
    "    \n",
    "test()  \n",
    "print(x)\n",
    "print(y)"
   ]
  },
  {
   "cell_type": "code",
   "execution_count": 18,
   "metadata": {},
   "outputs": [
    {
     "name": "stdout",
     "output_type": "stream",
     "text": [
      "global x\n"
     ]
    }
   ],
   "source": [
    "print(x)"
   ]
  },
  {
   "cell_type": "code",
   "execution_count": 19,
   "metadata": {},
   "outputs": [
    {
     "name": "stdout",
     "output_type": "stream",
     "text": [
      "local y\n"
     ]
    }
   ],
   "source": []
  },
  {
   "cell_type": "code",
   "execution_count": 22,
   "metadata": {},
   "outputs": [
    {
     "name": "stdout",
     "output_type": "stream",
     "text": [
      "local x\n",
      "global x\n"
     ]
    }
   ],
   "source": [
    "x = 'global x'\n",
    "def test():\n",
    "    x = 'local x'\n",
    "    print(x)\n",
    "    \n",
    "test() \n",
    "print(x)"
   ]
  },
  {
   "cell_type": "markdown",
   "metadata": {},
   "source": [
    "# Alter Global variable locally"
   ]
  },
  {
   "cell_type": "code",
   "execution_count": 23,
   "metadata": {},
   "outputs": [
    {
     "name": "stdout",
     "output_type": "stream",
     "text": [
      "local x\n",
      "local x\n"
     ]
    }
   ],
   "source": [
    "yx = 'global x'\n",
    "def test():\n",
    "    global yx\n",
    "    yx = 'local x'\n",
    "    print(yx)\n",
    "    \n",
    "test() \n",
    "print(yx)\n"
   ]
  },
  {
   "cell_type": "markdown",
   "metadata": {},
   "source": [
    "# NON-LOCAL & Nested Function"
   ]
  },
  {
   "cell_type": "code",
   "execution_count": 24,
   "metadata": {},
   "outputs": [
    {
     "name": "stdout",
     "output_type": "stream",
     "text": [
      "inner x\n",
      "outer x\n"
     ]
    }
   ],
   "source": [
    "def outer():\n",
    "    x = 'outer x'\n",
    "    def inner():\n",
    "        x = 'inner x'\n",
    "        print(x)\n",
    "    inner()  \n",
    "    print(x)\n",
    "\n",
    "outer()"
   ]
  },
  {
   "cell_type": "code",
   "execution_count": 25,
   "metadata": {},
   "outputs": [
    {
     "name": "stdout",
     "output_type": "stream",
     "text": [
      "inner x\n",
      "inner x\n"
     ]
    }
   ],
   "source": [
    "def outer():\n",
    "    x = 'outer x'\n",
    "    def inner():\n",
    "        nonlocal x ### Should not use GLOBAL here\n",
    "        x = 'inner x'\n",
    "        print(x)\n",
    "    inner()  \n",
    "    print(x)\n",
    "\n",
    "outer()\n"
   ]
  },
  {
   "cell_type": "code",
   "execution_count": 21,
   "metadata": {},
   "outputs": [
    {
     "name": "stdout",
     "output_type": "stream",
     "text": [
      "inner x\n",
      "inner x\n",
      "global x\n"
     ]
    }
   ],
   "source": [
    "x = 'global x'\n",
    "def outer():\n",
    "    x = 'outer x'\n",
    "    def inner():\n",
    "        nonlocal x ### Should not use GLOBAL here /// It is used in nested function only\n",
    "        x = 'inner x'\n",
    "        print(x)\n",
    "    inner()  \n",
    "    print(x)\n",
    "\n",
    "outer()\n",
    "print(x)"
   ]
  },
  {
   "cell_type": "code",
   "execution_count": 22,
   "metadata": {},
   "outputs": [
    {
     "name": "stdout",
     "output_type": "stream",
     "text": [
      "Inside add(): 2\n",
      "In main: 2\n"
     ]
    }
   ],
   "source": [
    "c = 0 # global variable\n",
    "\n",
    "def add():\n",
    "    global c\n",
    "    c =  2 # increment by 2\n",
    "    print(\"Inside add():\", c)\n",
    "\n",
    "add()\n",
    "print(\"In main:\", c)"
   ]
  },
  {
   "cell_type": "markdown",
   "metadata": {},
   "source": [
    "# LAMBDA Function\n",
    "\n",
    "A lambda function is a small anonymous function.\n",
    "\n",
    "A lambda function can take any number of arguments, but can only have one expression.\n",
    "\n",
    "Its a one line code, very short and simple function"
   ]
  },
  {
   "cell_type": "code",
   "execution_count": 21,
   "metadata": {},
   "outputs": [
    {
     "name": "stdout",
     "output_type": "stream",
     "text": [
      "600\n"
     ]
    }
   ],
   "source": [
    "x = 20\n",
    "y = 30\n",
    "mul = lambda x,y:x * y\n",
    "\n",
    "print(mul(x,y))\n"
   ]
  },
  {
   "cell_type": "code",
   "execution_count": 22,
   "metadata": {},
   "outputs": [
    {
     "name": "stdout",
     "output_type": "stream",
     "text": [
      "5.0\n"
     ]
    }
   ],
   "source": [
    "div  = lambda x,y: x/y\n",
    "print(div(100,20))"
   ]
  },
  {
   "cell_type": "code",
   "execution_count": 23,
   "metadata": {},
   "outputs": [
    {
     "name": "stdout",
     "output_type": "stream",
     "text": [
      "90\n"
     ]
    }
   ],
   "source": [
    "z= 40\n",
    "addtion = lambda x,y,z: x+y+z\n",
    "print(addtion(x,y,z))"
   ]
  },
  {
   "cell_type": "code",
   "execution_count": 30,
   "metadata": {},
   "outputs": [
    {
     "name": "stdout",
     "output_type": "stream",
     "text": [
      "16\n"
     ]
    }
   ],
   "source": [
    "a = 2\n",
    "b = 4\n",
    "\n",
    "expon = lambda a, b: a**b\n",
    "print(expon(a,b))    "
   ]
  },
  {
   "cell_type": "code",
   "execution_count": 35,
   "metadata": {},
   "outputs": [
    {
     "name": "stdout",
     "output_type": "stream",
     "text": [
      "True\n"
     ]
    }
   ],
   "source": [
    "comparision = lambda a, b: a < b \n",
    "print(comparision(a,b))    "
   ]
  },
  {
   "cell_type": "code",
   "execution_count": 22,
   "metadata": {},
   "outputs": [
    {
     "name": "stdout",
     "output_type": "stream",
     "text": [
      "38\n"
     ]
    }
   ],
   "source": [
    "comp = lambda x,y: x if x > y else y\n",
    "\n",
    "print(comp(34, 38))"
   ]
  },
  {
   "cell_type": "code",
   "execution_count": 26,
   "metadata": {},
   "outputs": [
    {
     "name": "stdout",
     "output_type": "stream",
     "text": [
      "340\n"
     ]
    }
   ],
   "source": [
    "comp = lambda x,y,z: x if (x > y) & (x > z) else (y if (y > x) & (y > z) else z) \n",
    "print(comp(340, 30,40))\n"
   ]
  },
  {
   "cell_type": "code",
   "execution_count": 66,
   "metadata": {},
   "outputs": [
    {
     "name": "stdout",
     "output_type": "stream",
     "text": [
      "100\n"
     ]
    }
   ],
   "source": [
    "s_root = lambda x: x**2\n",
    "print(s_root(10))"
   ]
  },
  {
   "cell_type": "markdown",
   "metadata": {},
   "source": [
    "# MAP Function\n",
    "\n",
    "Apply same function to each element in a sequence / list"
   ]
  },
  {
   "cell_type": "code",
   "execution_count": 24,
   "metadata": {},
   "outputs": [
    {
     "name": "stdout",
     "output_type": "stream",
     "text": [
      "[500, 320, 180, 80]\n"
     ]
    }
   ],
   "source": [
    "squars = [25,16,9,4]\n",
    "\n",
    "s_root = list(map(lambda x: x*20, squars))\n",
    "print(s_root)"
   ]
  },
  {
   "cell_type": "code",
   "execution_count": 26,
   "metadata": {},
   "outputs": [
    {
     "data": {
      "text/plain": [
       "[25.0, 16.0, 9.0, 4.0]"
      ]
     },
     "execution_count": 26,
     "metadata": {},
     "output_type": "execute_result"
    }
   ],
   "source": [
    "list(map(lambda x: x/1, squars))"
   ]
  },
  {
   "cell_type": "code",
   "execution_count": 25,
   "metadata": {},
   "outputs": [
    {
     "name": "stdout",
     "output_type": "stream",
     "text": [
      "[101, 102, 103, 104]\n"
     ]
    }
   ],
   "source": [
    "index = [1,2,3,4]\n",
    "new_index = list(map(lambda x: x+100, index))\n",
    "print(new_index)"
   ]
  },
  {
   "cell_type": "code",
   "execution_count": 43,
   "metadata": {},
   "outputs": [
    {
     "name": "stdout",
     "output_type": "stream",
     "text": [
      "[100, 200, 300, 400, 500]\n"
     ]
    }
   ],
   "source": [
    "data = [10, 20, 30, 40, 50]\n",
    "\n",
    "multiple = list(map(lambda x: x * 10, data))\n",
    "print(multiple)"
   ]
  },
  {
   "cell_type": "code",
   "execution_count": 32,
   "metadata": {},
   "outputs": [
    {
     "name": "stdout",
     "output_type": "stream",
     "text": [
      "['KARTHIK', 'SELVA', 'APOORV']\n"
     ]
    }
   ],
   "source": [
    "names = ['Karthik','Selva','Apoorv']\n",
    "\n",
    "print(list(map(lambda name: name.upper(),names)))"
   ]
  },
  {
   "cell_type": "code",
   "execution_count": 33,
   "metadata": {},
   "outputs": [
    {
     "name": "stdout",
     "output_type": "stream",
     "text": [
      "['karthik', 'selva', 'apoorv']\n"
     ]
    }
   ],
   "source": [
    "print(list(map(lambda name: name.lower(),names)))"
   ]
  },
  {
   "cell_type": "markdown",
   "metadata": {},
   "source": [
    "# Filter Function\n",
    "Apply some condition and filter items out of a sequence. \n",
    "Return filtered list"
   ]
  },
  {
   "cell_type": "code",
   "execution_count": 31,
   "metadata": {},
   "outputs": [
    {
     "name": "stdout",
     "output_type": "stream",
     "text": [
      "[9, 4]\n"
     ]
    }
   ],
   "source": [
    "squars = [25,16,9,4]\n",
    "\n",
    "print(list(filter(lambda x: x<10,squars)))"
   ]
  },
  {
   "cell_type": "code",
   "execution_count": 26,
   "metadata": {},
   "outputs": [
    {
     "name": "stdout",
     "output_type": "stream",
     "text": [
      "[102, 104]\n"
     ]
    }
   ],
   "source": [
    "even_num_index = list(filter(lambda x: x%2 == 0, new_index))\n",
    "print(even_num_index)"
   ]
  },
  {
   "cell_type": "code",
   "execution_count": 34,
   "metadata": {},
   "outputs": [
    {
     "name": "stdout",
     "output_type": "stream",
     "text": [
      "['Karthik', 'Apoorv']\n"
     ]
    }
   ],
   "source": [
    "print(list(filter(lambda name: len(name) > 5, names)))"
   ]
  },
  {
   "cell_type": "code",
   "execution_count": 27,
   "metadata": {},
   "outputs": [
    {
     "name": "stdout",
     "output_type": "stream",
     "text": [
      "[16, 4]\n"
     ]
    }
   ],
   "source": [
    "print(list(filter(lambda x: x % 2 == 0,squars)))"
   ]
  },
  {
   "cell_type": "markdown",
   "metadata": {},
   "source": [
    "# Reduce\n",
    "Apply some function in between the list elements and return a single element as final result"
   ]
  },
  {
   "cell_type": "code",
   "execution_count": null,
   "metadata": {},
   "outputs": [],
   "source": []
  },
  {
   "cell_type": "code",
   "execution_count": 29,
   "metadata": {},
   "outputs": [
    {
     "name": "stdout",
     "output_type": "stream",
     "text": [
      "15\n"
     ]
    }
   ],
   "source": [
    "from functools import reduce\n",
    "n = [5,4,3,2,1]\n",
    "print(reduce(lambda x,y: x+y,n))"
   ]
  },
  {
   "cell_type": "code",
   "execution_count": 39,
   "metadata": {},
   "outputs": [
    {
     "name": "stdout",
     "output_type": "stream",
     "text": [
      "['Karthik', 'Selva', 'Apoorv']\n"
     ]
    }
   ],
   "source": [
    "print(names)"
   ]
  },
  {
   "cell_type": "code",
   "execution_count": 42,
   "metadata": {},
   "outputs": [
    {
     "name": "stdout",
     "output_type": "stream",
     "text": [
      "Karthik - Selva - Apoorv\n"
     ]
    }
   ],
   "source": [
    "\n",
    "concat = reduce(lambda x,y: x+\" - \"+y, names)\n",
    "print(concat)"
   ]
  },
  {
   "cell_type": "code",
   "execution_count": 44,
   "metadata": {},
   "outputs": [
    {
     "name": "stdout",
     "output_type": "stream",
     "text": [
      "24\n",
      "-8\n"
     ]
    }
   ],
   "source": [
    "n = [1,2,3,4]\n",
    "print(reduce(lambda x,y: x*y,n))\n",
    "print(reduce(lambda x,y: x-y,n))"
   ]
  },
  {
   "cell_type": "markdown",
   "metadata": {},
   "source": [
    "## LIST Comprehension"
   ]
  },
  {
   "cell_type": "code",
   "execution_count": 45,
   "metadata": {},
   "outputs": [
    {
     "name": "stdout",
     "output_type": "stream",
     "text": [
      "[2, 4, 6, 8, 10, 12, 14, 16, 18]\n"
     ]
    }
   ],
   "source": [
    "n = range(20)\n",
    "\n",
    "\n",
    "numbers = [i for i in range(1,20) if i%2 == 0]\n",
    "\n",
    "print(numbers)"
   ]
  },
  {
   "cell_type": "code",
   "execution_count": null,
   "metadata": {},
   "outputs": [],
   "source": []
  },
  {
   "cell_type": "code",
   "execution_count": null,
   "metadata": {},
   "outputs": [],
   "source": [
    "comp = lambda x,y,z: x if (x > y) & (x > z) else (y if (y > x) & (y > z) else z) \n",
    "\n"
   ]
  },
  {
   "cell_type": "code",
   "execution_count": null,
   "metadata": {},
   "outputs": [],
   "source": []
  },
  {
   "cell_type": "code",
   "execution_count": 28,
   "metadata": {},
   "outputs": [
    {
     "data": {
      "text/plain": [
       "[]"
      ]
     },
     "execution_count": 28,
     "metadata": {},
     "output_type": "execute_result"
    }
   ],
   "source": [
    "x"
   ]
  },
  {
   "cell_type": "code",
   "execution_count": 46,
   "metadata": {},
   "outputs": [
    {
     "name": "stdout",
     "output_type": "stream",
     "text": [
      "[0, 2, 4, 6, 8]\n",
      "[1, 3, 5, 7, 9]\n"
     ]
    }
   ],
   "source": [
    "x = []\n",
    "y = []\n",
    "lst  =  [x.append(i) if i%2==0 else y.append(i) for i in range (10)] \n",
    "\n",
    "print(x)\n",
    "print(y)"
   ]
  },
  {
   "cell_type": "code",
   "execution_count": 41,
   "metadata": {},
   "outputs": [
    {
     "ename": "SyntaxError",
     "evalue": "invalid syntax (<ipython-input-41-3858f67c6d62>, line 12)",
     "output_type": "error",
     "traceback": [
      "\u001b[0;36m  File \u001b[0;32m\"<ipython-input-41-3858f67c6d62>\"\u001b[0;36m, line \u001b[0;32m12\u001b[0m\n\u001b[0;31m    com = [a if (a > b & a > c) b elif (b > a & b > c) c else]\u001b[0m\n\u001b[0m                                ^\u001b[0m\n\u001b[0;31mSyntaxError\u001b[0m\u001b[0;31m:\u001b[0m invalid syntax\n"
     ]
    }
   ],
   "source": [
    "a = 3\n",
    "b = 2\n",
    "c = 5\n",
    "\n",
    "if a > b & a > c:\n",
    "    print(\"A is biggest \",a)\n",
    "elif b > a & b > c:    \n",
    "    print(\"B is biggest \",b)\n",
    "else:\n",
    "    print(\"C is biggest \",c)\n",
    "\n",
    "com = [a if (a > b & a > c) b elif (b > a & b > c) c else]"
   ]
  },
  {
   "cell_type": "code",
   "execution_count": 59,
   "metadata": {},
   "outputs": [],
   "source": [
    "import datetime as datetime"
   ]
  },
  {
   "cell_type": "code",
   "execution_count": 65,
   "metadata": {},
   "outputs": [
    {
     "name": "stdout",
     "output_type": "stream",
     "text": [
      "2021-10-07\n"
     ]
    }
   ],
   "source": [
    "date = datetime.datetime.now()\n",
    "print(date.strftime(\"%Y-%m-%d\"))"
   ]
  },
  {
   "cell_type": "markdown",
   "metadata": {},
   "source": [
    "### 7. regex to find a valid IP adress ex: 10.0.15.81 is valid 10.123.324.888 is invalid\n"
   ]
  },
  {
   "cell_type": "code",
   "execution_count": 32,
   "metadata": {},
   "outputs": [],
   "source": [
    "import re"
   ]
  },
  {
   "cell_type": "code",
   "execution_count": 39,
   "metadata": {},
   "outputs": [
    {
     "name": "stdout",
     "output_type": "stream",
     "text": [
      "No match\n"
     ]
    }
   ],
   "source": [
    "ip1 = \"10.0.15.81\"\n",
    "ip2 = \"10.123.324.888\"\n",
    "regex = \"^10\\.[0-255]\\.[0-255]\\.[0-255]$\" \n",
    "\n",
    "if (re.search(regex, ip1)):\n",
    "    print(\"Match case\")\n",
    "else:\n",
    "    print(\"No match\")\n"
   ]
  },
  {
   "cell_type": "code",
   "execution_count": null,
   "metadata": {},
   "outputs": [],
   "source": []
  },
  {
   "cell_type": "code",
   "execution_count": null,
   "metadata": {},
   "outputs": [],
   "source": []
  },
  {
   "cell_type": "code",
   "execution_count": null,
   "metadata": {},
   "outputs": [],
   "source": []
  },
  {
   "cell_type": "code",
   "execution_count": null,
   "metadata": {},
   "outputs": [],
   "source": []
  },
  {
   "cell_type": "code",
   "execution_count": null,
   "metadata": {},
   "outputs": [],
   "source": []
  },
  {
   "cell_type": "markdown",
   "metadata": {},
   "source": [
    "# Decorators"
   ]
  },
  {
   "cell_type": "code",
   "execution_count": null,
   "metadata": {},
   "outputs": [],
   "source": [
    "def main_welcome(func):\n",
    "    def sub_class_function():\n",
    "        \n",
    "    "
   ]
  },
  {
   "cell_type": "code",
   "execution_count": 6,
   "metadata": {},
   "outputs": [
    {
     "name": "stdout",
     "output_type": "stream",
     "text": [
      "3.05\n"
     ]
    }
   ],
   "source": [
    "def div(a, b):\n",
    "    print(a/b)\n",
    "\n",
    "def smart_div(meth):\n",
    "    def inner(a, b):\n",
    "        if a < b:\n",
    "            a, b = b, a\n",
    "        return meth(a, b)\n",
    "    return inner\n",
    "\n",
    "div = smart_div(div)\n",
    "div(122,40)"
   ]
  },
  {
   "cell_type": "code",
   "execution_count": null,
   "metadata": {},
   "outputs": [],
   "source": [
    "\n"
   ]
  },
  {
   "cell_type": "code",
   "execution_count": 58,
   "metadata": {},
   "outputs": [],
   "source": [
    "def greeting():\n",
    "    def welcome():\n",
    "        print(\"This is greeting function\")\n",
    "\n",
    "    return welcome\n"
   ]
  },
  {
   "cell_type": "code",
   "execution_count": null,
   "metadata": {},
   "outputs": [],
   "source": []
  },
  {
   "cell_type": "code",
   "execution_count": 59,
   "metadata": {},
   "outputs": [
    {
     "name": "stdout",
     "output_type": "stream",
     "text": [
      "<class 'function'>\n"
     ]
    }
   ],
   "source": [
    "wel = greeting()\n",
    "print(type(wel))"
   ]
  },
  {
   "cell_type": "code",
   "execution_count": 60,
   "metadata": {},
   "outputs": [
    {
     "name": "stdout",
     "output_type": "stream",
     "text": [
      "This is greeting function\n"
     ]
    }
   ],
   "source": [
    "wel()"
   ]
  },
  {
   "cell_type": "code",
   "execution_count": 51,
   "metadata": {},
   "outputs": [
    {
     "name": "stdout",
     "output_type": "stream",
     "text": [
      "<class 'function'>\n"
     ]
    }
   ],
   "source": [
    "def print_msg(msg):\n",
    "    # This is the outer enclosing function\n",
    "\n",
    "    def printer():\n",
    "        # This is the nested function\n",
    "        print(msg)\n",
    "\n",
    "    return printer  # returns the nested function\n",
    "\n",
    "\n",
    "# Now let's try calling this function.\n",
    "# Output: Hello\n",
    "another = print_msg(\"Hello\")\n",
    "print(type(another))"
   ]
  },
  {
   "cell_type": "code",
   "execution_count": 50,
   "metadata": {},
   "outputs": [
    {
     "name": "stdout",
     "output_type": "stream",
     "text": [
      "Hello\n"
     ]
    }
   ],
   "source": [
    "another()"
   ]
  },
  {
   "cell_type": "code",
   "execution_count": null,
   "metadata": {},
   "outputs": [],
   "source": []
  }
 ],
 "metadata": {
  "kernelspec": {
   "display_name": "Python 3",
   "language": "python",
   "name": "python3"
  },
  "language_info": {
   "codemirror_mode": {
    "name": "ipython",
    "version": 3
   },
   "file_extension": ".py",
   "mimetype": "text/x-python",
   "name": "python",
   "nbconvert_exporter": "python",
   "pygments_lexer": "ipython3",
   "version": "3.7.1"
  }
 },
 "nbformat": 4,
 "nbformat_minor": 2
}
