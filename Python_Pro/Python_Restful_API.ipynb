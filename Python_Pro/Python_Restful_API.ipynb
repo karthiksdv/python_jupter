{
 "cells": [
  {
   "cell_type": "markdown",
   "metadata": {},
   "source": [
    "# Simple python rest api  -- using requests module"
   ]
  },
  {
   "cell_type": "code",
   "execution_count": 1,
   "metadata": {},
   "outputs": [],
   "source": [
    "import requests"
   ]
  },
  {
   "cell_type": "code",
   "execution_count": 48,
   "metadata": {
    "scrolled": false
   },
   "outputs": [
    {
     "ename": "TypeError",
     "evalue": "'Response' object is not subscriptable",
     "output_type": "error",
     "traceback": [
      "\u001b[0;31m---------------------------------------------------------------------------\u001b[0m",
      "\u001b[0;31mTypeError\u001b[0m                                 Traceback (most recent call last)",
      "\u001b[0;32m<ipython-input-48-823b63e4de6f>\u001b[0m in \u001b[0;36m<module>\u001b[0;34m\u001b[0m\n\u001b[1;32m      5\u001b[0m \u001b[0;31m#print(response['message'])\u001b[0m\u001b[0;34m\u001b[0m\u001b[0;34m\u001b[0m\u001b[0;34m\u001b[0m\u001b[0m\n\u001b[1;32m      6\u001b[0m \u001b[0;31m#print(response.people)\u001b[0m\u001b[0;34m\u001b[0m\u001b[0;34m\u001b[0m\u001b[0;34m\u001b[0m\u001b[0m\n\u001b[0;32m----> 7\u001b[0;31m \u001b[0mprint\u001b[0m\u001b[0;34m(\u001b[0m\u001b[0mresponse\u001b[0m\u001b[0;34m[\u001b[0m\u001b[0;34m'username'\u001b[0m\u001b[0;34m]\u001b[0m\u001b[0;34m)\u001b[0m\u001b[0;34m\u001b[0m\u001b[0;34m\u001b[0m\u001b[0m\n\u001b[0m\u001b[1;32m      8\u001b[0m \u001b[0;32mfor\u001b[0m \u001b[0mdata\u001b[0m \u001b[0;32min\u001b[0m \u001b[0mresponse\u001b[0m\u001b[0;34m:\u001b[0m\u001b[0;34m\u001b[0m\u001b[0;34m\u001b[0m\u001b[0m\n\u001b[1;32m      9\u001b[0m     \u001b[0;32mpass\u001b[0m\u001b[0;34m\u001b[0m\u001b[0;34m\u001b[0m\u001b[0m\n",
      "\u001b[0;31mTypeError\u001b[0m: 'Response' object is not subscriptable"
     ]
    }
   ],
   "source": [
    "url = \"http://api.open-notify.org/astros.json\"\n",
    "url = \"https://api.github.com/\"\n",
    "url = \"https://reportr.syniverse.com/login/auth\"\n",
    "response = requests.get(url)\n",
    "#print(response['message'])\n",
    "#print(response.people)\n",
    "for data in response:\n",
    "    pass\n",
    "    #print(data)"
   ]
  },
  {
   "cell_type": "markdown",
   "metadata": {},
   "source": [
    "## Post Methods"
   ]
  },
  {
   "cell_type": "code",
   "execution_count": 8,
   "metadata": {},
   "outputs": [],
   "source": [
    "url = \"\""
   ]
  },
  {
   "cell_type": "code",
   "execution_count": 43,
   "metadata": {},
   "outputs": [
    {
     "name": "stdout",
     "output_type": "stream",
     "text": [
      "<Response [200]>\n"
     ]
    }
   ],
   "source": [
    "from requests.auth import HTTPBasicAuth\n",
    "url = \"https://reportr.syniverse.com/\"\n",
    "\n",
    "datas = requests.get(url, auth=HTTPBasicAuth('g706656', 'Alphax@5d'))\n",
    "print(datas)"
   ]
  },
  {
   "cell_type": "code",
   "execution_count": 44,
   "metadata": {},
   "outputs": [
    {
     "name": "stdout",
     "output_type": "stream",
     "text": [
      "b'<!DOCTYPE html>\\n<!--[if lt IE 7 ]> <html lang=\"en\" class=\"no-js ie6\"> <![endif]-->\\n<!--[if IE 7 ]>    <html lang=\"en\" class=\"no-'\n",
      "b'js ie7\"> <![endif]-->\\n<!--[if IE 8 ]>    <html lang=\"en\" class=\"no-js ie8\"> <![endif]-->\\n<!--[if IE 9 ]>    <html lang=\"en\" clas'\n",
      "b's=\"no-js ie9\"> <![endif]-->\\n<!--[if (gt IE 9)|!(IE)]><!--> <html lang=\"en\" class=\"no-js\"><!--<![endif]-->\\n\\t<head>\\n\\t\\t<meta http-e'\n",
      "b'quiv=\"Content-Type\" content=\"text/html; charset=UTF-8\">\\n\\t\\t<meta http-equiv=\"X-UA-Compatible\" content=\"IE=edge,chrome=1\">\\n\\t\\t<titl'\n",
      "b'e>Reportr</title>\\n\\n    <meta name=\"viewport\" content=\"width=device-width, initial-scale=1.0\">\\n    <link rel=\"shortcut icon\" type'\n",
      "b'=\"image/x-icon\" href=\"/assets/favicon-8745b1d69bbacaf20ac71b296bec7dd0.ico\"/>\\n    <link rel=\"apple-touch-icon\" href=\"/assets/app'\n",
      "b'le-touch-icon-c915103363017d14cea9c2a46ea12166.png\">\\n    <link rel=\"apple-touch-icon\" sizes=\"114x114\" href=\"/assets/apple-touch-'\n",
      "b'icon-retina-21d524e96ee946f16c9b8fb4ea0c3f6e.png\">\\n    \\n\\n<script src=\"/assets/application-1aefb25ce875de8dcaee85d01c7b22eb.js\" t'\n",
      "b'ype=\"text/javascript\" ></script>\\n<link rel=\"stylesheet\" href=\"/assets/application-19a305c64de323be2c3a6e4ba619ea4d.css\"/>\\n\\n\\n\\t\\t\\r\\n'\n",
      "b'<meta name=\"layout\" content=\"main\"/>\\r\\n\\r\\n    <style tyle=\"text/css\">\\r\\n        .glyphicon-refresh:hover,\\r\\n        a.pointer {\\r\\n   '\n",
      "b'         cursor: pointer\\r\\n        }\\r\\n\\r\\n        a.pointer.hover {\\r\\n            text-decoration: underline\\r\\n        }\\r\\n\\r\\n        .'\n",
      "b'ng-cloak,\\r\\n        .x-ng-cloak,\\r\\n        [data-ng-cloak],\\r\\n        [ng-cloak],\\r\\n        [ng\\\\:cloak],\\r\\n        [x-ng-cloak] {\\r\\n  '\n",
      "b'          display: none !important\\r\\n        }\\r\\n\\r\\n        .cookie-info {\\r\\n            position: fixed;\\r\\n            display: -ms-'\n",
      "b'flexbox;\\r\\n            display: flex;\\r\\n            left: 0;\\r\\n            bottom: 0;\\r\\n            width: 100%;\\r\\n            backgr'\n",
      "b'ound: #000;\\r\\n            margin: 0;\\r\\n            color: #fff;\\r\\n            z-index: 1000\\r\\n        }\\r\\n\\r\\n        .cookie-info__mes'\n",
      "b'sage {\\r\\n            padding: 15px;\\r\\n            -ms-flex-positive: 1;\\r\\n            flex-grow: 1\\r\\n        }\\r\\n\\r\\n        .cookie-in'\n",
      "b'fo__link {\\r\\n            color: #fff;\\r\\n            text-decoration: underline;\\r\\n            white-space: nowrap\\r\\n        }\\r\\n\\r\\n   '\n",
      "b'     .cookie-info__close-button {\\r\\n            background-color: #f1f1f1;\\r\\n            width: 100px;\\r\\n            display: -ms-f'\n",
      "b'lexbox;\\r\\n            display: flex;\\r\\n            -ms-flex-pack: distribute;\\r\\n            justify-content: space-around;\\r\\n       '\n",
      "b'     -ms-flex-align: center;\\r\\n            align-items: center;\\r\\n            -ms-flex-negative: 0;\\r\\n            flex-shrink: 0\\r\\n '\n",
      "b'       }\\r\\n\\r\\n        .cookie-info__close-icon {\\r\\n            width: 32px\\r\\n        }\\r\\n\\r\\n        .login__container {\\r\\n            h'\n",
      "b'eight: 100vh;\\r\\n            display: -ms-flexbox;\\r\\n            display: flex;\\r\\n            -ms-flex-pack: stretch;\\r\\n            j'\n",
      "b'ustify-content: stretch;\\r\\n            -ms-flex-line-pack: stretch;\\r\\n            align-content: stretch\\r\\n        }\\r\\n\\r\\n        .lo'\n",
      "b'gin__form-container {\\r\\n            background-color: #fff;\\r\\n            -ms-flex-positive: 1;\\r\\n            flex-grow: 1;\\r\\n      '\n",
      "b'      -ms-flex-preferred-size: 50%;\\r\\n            flex-basis: 50%;\\r\\n            padding-top: 40px;\\r\\n            padding-left: 40p'\n",
      "b'x;\\r\\n            padding-right: 40px\\r\\n        }\\r\\n\\r\\n        @media (min-width:1200px) {\\r\\n            .login__form-container {\\r\\n   '\n",
      "b'             padding-left: 90px\\r\\n            }\\r\\n        }\\r\\n\\r\\n        .login__form {\\r\\n            margin: auto\\r\\n        }\\r\\n\\r\\n    '\n",
      "b'    @media (min-width:768px) {\\r\\n            .login__form {\\r\\n                margin: 0;\\r\\n                max-width: 370px\\r\\n      '\n",
      "b'      }\\r\\n        }\\r\\n\\r\\n        .login__brand-box {\\r\\n            display: none;\\r\\n            -ms-flex-preferred-size: 50%;\\r\\n      '\n",
      "b'      flex-basis: 50%;\\r\\n            -ms-flex-positive: 1;\\r\\n            flex-grow: 1;\\r\\n            background: #00f4ce url(\"/imag'\n",
      "b'es/symphony_glyph.svg\") no-repeat;\\r\\n            background-position: 100% 100%;\\r\\n            background-origin: content-box;\\r\\n  '\n",
      "b'          background-size: 365px;\\r\\n            padding-right: 25px;\\r\\n            padding-bottom: 95px\\r\\n        }\\r\\n\\r\\n        @med'\n",
      "b'ia (min-width:768px) {\\r\\n            .login__brand-box {\\r\\n                display: block\\r\\n            }\\r\\n        }\\r\\n\\r\\n        .lo'\n",
      "b'gin__welcome-message {\\r\\n            font-family: Arial, Helvetica Neue, Helvetica, sans-serif;\\r\\n            font-weight: 700;\\r\\n '\n",
      "b'           font-size: 2rem;\\r\\n            margin-top: 33px;\\r\\n            margin-bottom: 22px\\r\\n        }\\r\\n\\r\\n        .login__synive'\n",
      "b'rse-logo {\\r\\n            width: 162px\\r\\n        }\\r\\n\\r\\n        .login__actions {\\r\\n            text-align: center;\\r\\n            margi'\n",
      "b'n-top: 40px\\r\\n        }\\r\\n\\r\\n        .login__additional-actions {\\r\\n            text-align: center;\\r\\n            margin-top: 24px\\r\\n '\n",
      "b'       }\\r\\n        .no-display {\\r\\n\\t\\tdisplay: none;\\r\\n\\t    }\\r\\n    </style>\\r\\n    <script>\\r\\n        var is_ie_lt9 = false;\\r\\n    </scr'\n",
      "b'ipt>\\r\\n    <!--[if lt IE 9 ]>\\r\\n<script>\\r\\n\\t$(document).ready(function () {   \\r\\n\\t\\t$(\"#submit\").attr(\\'disabled\\',\\'disabled\\');\\r\\n\\t});  '\n",
      "b'  \\r\\n</script>\\r\\n<![endif]-->\\r\\n\\n\\n</style>\\n\\n</head>\\n\\t<body>\\n\\n\\n       <nav class=\"navbar navbar-inverse\" role=\"navigation\">\\n        '\n",
      "b'   <ul class=\"nav navbar-nav\">\\n                <li class=\"active\"><a href=\"#\">Syniverse Reportr</a></li>\\n            </ul>\\n     '\n",
      "b'   </nav>\\n\\n\\n        \\r\\n    <div class=\"login__container\">\\r\\n        <div class=\"login__form-container\">\\r\\n            <div class=\"l'\n",
      "b'ogin__form\">\\r\\n                <img class=\"login__syniverse-logo\" src=\"/assets/syniverse_logo-8f425fa789a3f0e6f9cd41d4f15256a5.sv'\n",
      "b'g\" alt=\"Syniverse Logo\">\\r\\n                <h1 class=\"login__welcome-message\"></h1>\\r\\n                <div>\\r\\n                    <'\n",
      "b'div class=\"box-login ng-scope\">\\r\\n                        \\r\\n                        <div class=\"errorHandler alert alert-danger n'\n",
      "b'o-display\">\\r\\n                            <i class=\"fa fa-remove-sign\"></i> You have some form errors. Please check below.\\r\\n     '\n",
      "b\"                   </div>\\r\\n                        \\r\\n                        <form action='/j_spring_security_check' method='POS\"\n",
      "b\"T' id='loginForm' class='form-login' autocomplete='off'>\\r\\n                            <fieldset>\\r\\n                              \"\n",
      "b'  <div class=\"form-group\">\\r\\n                                    <span class=\"input-icon\">\\r\\n                                     '\n",
      "b'   <label for=\"username\" class=\"cotrol-label\">Username</label>\\r\\n                                        <input class=\"form-contr'\n",
      "b'ol\"  name=\"j_username\" id =\"username\" type=\"text\">\\r\\n                                    </span>\\r\\n                               '\n",
      "b' </div>\\r\\n                                <div class=\"form-group form-actions\">\\r\\n                                    <span class='\n",
      "b'\"input-icon\">\\r\\n                                        <label for=\"password\" class=\"control-label\">Password</label>\\r\\n           '\n",
      "b'                             <input class=\"form-control password\" name=\"j_password\" id=\"password\" type=\"password\">\\r\\n            '\n",
      "b'                        </span>\\r\\n                                </div>\\r\\n                                <recaptcha:ifEnabled>\\r\\n'\n",
      "b'                                    <recaptcha:recaptcha theme=\"dark\"></recaptcha:recaptcha>\\r\\n                                </'\n",
      "b'recaptcha:ifEnabled>\\r\\n                                <div class=\"form-actions\">\\r\\n                                    <label for'\n",
      "b'=\"remember\" class=\"checkbox-inline\"></label>\\r\\n                                    <button type=\"submit\" id=\"submit\" class=\"btn b'\n",
      "b'tn-primary btn-block\">Login <i class=\"fa fa-arrow-circle-right\"></i></button>\\r\\n                                </div>\\r\\n         '\n",
      "b'                   </fieldset>\\r\\n                        </form>\\r\\n\\r\\n                    </div>\\r\\n                </div>\\r\\n         '\n",
      "b'   </div>\\r\\n        </div>\\r\\n        <div class=\"login__brand-box\">\\r\\n        </div>\\r\\n    </div>\\r\\n    <script type=\\'text/javascript'\n",
      "b\"'>\\r\\n        (function () {\\r\\n            document.forms['loginForm'].elements['username'].focus();\\r\\n            $('body').addClas\"\n",
      "b\"s('login example2');\\r\\n            $('#syn_logo').hide();\\r\\n            $('nav').addClass('hide');\\r\\n        })();\\r\\n    </script>\\r\\n\"\n",
      "b'  \\n\\n\\t</body>\\n</html>\\n'\n"
     ]
    }
   ],
   "source": [
    "for res in datas:\n",
    "    print(res)"
   ]
  },
  {
   "cell_type": "code",
   "execution_count": null,
   "metadata": {},
   "outputs": [],
   "source": []
  }
 ],
 "metadata": {
  "kernelspec": {
   "display_name": "Python 3",
   "language": "python",
   "name": "python3"
  },
  "language_info": {
   "codemirror_mode": {
    "name": "ipython",
    "version": 3
   },
   "file_extension": ".py",
   "mimetype": "text/x-python",
   "name": "python",
   "nbconvert_exporter": "python",
   "pygments_lexer": "ipython3",
   "version": "3.7.1"
  }
 },
 "nbformat": 4,
 "nbformat_minor": 2
}
