{
 "cells": [
  {
   "cell_type": "markdown",
   "metadata": {},
   "source": [
    "# Python Strings"
   ]
  },
  {
   "cell_type": "code",
   "execution_count": 1,
   "metadata": {},
   "outputs": [
    {
     "name": "stdout",
     "output_type": "stream",
     "text": [
      "Karthik's first assignment\n",
      "Kart\n",
      "Karthik\n",
      "first assignment\n"
     ]
    }
   ],
   "source": [
    "message = \"Hello World\"\n",
    "message = 'Karthik\\'s first assignment'\n",
    "print(message)\n",
    "print(message[0:4])\n",
    "print(message[:7])\n",
    "print(message[10:])"
   ]
  },
  {
   "cell_type": "code",
   "execution_count": 2,
   "metadata": {},
   "outputs": [
    {
     "name": "stdout",
     "output_type": "stream",
     "text": [
      "26\n"
     ]
    }
   ],
   "source": [
    "## Lenght of the string\n",
    "print(len(message))\n"
   ]
  },
  {
   "cell_type": "code",
   "execution_count": 5,
   "metadata": {},
   "outputs": [
    {
     "name": "stdout",
     "output_type": "stream",
     "text": [
      "Karthik's first assignment\n",
      "DK's first assignment\n",
      "Karthik's first assignment\n",
      "3\n",
      "KARTHIK'S FIRST ASSIGNMENT\n",
      "karthik's first assignment\n",
      "2\n"
     ]
    }
   ],
   "source": [
    "## important string functions\n",
    "# 1.len\n",
    "# 2.count\n",
    "# 3.find\n",
    "# 4.upper\n",
    "# 5.lower\n",
    "print(message)\n",
    "print(message.replace('Karthik', 'DK'))\n",
    "print(message)\n",
    "\n",
    "print(message.count('i'))\n",
    "\n",
    "print(message.upper())\n",
    "print(message.lower())\n",
    "\n",
    "## The specific string position number\n",
    "print(message.find('rt'))\n"
   ]
  },
  {
   "cell_type": "code",
   "execution_count": 9,
   "metadata": {},
   "outputs": [
    {
     "name": "stdout",
     "output_type": "stream",
     "text": [
      "Karthik,Dhanabal. Welcome\n",
      "KARTHIK dhanabal. Welcome\n"
     ]
    }
   ],
   "source": [
    "#  Place Holder string\n",
    "\n",
    "firstname = \"Karthik\"\n",
    "lastname = \"Dhanabal\"\n",
    "greetings = '{},{}. Welcome'.format(firstname, lastname)\n",
    "print(greetings)\n",
    "\n",
    "\n",
    "greetings = f'{firstname.upper()} {lastname.lower()}. Welcome'\n",
    "print(greetings)"
   ]
  },
  {
   "cell_type": "code",
   "execution_count": 10,
   "metadata": {},
   "outputs": [
    {
     "name": "stdout",
     "output_type": "stream",
     "text": [
      "Karthik, Dhanabal\n"
     ]
    }
   ],
   "source": [
    "## String Concatination\n",
    "\n",
    "first_name = \"Karthik\"\n",
    "last_name = \"Dhanabal\"\n",
    "\n",
    "print(first_name + ', '+ last_name)"
   ]
  },
  {
   "cell_type": "markdown",
   "metadata": {},
   "source": [
    "# Numbers - Integer & Floats"
   ]
  },
  {
   "cell_type": "code",
   "execution_count": 6,
   "metadata": {},
   "outputs": [
    {
     "name": "stdout",
     "output_type": "stream",
     "text": [
      "32\n",
      "5\n",
      "15\n",
      "-5\n",
      "50\n",
      "0.5\n",
      "5\n",
      "0\n",
      "1000\n",
      "1.67\n"
     ]
    }
   ],
   "source": [
    "a = \"3\"\n",
    "b = \"2\"\n",
    "print(a + b)\n",
    "print(int(a) + int(b))\n",
    "\n",
    "x = 5\n",
    "y = 10\n",
    "\n",
    "print(x+y)\n",
    "print(x-y)\n",
    "print(x*y)\n",
    "print(x/y)\n",
    "print(x%y)\n",
    "print(y%x)\n",
    "\n",
    "y *= 10\n",
    "y *= 10\n",
    "print(y)\n",
    "\n",
    "print(round(1.6666,2))"
   ]
  },
  {
   "cell_type": "code",
   "execution_count": 8,
   "metadata": {},
   "outputs": [
    {
     "name": "stdout",
     "output_type": "stream",
     "text": [
      "Enter the valueda\n",
      "False\n",
      "Please enter the valid number\n"
     ]
    }
   ],
   "source": [
    "x = input(\"Enter the value\")\n",
    "print(x.isdigit())\n",
    "if x.isdigit():\n",
    "    x = int(x)\n",
    "    if x == 0:\n",
    "        print(\"Enter other than zero\")\n",
    "    elif x > 0:\n",
    "        print(\"Postive number\")\n",
    "    elif x < 0:\n",
    "        print(\"Negative number\")  \n",
    "    else:\n",
    "        print(\"Enter a valid number\")\n",
    "else:\n",
    "    print(\"Please enter the valid number\")\n"
   ]
  },
  {
   "cell_type": "code",
   "execution_count": 11,
   "metadata": {},
   "outputs": [
    {
     "name": "stdout",
     "output_type": "stream",
     "text": [
      "True\n"
     ]
    }
   ],
   "source": [
    "a = \"0010\"\n",
    "print(a.isdigit())"
   ]
  },
  {
   "cell_type": "code",
   "execution_count": 16,
   "metadata": {},
   "outputs": [
    {
     "name": "stdout",
     "output_type": "stream",
     "text": [
      "0010\n"
     ]
    }
   ],
   "source": [
    "print(a)"
   ]
  },
  {
   "cell_type": "code",
   "execution_count": null,
   "metadata": {},
   "outputs": [],
   "source": []
  },
  {
   "cell_type": "code",
   "execution_count": null,
   "metadata": {},
   "outputs": [],
   "source": []
  }
 ],
 "metadata": {
  "kernelspec": {
   "display_name": "Python 3",
   "language": "python",
   "name": "python3"
  },
  "language_info": {
   "codemirror_mode": {
    "name": "ipython",
    "version": 3
   },
   "file_extension": ".py",
   "mimetype": "text/x-python",
   "name": "python",
   "nbconvert_exporter": "python",
   "pygments_lexer": "ipython3",
   "version": "3.7.1"
  }
 },
 "nbformat": 4,
 "nbformat_minor": 2
}
