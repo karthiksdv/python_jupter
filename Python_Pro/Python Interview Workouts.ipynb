{
 "cells": [
  {
   "cell_type": "code",
   "execution_count": 2,
   "metadata": {},
   "outputs": [
    {
     "ename": "NameError",
     "evalue": "name 'list_with_keys' is not defined",
     "output_type": "error",
     "traceback": [
      "\u001b[0;31m---------------------------------------------------------------------------\u001b[0m",
      "\u001b[0;31mNameError\u001b[0m                                 Traceback (most recent call last)",
      "\u001b[0;32m<ipython-input-2-aacb065c079f>\u001b[0m in \u001b[0;36m<module>\u001b[0;34m\u001b[0m\n\u001b[0;32m----> 1\u001b[0;31m \u001b[0mdata\u001b[0m \u001b[0;34m=\u001b[0m \u001b[0mzip\u001b[0m\u001b[0;34m(\u001b[0m\u001b[0mlist_with_keys\u001b[0m\u001b[0;34m,\u001b[0m \u001b[0mlist_with_values\u001b[0m\u001b[0;34m)\u001b[0m\u001b[0;34m\u001b[0m\u001b[0;34m\u001b[0m\u001b[0m\n\u001b[0m",
      "\u001b[0;31mNameError\u001b[0m: name 'list_with_keys' is not defined"
     ]
    }
   ],
   "source": [
    "data = zip(list_with_keys, list_with_values)\n"
   ]
  },
  {
   "cell_type": "code",
   "execution_count": 5,
   "metadata": {},
   "outputs": [],
   "source": [
    "keys = ['Ten', 'Twenty', 'Thirty']\n",
    "values = [10, 20, 30]"
   ]
  },
  {
   "cell_type": "code",
   "execution_count": 4,
   "metadata": {},
   "outputs": [
    {
     "name": "stdout",
     "output_type": "stream",
     "text": [
      "{'Ten': 10, 'Twenty': 20, 'Thirty': 30}\n"
     ]
    }
   ],
   "source": [
    "dicts = {}\n",
    "for i in range(0,len(keys)):\n",
    "    #print(i)\n",
    "    dicts[keys[i]] = values[i]\n",
    "\n",
    "print(dicts)    \n",
    "    \n"
   ]
  },
  {
   "cell_type": "code",
   "execution_count": 9,
   "metadata": {},
   "outputs": [
    {
     "name": "stdout",
     "output_type": "stream",
     "text": [
      "{'Ten': 10, 'Twenty': 20, 'Thirty': 30}\n",
      "[('Ten', 10), ('Thirty', 30), ('Twenty', 20)]\n"
     ]
    }
   ],
   "source": [
    "new_dict = dict(zip(keys, values))\n",
    "print(new_dict)\n",
    "sorted_dict = sorted(new_dict.items())\n",
    "print(sorted_dict)"
   ]
  },
  {
   "cell_type": "code",
   "execution_count": 5,
   "metadata": {},
   "outputs": [
    {
     "name": "stdout",
     "output_type": "stream",
     "text": [
      "{'a': 1, 'b': 2, 'c': 3}\n"
     ]
    }
   ],
   "source": [
    "keys = ['a', 'b', 'c']\n",
    "values = [1, 2, 3]\n",
    "dictionary = dict(zip(keys, values))\n",
    "print(dictionary) # {'a': 1, 'b': 2, 'c': 3}"
   ]
  },
  {
   "cell_type": "code",
   "execution_count": 17,
   "metadata": {},
   "outputs": [
    {
     "name": "stdout",
     "output_type": "stream",
     "text": [
      "[(1, 6), (5, 4), (6, 3)]\n"
     ]
    }
   ],
   "source": [
    "dt = {5:4, 1:6, 6:3}\n",
    "\n",
    "sorted_dt_value = sorted(dt.items(), key = lambda x:x[0])\n",
    "print(sorted_dt_value)"
   ]
  },
  {
   "cell_type": "code",
   "execution_count": null,
   "metadata": {},
   "outputs": [],
   "source": []
  },
  {
   "cell_type": "markdown",
   "metadata": {},
   "source": [
    "### Merge Dictionaries"
   ]
  },
  {
   "cell_type": "code",
   "execution_count": 82,
   "metadata": {},
   "outputs": [],
   "source": [
    "dict1 = {'Ten': 10, 'Twenty': 20, 'Thirty': 30}\n",
    "dict2 = {'Thirty': 30, 'Fourty': 40, 'Fifty': 50}"
   ]
  },
  {
   "cell_type": "code",
   "execution_count": 83,
   "metadata": {},
   "outputs": [],
   "source": [
    "dict1.update(dict2)"
   ]
  },
  {
   "cell_type": "code",
   "execution_count": 84,
   "metadata": {},
   "outputs": [
    {
     "name": "stdout",
     "output_type": "stream",
     "text": [
      "{'Ten': 10, 'Twenty': 20, 'Thirty': 30, 'Fourty': 40, 'Fifty': 50}\n"
     ]
    }
   ],
   "source": [
    "print(dict1)"
   ]
  },
  {
   "cell_type": "code",
   "execution_count": 85,
   "metadata": {},
   "outputs": [
    {
     "name": "stdout",
     "output_type": "stream",
     "text": [
      "already available Thirty\n",
      "already available Fourty\n",
      "already available Fifty\n"
     ]
    },
    {
     "data": {
      "text/plain": [
       "{'Ten': 10, 'Twenty': 20, 'Thirty': 30, 'Fourty': 40, 'Fifty': 50}"
      ]
     },
     "execution_count": 85,
     "metadata": {},
     "output_type": "execute_result"
    }
   ],
   "source": [
    "for key, value in dict2.items():\n",
    "    if dict1.get(key):\n",
    "        print(\"already available\", key)\n",
    "    else:\n",
    "        dict1[key] = value\n",
    "dict1"
   ]
  },
  {
   "cell_type": "markdown",
   "metadata": {},
   "source": [
    "#### Exercise 3: Access the value of key ‘history’ from the below dict"
   ]
  },
  {
   "cell_type": "code",
   "execution_count": 44,
   "metadata": {},
   "outputs": [],
   "source": [
    "sampleDict = { \n",
    "   \"class\":{ \n",
    "      \"student\":{ \n",
    "         \"name\":\"Mike\",\n",
    "         \"marks\":{ \n",
    "            \"physics\":70,\n",
    "            \"history\":80\n",
    "         }\n",
    "      }\n",
    "   }\n",
    "}"
   ]
  },
  {
   "cell_type": "code",
   "execution_count": 48,
   "metadata": {},
   "outputs": [
    {
     "name": "stdout",
     "output_type": "stream",
     "text": [
      "class {'student': {'name': 'Mike', 'marks': {'physics': 70, 'history': 80}}}\n"
     ]
    }
   ],
   "source": [
    "for key, value in sampleDict.items():\n",
    "    print(key, value)"
   ]
  },
  {
   "cell_type": "code",
   "execution_count": 55,
   "metadata": {},
   "outputs": [
    {
     "data": {
      "text/plain": [
       "80"
      ]
     },
     "execution_count": 55,
     "metadata": {},
     "output_type": "execute_result"
    }
   ],
   "source": [
    "sampleDict['class']['student']['marks']['history']"
   ]
  },
  {
   "cell_type": "markdown",
   "metadata": {},
   "source": [
    "#### Exercise 4: Initialize dictionary with default values"
   ]
  },
  {
   "cell_type": "code",
   "execution_count": 8,
   "metadata": {},
   "outputs": [],
   "source": [
    "employees = ['Kelly', 'Emma', 'John']\n",
    "defaults = {\"designation\": 'Application Developer', \"salary\": 8000}"
   ]
  },
  {
   "cell_type": "code",
   "execution_count": 11,
   "metadata": {},
   "outputs": [],
   "source": [
    "employee_details = {}\n",
    "for employee in employees:\n",
    "    employee_details[employee] = defaults"
   ]
  },
  {
   "cell_type": "code",
   "execution_count": 12,
   "metadata": {},
   "outputs": [
    {
     "name": "stdout",
     "output_type": "stream",
     "text": [
      "{'Kelly': {'designation': 'Application Developer', 'salary': 8000}, 'Emma': {'designation': 'Application Developer', 'salary': 8000}, 'John': {'designation': 'Application Developer', 'salary': 8000}}\n"
     ]
    }
   ],
   "source": [
    "print(employee_details)"
   ]
  },
  {
   "cell_type": "code",
   "execution_count": 13,
   "metadata": {},
   "outputs": [
    {
     "name": "stdout",
     "output_type": "stream",
     "text": [
      "Kelly {'designation': 'Application Developer', 'salary': 8000}\n",
      "Emma {'designation': 'Application Developer', 'salary': 8000}\n",
      "John {'designation': 'Application Developer', 'salary': 8000}\n"
     ]
    }
   ],
   "source": [
    "for key, value in employee_details.items():\n",
    "    print(key, value)"
   ]
  },
  {
   "cell_type": "code",
   "execution_count": 6,
   "metadata": {},
   "outputs": [
    {
     "name": "stdout",
     "output_type": "stream",
     "text": [
      "{'Kelly': {'designation': 'Application Developer', 'salary': 8000}, 'Emma': {'designation': 'Application Developer', 'salary': 8000}, 'John': {'designation': 'Application Developer', 'salary': 8000}}\n",
      "{'designation': 'Application Developer', 'salary': 8000}\n"
     ]
    }
   ],
   "source": [
    "employees = ['Kelly', 'Emma', 'John']\n",
    "defaults = {\"designation\": 'Application Developer', \"salary\": 8000}\n",
    "\n",
    "resDict = dict.fromkeys(employees, defaults)\n",
    "print(resDict)\n",
    "\n",
    "# Individual data\n",
    "print(resDict[\"Kelly\"])"
   ]
  },
  {
   "cell_type": "code",
   "execution_count": null,
   "metadata": {},
   "outputs": [],
   "source": []
  },
  {
   "cell_type": "code",
   "execution_count": 15,
   "metadata": {},
   "outputs": [
    {
     "name": "stdout",
     "output_type": "stream",
     "text": [
      "Kelly\n"
     ]
    }
   ],
   "source": [
    "sampleDict = {\n",
    "  \"name\": \"Kelly\",\n",
    "  \"age\":25,\n",
    "  \"salary\": 8000,\n",
    "  \"city\": \"New york\"\n",
    "  \n",
    "}\n",
    "print(sampleDict.get(\"name\"))"
   ]
  },
  {
   "cell_type": "code",
   "execution_count": 19,
   "metadata": {},
   "outputs": [
    {
     "data": {
      "text/plain": [
       "{'name': 'Kelly', 'salary': 8000}"
      ]
     },
     "execution_count": 19,
     "metadata": {},
     "output_type": "execute_result"
    }
   ],
   "source": [
    "sampleDict = {\n",
    "  \"name\": \"Kelly\",\n",
    "  \"age\":25,\n",
    "  \"salary\": 8000,\n",
    "  \"city\": \"New york\"\n",
    "  \n",
    "}\n",
    "\n",
    "keys = [\"name\", \"salary\"]\n",
    "{'name': 'Kelly', 'salary': 8000}"
   ]
  },
  {
   "cell_type": "code",
   "execution_count": 20,
   "metadata": {},
   "outputs": [
    {
     "data": {
      "text/plain": [
       "{'name': 'Kelly', 'salary': 8000}"
      ]
     },
     "execution_count": 20,
     "metadata": {},
     "output_type": "execute_result"
    }
   ],
   "source": [
    "up_dict = {}\n",
    "for key in keys:\n",
    "    if sampleDict.get(key):\n",
    "        up_dict[key] = sampleDict.get(key)\n",
    "up_dict    "
   ]
  },
  {
   "cell_type": "code",
   "execution_count": 77,
   "metadata": {},
   "outputs": [
    {
     "data": {
      "text/plain": [
       "{'age': 25, 'city': 'New york'}"
      ]
     },
     "execution_count": 77,
     "metadata": {},
     "output_type": "execute_result"
    }
   ],
   "source": [
    "for key in keys:\n",
    "    if sampleDict.get(key):\n",
    "        del sampleDict[key]\n",
    "sampleDict"
   ]
  },
  {
   "cell_type": "code",
   "execution_count": null,
   "metadata": {},
   "outputs": [],
   "source": []
  },
  {
   "cell_type": "code",
   "execution_count": 18,
   "metadata": {},
   "outputs": [
    {
     "name": "stdout",
     "output_type": "stream",
     "text": [
      "True\n"
     ]
    }
   ],
   "source": [
    "sampleDict = {'a': 100, 'b': 200, 'c': 300}\n",
    "find_value = False\n",
    "for key, value in sampleDict.items():\n",
    "    if value == 200:\n",
    "        find_value = True\n",
    "print(find_value)"
   ]
  },
  {
   "cell_type": "code",
   "execution_count": 89,
   "metadata": {},
   "outputs": [
    {
     "name": "stdout",
     "output_type": "stream",
     "text": [
      "False\n"
     ]
    }
   ],
   "source": [
    "print('da' in sampleDict.keys())"
   ]
  },
  {
   "cell_type": "code",
   "execution_count": 90,
   "metadata": {},
   "outputs": [
    {
     "name": "stdout",
     "output_type": "stream",
     "text": [
      "[]\n"
     ]
    }
   ],
   "source": [
    "a=[1,2,3,4,5]\n",
    "print(a[3:0:])"
   ]
  },
  {
   "cell_type": "code",
   "execution_count": 91,
   "metadata": {},
   "outputs": [
    {
     "name": "stdout",
     "output_type": "stream",
     "text": [
      "[4, 3, 2]\n"
     ]
    }
   ],
   "source": [
    "a=[1,2,3,4,5]\n",
    "print(a[3:0:-1])"
   ]
  },
  {
   "cell_type": "code",
   "execution_count": null,
   "metadata": {},
   "outputs": [],
   "source": []
  },
  {
   "cell_type": "code",
   "execution_count": 4,
   "metadata": {},
   "outputs": [
    {
     "ename": "ModuleNotFoundError",
     "evalue": "No module named 'constants'",
     "output_type": "error",
     "traceback": [
      "\u001b[0;31m---------------------------------------------------------------------------\u001b[0m",
      "\u001b[0;31mModuleNotFoundError\u001b[0m                       Traceback (most recent call last)",
      "\u001b[0;32m<ipython-input-4-8aae7600193c>\u001b[0m in \u001b[0;36m<module>\u001b[0;34m\u001b[0m\n\u001b[1;32m      1\u001b[0m \u001b[0;31m# main.py\u001b[0m\u001b[0;34m\u001b[0m\u001b[0;34m\u001b[0m\u001b[0;34m\u001b[0m\u001b[0m\n\u001b[0;32m----> 2\u001b[0;31m \u001b[0;32mimport\u001b[0m \u001b[0mconstants\u001b[0m\u001b[0;34m\u001b[0m\u001b[0;34m\u001b[0m\u001b[0m\n\u001b[0m\u001b[1;32m      3\u001b[0m \u001b[0mweight_lb\u001b[0m \u001b[0;34m=\u001b[0m \u001b[0;36m170\u001b[0m\u001b[0;34m\u001b[0m\u001b[0;34m\u001b[0m\u001b[0m\n\u001b[1;32m      4\u001b[0m \u001b[0mweight_kg\u001b[0m \u001b[0;34m=\u001b[0m \u001b[0mweight_lb\u001b[0m \u001b[0;34m/\u001b[0m \u001b[0mconstants\u001b[0m\u001b[0;34m.\u001b[0m\u001b[0mRATIO_LB_TO_KG\u001b[0m\u001b[0;34m\u001b[0m\u001b[0;34m\u001b[0m\u001b[0m\n\u001b[1;32m      5\u001b[0m \u001b[0mprint\u001b[0m\u001b[0;34m(\u001b[0m\u001b[0;34mf\"The ratio of feet to meters is {constants.RATIO_FEET_TO_METERS}\"\u001b[0m\u001b[0;34m)\u001b[0m\u001b[0;34m\u001b[0m\u001b[0;34m\u001b[0m\u001b[0m\n",
      "\u001b[0;31mModuleNotFoundError\u001b[0m: No module named 'constants'"
     ]
    }
   ],
   "source": [
    "# main.py\n",
    "import constants\n",
    "weight_lb = 170\n",
    "weight_kg = weight_lb / constants.RATIO_LB_TO_KG\n",
    "print(f\"The ratio of feet to meters is {constants.RATIO_FEET_TO_METERS}\")\n",
    "print(f\"{weight_lb} lbs in kilograms is {weight_kg}\")\n",
    "\"\"\"\n",
    "The ratio of feet to meters is 3.281\n",
    "170 lbs in kilograms is 77.09750566893423\n",
    "\"\"\""
   ]
  },
  {
   "cell_type": "code",
   "execution_count": null,
   "metadata": {},
   "outputs": [],
   "source": [
    "\n",
    "\n"
   ]
  },
  {
   "cell_type": "markdown",
   "metadata": {},
   "source": [
    "### List Interchange firtst and last positoin"
   ]
  },
  {
   "cell_type": "code",
   "execution_count": 14,
   "metadata": {},
   "outputs": [],
   "source": [
    "Input = [1, 2, 3]\n",
    "#Output : [3, 2, 1]"
   ]
  },
  {
   "cell_type": "code",
   "execution_count": 15,
   "metadata": {},
   "outputs": [
    {
     "name": "stdout",
     "output_type": "stream",
     "text": [
      "3\n"
     ]
    }
   ],
   "source": [
    "print(Input[-1])"
   ]
  },
  {
   "cell_type": "code",
   "execution_count": null,
   "metadata": {},
   "outputs": [],
   "source": []
  },
  {
   "cell_type": "code",
   "execution_count": 43,
   "metadata": {},
   "outputs": [
    {
     "name": "stdout",
     "output_type": "stream",
     "text": [
      "[1, 3, 7, 4, 7, 2, 9, 1, 10, 11]\n",
      "[1, 3, 7, 4, 7, 2, 9, 1, 10, 11]\n",
      "[1, 1, 2, 3, 4, 7, 7, 9, 10, 11]\n",
      "[11, 10, 1, 9, 2, 7, 4, 7, 3, 1]\n",
      "6\n",
      "2\n",
      "3\n",
      "1\n",
      "2\n",
      "4\n"
     ]
    }
   ],
   "source": [
    "test_list = [1, 3, 7, 4, 7, 2, 9, 1, 10, 11]\n",
    "print(test_list)\n",
    "#test_list.sort()\n",
    "print(test_list)\n",
    "sort_list = sorted(test_list)\n",
    "print(sort_list)\n",
    "\n",
    "test_list = [1, 3, 7, 4, 7, 2, 9, 1, 10, 11]\n",
    "test_list.reverse()\n",
    "print(test_list)\n",
    "\n",
    "\n",
    "test_list = [4,2,1,3,2,6]\n",
    "\n",
    "rev_list = reversed(test_list)\n",
    "for rev in rev_list:\n",
    "    print(rev)"
   ]
  },
  {
   "cell_type": "code",
   "execution_count": null,
   "metadata": {},
   "outputs": [],
   "source": []
  },
  {
   "cell_type": "code",
   "execution_count": null,
   "metadata": {},
   "outputs": [],
   "source": []
  },
  {
   "cell_type": "code",
   "execution_count": 24,
   "metadata": {},
   "outputs": [
    {
     "name": "stdout",
     "output_type": "stream",
     "text": [
      "[1, 3, 7, 4, 7, 2, 9, 1, 10, 11]\n"
     ]
    }
   ],
   "source": [
    "test_list = [1, 3, 7, 4, 7, 2, 9, 1, 10, 11]\n",
    "print(test_list)"
   ]
  },
  {
   "cell_type": "code",
   "execution_count": 23,
   "metadata": {},
   "outputs": [
    {
     "name": "stdout",
     "output_type": "stream",
     "text": [
      "11\n"
     ]
    }
   ],
   "source": [
    "len(test_list)\n",
    "print(test_list[9])\n",
    "test_list[0], test_list[-1] = test_list[-1], test_list[0]"
   ]
  },
  {
   "cell_type": "code",
   "execution_count": 102,
   "metadata": {},
   "outputs": [
    {
     "name": "stdout",
     "output_type": "stream",
     "text": [
      "[11, 3, 7, 4, 7, 2, 9, 1, 10, 1]\n"
     ]
    }
   ],
   "source": [
    "print(test_list)"
   ]
  },
  {
   "cell_type": "code",
   "execution_count": 16,
   "metadata": {},
   "outputs": [],
   "source": [
    "Input[0], Input[2] = Input[-1], Input[0]"
   ]
  },
  {
   "cell_type": "code",
   "execution_count": 17,
   "metadata": {},
   "outputs": [
    {
     "data": {
      "text/plain": [
       "[3, 2, 1]"
      ]
     },
     "execution_count": 17,
     "metadata": {},
     "output_type": "execute_result"
    }
   ],
   "source": [
    "Input"
   ]
  },
  {
   "cell_type": "code",
   "execution_count": 17,
   "metadata": {},
   "outputs": [],
   "source": [
    "Input = [[1, 2], [3, 4], [5, 6], [7, 8]]\n",
    "#Output : [[1, 3, 5, 7], [2, 4, 6, 8]]"
   ]
  },
  {
   "cell_type": "code",
   "execution_count": 21,
   "metadata": {},
   "outputs": [
    {
     "name": "stdout",
     "output_type": "stream",
     "text": [
      "2\n"
     ]
    }
   ],
   "source": [
    "print(Input[0])"
   ]
  },
  {
   "cell_type": "code",
   "execution_count": 18,
   "metadata": {},
   "outputs": [
    {
     "name": "stdout",
     "output_type": "stream",
     "text": [
      "[1, 3, 5, 7] [2, 4, 6, 8]\n",
      "[[1, 3, 5, 7], [2, 4, 6, 8]]\n"
     ]
    }
   ],
   "source": [
    "Output = []\n",
    "odd_number = []\n",
    "even_number = []\n",
    "for element in Input:\n",
    "    odd_number.append(element[0])\n",
    "    even_number.append(element[1])\n",
    "print(odd_number, even_number)\n",
    "\n",
    "Output.append(odd_number)\n",
    "Output.append(even_number)\n",
    "print(Output)"
   ]
  },
  {
   "cell_type": "code",
   "execution_count": 27,
   "metadata": {},
   "outputs": [],
   "source": [
    "Output = []"
   ]
  },
  {
   "cell_type": "code",
   "execution_count": 31,
   "metadata": {},
   "outputs": [
    {
     "name": "stdout",
     "output_type": "stream",
     "text": [
      "The original list is : [1, 3, 7, 4, 7, 2, 9, 1, 10, 11]\n",
      "[3, 5, 8]\n",
      "Even elements span : 5\n"
     ]
    }
   ],
   "source": [
    "# initializing Matrix\n",
    "test_list = [1, 3, 7, 4, 7, 2, 9, 1, 10, 11]\n",
    "  \n",
    "# printing original list\n",
    "print(\"The original list is : \" + str(test_list))\n",
    "  \n",
    "# getting even indices\n",
    "indices_list = [idx for idx in range(len(test_list)) if test_list[idx] % 2 == 0]\n",
    "\n",
    "print(indices_list)  \n",
    "    \n",
    "# getting difference of first and last occurrence\n",
    "res = indices_list[-1] - indices_list[0]\n",
    "  \n",
    "# printing result\n",
    "print(\"Even elements span : \" + str(res))"
   ]
  },
  {
   "cell_type": "code",
   "execution_count": 39,
   "metadata": {},
   "outputs": [
    {
     "name": "stdout",
     "output_type": "stream",
     "text": [
      "5\n"
     ]
    }
   ],
   "source": [
    "even_num_index = []\n",
    "for x in range(len(test_list)):\n",
    "    #print(test_list[x])\n",
    "    if (test_list[x] % 2 == 0):\n",
    "        even_num_index.append(x)\n",
    "        \n",
    "even_num_index        \n",
    "\n",
    "print(even_num_index[-1] - even_num_index[0])\n"
   ]
  },
  {
   "cell_type": "code",
   "execution_count": 44,
   "metadata": {},
   "outputs": [
    {
     "ename": "SyntaxError",
     "evalue": "invalid character in identifier (<ipython-input-44-a9a8292bc268>, line 1)",
     "output_type": "error",
     "traceback": [
      "\u001b[0;36m  File \u001b[0;32m\"<ipython-input-44-a9a8292bc268>\"\u001b[0;36m, line \u001b[0;32m1\u001b[0m\n\u001b[0;31m    test_list = [((“gfg”, “is”, “best”), 10),  ((“gfg”, “for”, “cs”), 15)]\u001b[0m\n\u001b[0m                       ^\u001b[0m\n\u001b[0;31mSyntaxError\u001b[0m\u001b[0;31m:\u001b[0m invalid character in identifier\n"
     ]
    }
   ],
   "source": [
    "test_list = [((“gfg”, “is”, “best”), 10),  ((“gfg”, “for”, “cs”), 15)]\n",
    "#Output : {‘gfg is best’: 10, ‘gfg for cs’: 15}"
   ]
  },
  {
   "cell_type": "code",
   "execution_count": 46,
   "metadata": {},
   "outputs": [],
   "source": [
    "test_list = [((\"gfg\", \"is\", \"best\"), 10), ((\"gfg\", \"good\"), 1), ((\"gfg\", \"for\", \"cs\"), 15)]\n"
   ]
  },
  {
   "cell_type": "code",
   "execution_count": 47,
   "metadata": {},
   "outputs": [
    {
     "name": "stdout",
     "output_type": "stream",
     "text": [
      "{'gfg is best': 10, 'gfg good': 1, 'gfg for cs': 15}\n"
     ]
    }
   ],
   "source": [
    "update_dict ={}\n",
    "for keys in test_list:\n",
    "    key_tuple = keys[0]\n",
    "    key_string = \" \".join(key_tuple)\n",
    "    update_dict[key_string] = keys[1]\n",
    "\n",
    "print(update_dict)    "
   ]
  },
  {
   "cell_type": "code",
   "execution_count": null,
   "metadata": {},
   "outputs": [],
   "source": []
  },
  {
   "cell_type": "markdown",
   "metadata": {},
   "source": [
    "## Palindrome Example"
   ]
  },
  {
   "cell_type": "code",
   "execution_count": 2,
   "metadata": {},
   "outputs": [],
   "source": [
    "string = \"iTopiNonAvevanoNipoti\".lower()"
   ]
  },
  {
   "cell_type": "code",
   "execution_count": 3,
   "metadata": {},
   "outputs": [
    {
     "name": "stdout",
     "output_type": "stream",
     "text": [
      "['pinonavevanonip', 'itopinonavevanonipoti', 'navevan', 'vev', 'onavevano', 'aveva', 'nonavevanon', 'opinonavevanonipo', 'topinonavevanonipot', 'inonavevanoni', 'non']\n"
     ]
    }
   ],
   "source": [
    "string_length = len(string)\n",
    "#print(string_length)\n",
    "palindrome_list = []\n",
    "\n",
    "\n",
    "\n",
    "for start in range(3,string_length+1,2):\n",
    "    for x in range(len(string)):        \n",
    "        validate_string = string[x:start+x]\n",
    "        if validate_string == validate_string[::-1] and len(validate_string) == start:\n",
    "            palindrome_list.append(validate_string)\n",
    "\n",
    "        \n",
    "print(list(set(palindrome_list)))"
   ]
  },
  {
   "cell_type": "code",
   "execution_count": 23,
   "metadata": {},
   "outputs": [
    {
     "name": "stdout",
     "output_type": "stream",
     "text": [
      "iTopiNonAvevanoNipoti\n",
      "itopiNonavevAnoNipoTi\n"
     ]
    }
   ],
   "source": [
    "str = \"iTopiNonAvevanoNipoti\"\n",
    "str_r = str[::-1]\n",
    "\n",
    "print(str)\n",
    "print(str_r)"
   ]
  },
  {
   "cell_type": "code",
   "execution_count": 48,
   "metadata": {},
   "outputs": [
    {
     "name": "stdout",
     "output_type": "stream",
     "text": [
      "Reverse this string as list and convet it back to lists\n"
     ]
    }
   ],
   "source": [
    "a1 = [\"a\", \"b\", \"c\", \"d\", \"e\", \"f\", \"g\", \"h\"]\n",
    "\n",
    "string = \"Reverse this string as list and convet it back to lists\"\n",
    "print(string)"
   ]
  },
  {
   "cell_type": "code",
   "execution_count": 49,
   "metadata": {},
   "outputs": [
    {
     "name": "stdout",
     "output_type": "stream",
     "text": [
      "['Reverse', 'this', 'string', 'as', 'list', 'and', 'convet', 'it', 'back', 'to', 'lists']\n"
     ]
    }
   ],
   "source": [
    "string_list = string.split(\" \")\n",
    "print(string_list)"
   ]
  },
  {
   "cell_type": "code",
   "execution_count": 52,
   "metadata": {},
   "outputs": [
    {
     "name": "stdout",
     "output_type": "stream",
     "text": [
      "['Reverse', 'this', 'string', 'as', 'list', 'and', 'convet', 'it', 'back', 'to', 'lists']\n"
     ]
    }
   ],
   "source": [
    "string_list.reverse()\n",
    "print(string_list)"
   ]
  },
  {
   "cell_type": "code",
   "execution_count": 53,
   "metadata": {},
   "outputs": [
    {
     "name": "stdout",
     "output_type": "stream",
     "text": [
      "11\n"
     ]
    }
   ],
   "source": [
    "lengths = len(string_list)\n",
    "print(lengths)"
   ]
  },
  {
   "cell_type": "code",
   "execution_count": 54,
   "metadata": {},
   "outputs": [
    {
     "name": "stdout",
     "output_type": "stream",
     "text": [
      "-11\n",
      "lists\n",
      "-10\n",
      "to\n",
      "-9\n",
      "back\n",
      "-8\n",
      "it\n",
      "-7\n",
      "convet\n",
      "-6\n",
      "and\n",
      "-5\n",
      "list\n",
      "-4\n",
      "as\n",
      "-3\n",
      "string\n",
      "-2\n",
      "this\n",
      "-1\n",
      "Reverse\n"
     ]
    }
   ],
   "source": [
    "for element in range(0,len(string_list)):\n",
    "    print(element-lengths)\n",
    "    \n",
    "    print(string_list[-1-element])"
   ]
  },
  {
   "cell_type": "code",
   "execution_count": 43,
   "metadata": {},
   "outputs": [
    {
     "name": "stdout",
     "output_type": "stream",
     "text": [
      "Reverse\n"
     ]
    }
   ],
   "source": [
    "print(string_list[-11])"
   ]
  },
  {
   "cell_type": "code",
   "execution_count": 55,
   "metadata": {},
   "outputs": [
    {
     "name": "stdout",
     "output_type": "stream",
     "text": [
      "['lists', 'to', 'back', 'it', 'convet', 'and', 'list', 'as', 'string', 'this', 'Reverse']\n",
      "lists to back it convet and list as string this Reverse\n",
      "Reverse this string as list and convet it back to lists\n"
     ]
    }
   ],
   "source": [
    "rev_string = []\n",
    "for element in range(-1,-12,-1):\n",
    "    #print(string_list[element])\n",
    "    rev_string.append(string_list[element])\n",
    "\n",
    "print(rev_string)    \n",
    "\n",
    "reverse_string = \" \".join(rev_string);\n",
    "print(reverse_string)\n",
    "print(string)"
   ]
  },
  {
   "cell_type": "code",
   "execution_count": null,
   "metadata": {},
   "outputs": [],
   "source": []
  },
  {
   "cell_type": "code",
   "execution_count": 56,
   "metadata": {},
   "outputs": [
    {
     "name": "stdout",
     "output_type": "stream",
     "text": [
      "most occure digit 1 3  times\n",
      "most occure digit 2 5  times\n",
      "2\n"
     ]
    }
   ],
   "source": [
    "list = [1,4,2,1,6,2,3,2,5,6,8,1,2,2,5]\n",
    "most_occurence = list[0]\n",
    "\n",
    "for element in list:\n",
    "    count_occurence = list.count(element)\n",
    "    #print(\"element \", element ,\" is occured in \", count_occurence)\n",
    "    if count_occurence > most_occurence:\n",
    "        most_occur_digit = element\n",
    "        most_occurence = count_occurence\n",
    "        print(\"most occure digit\", element, most_occurence,\" times\")\n",
    "    \n",
    "print(most_occur_digit)    "
   ]
  },
  {
   "cell_type": "code",
   "execution_count": 103,
   "metadata": {},
   "outputs": [
    {
     "name": "stdout",
     "output_type": "stream",
     "text": [
      "k\n",
      "a\n",
      "r\n",
      "t\n",
      "h\n",
      "i\n",
      "k\n"
     ]
    }
   ],
   "source": [
    "for char in \"karthik\":\n",
    "    print(char)"
   ]
  },
  {
   "cell_type": "code",
   "execution_count": 108,
   "metadata": {},
   "outputs": [
    {
     "name": "stdout",
     "output_type": "stream",
     "text": [
      "[1, 4, 2, 1, 6, 2, 3, 2, 5, 6, 8, 1, 2, 2, 5]\n",
      "[1, 1, 1, 2, 2, 2, 2, 2, 3, 4, 5, 5, 6, 6, 8]\n",
      "[1, 1, 1, 2, 2, 2, 2, 2, 3, 4, 5, 5, 6, 6, 8]\n"
     ]
    }
   ],
   "source": [
    "list = [1,4,2,1,6,2,3,2,5,6,8,1,2,2,5]\n",
    "print(list)\n",
    "print(sorted(list))\n",
    "list.sort()\n",
    "print(list)"
   ]
  },
  {
   "cell_type": "code",
   "execution_count": 125,
   "metadata": {},
   "outputs": [
    {
     "name": "stdout",
     "output_type": "stream",
     "text": [
      "[4, 2, 1, 6, 8, 2, 5]\n",
      "8\n"
     ]
    }
   ],
   "source": [
    "list = [4,2,1,6,8,2,5]\n",
    "print(list)\n",
    "print(max(list))"
   ]
  },
  {
   "cell_type": "code",
   "execution_count": 58,
   "metadata": {},
   "outputs": [
    {
     "name": "stdout",
     "output_type": "stream",
     "text": [
      "[1, 4, 2, 1, 6, 2, 3, 2, 5, 6, 8, 1, 2, 2, 5]\n",
      "['Linux', 'macOS', 'Windows']\n"
     ]
    }
   ],
   "source": [
    "systems = ['Windows', 'macOS', 'Linux']\n",
    "\n",
    "list.reverse()\n",
    "print(list)\n",
    "\n",
    "systems.reverse()\n",
    "print(systems)"
   ]
  },
  {
   "cell_type": "code",
   "execution_count": 121,
   "metadata": {},
   "outputs": [
    {
     "name": "stdout",
     "output_type": "stream",
     "text": [
      "<list_reverseiterator object at 0x10b7f3be0>\n"
     ]
    }
   ],
   "source": [
    "list = reversed(list)\n",
    "print(list)"
   ]
  },
  {
   "cell_type": "code",
   "execution_count": 124,
   "metadata": {},
   "outputs": [
    {
     "name": "stdout",
     "output_type": "stream",
     "text": [
      "<list_reverseiterator object at 0x10b754dd8>\n",
      "3\n",
      "2\n",
      "1\n"
     ]
    }
   ],
   "source": [
    "nums = [1, 2, 3]\n",
    "rev_nums = reversed(nums)\n",
    "print(rev_nums)\n",
    "for x in rev_nums:\n",
    "    print(x)"
   ]
  },
  {
   "cell_type": "code",
   "execution_count": null,
   "metadata": {},
   "outputs": [],
   "source": []
  },
  {
   "cell_type": "code",
   "execution_count": null,
   "metadata": {},
   "outputs": [],
   "source": []
  },
  {
   "cell_type": "code",
   "execution_count": 59,
   "metadata": {},
   "outputs": [],
   "source": [
    " def factorial(n):    \n",
    "    if n == 1:\n",
    "        print(n)\n",
    "        return 1    \n",
    "    else:\n",
    "        print (n,'*', end=' ')\n",
    "        return n * factorial(n-1)"
   ]
  },
  {
   "cell_type": "code",
   "execution_count": 135,
   "metadata": {},
   "outputs": [
    {
     "name": "stdout",
     "output_type": "stream",
     "text": [
      "5 * 4 * 3 * 2 * 1\n"
     ]
    },
    {
     "data": {
      "text/plain": [
       "120"
      ]
     },
     "execution_count": 135,
     "metadata": {},
     "output_type": "execute_result"
    }
   ],
   "source": [
    "factorial(5)"
   ]
  },
  {
   "cell_type": "code",
   "execution_count": null,
   "metadata": {},
   "outputs": [],
   "source": []
  },
  {
   "cell_type": "code",
   "execution_count": 150,
   "metadata": {},
   "outputs": [
    {
     "name": "stdout",
     "output_type": "stream",
     "text": [
      "120\n"
     ]
    }
   ],
   "source": [
    "n = 5\n",
    "value = 1\n",
    "for x in range(n, 0, -1):\n",
    "    value = value *  x\n",
    "print(value)    "
   ]
  },
  {
   "cell_type": "code",
   "execution_count": 151,
   "metadata": {},
   "outputs": [
    {
     "name": "stdout",
     "output_type": "stream",
     "text": [
      "kihtrak\n"
     ]
    }
   ],
   "source": [
    "name = \"karthik\"\n",
    "print(name[::-1])"
   ]
  },
  {
   "cell_type": "code",
   "execution_count": null,
   "metadata": {},
   "outputs": [],
   "source": []
  }
 ],
 "metadata": {
  "kernelspec": {
   "display_name": "Python 3",
   "language": "python",
   "name": "python3"
  },
  "language_info": {
   "codemirror_mode": {
    "name": "ipython",
    "version": 3
   },
   "file_extension": ".py",
   "mimetype": "text/x-python",
   "name": "python",
   "nbconvert_exporter": "python",
   "pygments_lexer": "ipython3",
   "version": "3.7.1"
  }
 },
 "nbformat": 4,
 "nbformat_minor": 2
}
