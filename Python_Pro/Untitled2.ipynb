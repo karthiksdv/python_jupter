{
 "cells": [
  {
   "cell_type": "code",
   "execution_count": null,
   "metadata": {},
   "outputs": [],
   "source": [
    "# Import smtplib for the actual sending function\n",
    "import smtplib\n",
    "\n",
    "# Import the email modules we'll need\n",
    "from email.message import EmailMessage\n",
    "\n",
    "# Open the plain text file whose name is in textfile for reading.\n",
    "with open(textfile) as fp:\n",
    "    # Create a text/plain message\n",
    "    msg = EmailMessage()\n",
    "    msg.set_content(fp.read())\n",
    "\n",
    "# me == the sender's email address\n",
    "# you == the recipient's email address\n",
    "msg['Subject'] = f'The contents of {textfile}'\n",
    "msg['From'] = me\n",
    "msg['To'] = you\n",
    "\n",
    "# Send the message via our own SMTP server.\n",
    "s = smtplib.SMTP('localhost')\n",
    "s.send_message(msg)\n",
    "s.quit()"
   ]
  }
 ],
 "metadata": {
  "kernelspec": {
   "display_name": "Python 3",
   "language": "python",
   "name": "python3"
  },
  "language_info": {
   "codemirror_mode": {
    "name": "ipython",
    "version": 3
   },
   "file_extension": ".py",
   "mimetype": "text/x-python",
   "name": "python",
   "nbconvert_exporter": "python",
   "pygments_lexer": "ipython3",
   "version": "3.7.1"
  }
 },
 "nbformat": 4,
 "nbformat_minor": 2
}
