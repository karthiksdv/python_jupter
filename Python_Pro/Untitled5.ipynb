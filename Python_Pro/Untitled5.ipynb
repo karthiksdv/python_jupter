{
 "cells": [
  {
   "cell_type": "code",
   "execution_count": 5,
   "metadata": {},
   "outputs": [
    {
     "name": "stdout",
     "output_type": "stream",
     "text": [
      "['India', 'Is', 'An', 'awesome', 'Country']\n",
      "['Country', 'awesome', 'An', 'Is', 'India']\n",
      "Country awesome An Is India\n",
      "India Is An awesome Country\n"
     ]
    }
   ],
   "source": [
    "string = \"India Is An awesome Country\"\n",
    "\n",
    "string_list = string.split(\" \")\n",
    "print(string_list)\n",
    "string_list.reverse()\n",
    "print(string_list)\n",
    "\n",
    "rev_strin = \" \".join(string_list)\n",
    "print(rev_strin)\n",
    "#print(list(reversed(string_list)))\n",
    "print(string)"
   ]
  },
  {
   "cell_type": "code",
   "execution_count": null,
   "metadata": {},
   "outputs": [],
   "source": []
  },
  {
   "cell_type": "code",
   "execution_count": 7,
   "metadata": {},
   "outputs": [],
   "source": [
    "str1 = \"ABCDCDC\"\n",
    "Polindrome "
   ]
  },
  {
   "cell_type": "code",
   "execution_count": null,
   "metadata": {},
   "outputs": [],
   "source": []
  },
  {
   "cell_type": "code",
   "execution_count": 4,
   "metadata": {},
   "outputs": [
    {
     "data": {
      "text/plain": [
       "[{'userId': 1,\n",
       "  'firstName': 'Krish',\n",
       "  'lastName': 'Lee',\n",
       "  'salary': 20000,\n",
       "  'emailAddress': 'krish.lee@learningcontainer.com'},\n",
       " {'userId': 2,\n",
       "  'firstName': 'racks',\n",
       "  'lastName': 'jacson',\n",
       "  'salary': '15000',\n",
       "  'emailAddress': 'racks.jacson@learningcontainer.com'},\n",
       " {'userId': 3,\n",
       "  'firstName': 'denial',\n",
       "  'lastName': 'roast',\n",
       "  'salary': 50000,\n",
       "  'emailAddress': 'denial.roast@learningcontainer.com'},\n",
       " {'userId': 4,\n",
       "  'firstName': 'devid',\n",
       "  'lastName': 'neo',\n",
       "  'salary': '222222222',\n",
       "  'emailAddress': 'devid.neo@learningcontainer.com'},\n",
       " {'userId': 5,\n",
       "  'firstName': 'jone',\n",
       "  'lastName': 'mac',\n",
       "  'salary': '11111',\n",
       "  'emailAddress': 'jone.mac@learningcontainer.com'}]"
      ]
     },
     "execution_count": 4,
     "metadata": {},
     "output_type": "execute_result"
    }
   ],
   "source": [
    "dict = [ { \"userId\": 1, \"firstName\": \"Krish\", \"lastName\": \"Lee\", \"salary\": 20000, \"emailAddress\": \"krish.lee@learningcontainer.com\" }, { \"userId\": 2, \"firstName\": \"racks\", \"lastName\": \"jacson\", \"salary\": \"15000\", \"emailAddress\": \"racks.jacson@learningcontainer.com\" }, { \"userId\": 3, \"firstName\": \"denial\", \"lastName\": \"roast\", \"salary\": 50000, \"emailAddress\": \"denial.roast@learningcontainer.com\" }, { \"userId\": 4, \"firstName\": \"devid\", \"lastName\": \"neo\", \"salary\": \"222222222\", \"emailAddress\": \"devid.neo@learningcontainer.com\" }, { \"userId\": 5, \"firstName\": \"jone\", \"lastName\": \"mac\", \"salary\": \"11111\", \"emailAddress\": \"jone.mac@learningcontainer.com\" } ]\n",
    "dict"
   ]
  },
  {
   "cell_type": "code",
   "execution_count": 3,
   "metadata": {},
   "outputs": [
    {
     "data": {
      "text/plain": [
       "{'userId': 1,\n",
       " 'firstName': 'Krish',\n",
       " 'lastName': 'Lee',\n",
       " 'salary': 20000,\n",
       " 'emailAddress': 'krish.lee@learningcontainer.com'}"
      ]
     },
     "execution_count": 3,
     "metadata": {},
     "output_type": "execute_result"
    }
   ],
   "source": [
    "dict[0]"
   ]
  },
  {
   "cell_type": "code",
   "execution_count": 11,
   "metadata": {},
   "outputs": [],
   "source": [
    "numbers = [2,4,1,2,5,2,3,5,2,8,1,5]\n",
    "#output = {2:4, 1:2, 3:1, 4:1...}"
   ]
  },
  {
   "cell_type": "code",
   "execution_count": null,
   "metadata": {},
   "outputs": [],
   "source": []
  },
  {
   "cell_type": "code",
   "execution_count": 4,
   "metadata": {},
   "outputs": [
    {
     "name": "stdout",
     "output_type": "stream",
     "text": [
      "[{'userId': 1, 'firstName': 'Krish', 'lastName': 'Lee', 'phoneNumber': '123456', 'emailAddress': 'krish.lee@learningcontainer.com'}, {'userId': 2, 'firstName': 'racks', 'lastName': 'jacson', 'phoneNumber': '123456', 'emailAddress': 'racks.jacson@learningcontainer.com'}, {'userId': 3, 'firstName': 'denial', 'lastName': 'roast', 'phoneNumber': '33333333', 'emailAddress': 'denial.roast@learningcontainer.com'}, {'userId': 4, 'firstName': 'devid', 'lastName': 'neo', 'phoneNumber': '222222222', 'emailAddress': 'devid.neo@learningcontainer.com'}, {'userId': 5, 'firstName': 'jone', 'lastName': 'mac', 'phoneNumber': '111111111', 'emailAddress': 'jone.mac@learningcontainer.com'}]\n"
     ]
    }
   ],
   "source": [
    "dict = [ { \"userId\": 1, \"firstName\": \"Krish\", \"lastName\": \"Lee\", \"phoneNumber\": \"123456\", \"emailAddress\": \"krish.lee@learningcontainer.com\" }, { \"userId\": 2, \"firstName\": \"racks\", \"lastName\": \"jacson\", \"phoneNumber\": \"123456\", \"emailAddress\": \"racks.jacson@learningcontainer.com\" }, { \"userId\": 3, \"firstName\": \"denial\", \"lastName\": \"roast\", \"phoneNumber\": \"33333333\", \"emailAddress\": \"denial.roast@learningcontainer.com\" }, { \"userId\": 4, \"firstName\": \"devid\", \"lastName\": \"neo\", \"phoneNumber\": \"222222222\", \"emailAddress\": \"devid.neo@learningcontainer.com\" }, { \"userId\": 5, \"firstName\": \"jone\", \"lastName\": \"mac\", \"phoneNumber\": \"111111111\", \"emailAddress\": \"jone.mac@learningcontainer.com\" } ]\n",
    "\n",
    "\n",
    "print(dict)"
   ]
  },
  {
   "cell_type": "code",
   "execution_count": 2,
   "metadata": {},
   "outputs": [
    {
     "ename": "NameError",
     "evalue": "name 'dict_data' is not defined",
     "output_type": "error",
     "traceback": [
      "\u001b[0;31m---------------------------------------------------------------------------\u001b[0m",
      "\u001b[0;31mNameError\u001b[0m                                 Traceback (most recent call last)",
      "\u001b[0;32m<ipython-input-2-8e574e663427>\u001b[0m in \u001b[0;36m<module>\u001b[0;34m\u001b[0m\n\u001b[1;32m      3\u001b[0m \u001b[0mdict_list\u001b[0m \u001b[0;34m=\u001b[0m\u001b[0;34m[\u001b[0m\u001b[0;34m]\u001b[0m\u001b[0;34m\u001b[0m\u001b[0;34m\u001b[0m\u001b[0m\n\u001b[1;32m      4\u001b[0m \u001b[0mres\u001b[0m \u001b[0;34m=\u001b[0m\u001b[0;34m{\u001b[0m\u001b[0;34m}\u001b[0m\u001b[0;34m\u001b[0m\u001b[0;34m\u001b[0m\u001b[0m\n\u001b[0;32m----> 5\u001b[0;31m \u001b[0mprint\u001b[0m\u001b[0;34m(\u001b[0m\u001b[0mtype\u001b[0m\u001b[0;34m(\u001b[0m\u001b[0mdict_data\u001b[0m\u001b[0;34m)\u001b[0m\u001b[0;34m)\u001b[0m\u001b[0;34m\u001b[0m\u001b[0;34m\u001b[0m\u001b[0m\n\u001b[0m\u001b[1;32m      6\u001b[0m \u001b[0;32mfor\u001b[0m \u001b[0mdata\u001b[0m \u001b[0;32min\u001b[0m \u001b[0mdict\u001b[0m\u001b[0;34m:\u001b[0m\u001b[0;34m\u001b[0m\u001b[0;34m\u001b[0m\u001b[0m\n\u001b[1;32m      7\u001b[0m     \u001b[0mlist1\u001b[0m\u001b[0;34m.\u001b[0m\u001b[0mappend\u001b[0m\u001b[0;34m(\u001b[0m\u001b[0mdata\u001b[0m\u001b[0;34m[\u001b[0m\u001b[0;34m'userId'\u001b[0m\u001b[0;34m]\u001b[0m\u001b[0;34m)\u001b[0m\u001b[0;34m\u001b[0m\u001b[0;34m\u001b[0m\u001b[0m\n",
      "\u001b[0;31mNameError\u001b[0m: name 'dict_data' is not defined"
     ]
    }
   ],
   "source": [
    "list1 =[]\n",
    "list2=[]\n",
    "dict_list =[]\n",
    "res ={}\n",
    "print(type(dict_data))\n",
    "for data in dict:\n",
    "    list1.append(data['userId'])\n",
    "    list2.append(data['firstName'])\n",
    "    #dict_data['userId'] = data['userId']\n",
    "    #dict_data['firstName'] = data['userId']\n",
    "    dict_list.append(data)\n",
    "    for key, value in data.items():\n",
    "        datas = value\n",
    "        #dict_data.extends(0, {dict_data[key]:datas})\n",
    "    #dict_data.extend(data)\n",
    "\n",
    "print(list1)\n",
    "print(list2)\n",
    "print(dict_list)"
   ]
  },
  {
   "cell_type": "code",
   "execution_count": null,
   "metadata": {},
   "outputs": [],
   "source": []
  },
  {
   "cell_type": "code",
   "execution_count": 2,
   "metadata": {},
   "outputs": [
    {
     "name": "stdout",
     "output_type": "stream",
     "text": [
      "1\n",
      "2\n",
      "3\n",
      "4\n",
      "5\n",
      "{1: 1, 2: 4, 3: 9, 4: 16, 5: 25}\n"
     ]
    }
   ],
   "source": [
    "n = 5\n",
    "#input n=3\n",
    "#Output: {1:1, 2:4, 3:9}\n",
    "dict = {}\n",
    "for i in range(1, n+1):\n",
    "    print(i)\n",
    "    dict[i] = i * i\n",
    "\n",
    "print(dict)    "
   ]
  },
  {
   "cell_type": "code",
   "execution_count": 26,
   "metadata": {},
   "outputs": [
    {
     "ename": "SyntaxError",
     "evalue": "invalid syntax (<ipython-input-26-c6d4325a48ba>, line 1)",
     "output_type": "error",
     "traceback": [
      "\u001b[0;36m  File \u001b[0;32m\"<ipython-input-26-c6d4325a48ba>\"\u001b[0;36m, line \u001b[0;32m1\u001b[0m\n\u001b[0;31m    -rw-rw-r-- 1 abb abb 1950 Nov 26 16:35 deployment.toml\u001b[0m\n\u001b[0m                   ^\u001b[0m\n\u001b[0;31mSyntaxError\u001b[0m\u001b[0;31m:\u001b[0m invalid syntax\n"
     ]
    }
   ],
   "source": [
    "-rw-rw-r-- 1 abb abb 1950 Nov 26 16:35 deployment.toml\n",
    "-rw-rw-r-- 1 abb abb 1559 Aug 5 15:07 deployment.toml_old\n",
    "-rw-rw-r-- 1 abb abb 2561 Aug 2 09:28 sslkey_bkp.jks\n",
    "-rw-rw-r-- 1 abb abb 2561 Nov 26 16:38 sslkey.jks\n",
    "-rw-rw-r-- 1 abb abb 2762 Jul 29 14:58 sslkey.jks_old\n",
    "]"
   ]
  },
  {
   "cell_type": "code",
   "execution_count": 49,
   "metadata": {},
   "outputs": [
    {
     "ename": "SyntaxError",
     "evalue": "invalid syntax (<ipython-input-49-88339199c7a7>, line 1)",
     "output_type": "error",
     "traceback": [
      "\u001b[0;36m  File \u001b[0;32m\"<ipython-input-49-88339199c7a7>\"\u001b[0;36m, line \u001b[0;32m1\u001b[0m\n\u001b[0;31m    192.168.1.10 to 192.168.1.20\u001b[0m\n\u001b[0m            ^\u001b[0m\n\u001b[0;31mSyntaxError\u001b[0m\u001b[0;31m:\u001b[0m invalid syntax\n"
     ]
    }
   ],
   "source": [
    "192.168.1.10 to 192.168.1.20\n",
    "\n",
    "regex = \"^(192.168.1)+\\.[10-20]$\""
   ]
  },
  {
   "cell_type": "code",
   "execution_count": null,
   "metadata": {},
   "outputs": [],
   "source": []
  },
  {
   "cell_type": "code",
   "execution_count": 61,
   "metadata": {},
   "outputs": [
    {
     "data": {
      "text/plain": [
       "0"
      ]
     },
     "execution_count": 61,
     "metadata": {},
     "output_type": "execute_result"
    }
   ],
   "source": [
    "import subprocess\n",
    "import os\n",
    "\n",
    "os.system('pwd')\n"
   ]
  },
  {
   "cell_type": "code",
   "execution_count": 56,
   "metadata": {},
   "outputs": [
    {
     "name": "stdout",
     "output_type": "stream",
     "text": [
      "posix\n"
     ]
    }
   ],
   "source": [
    "import os\n",
    "\n",
    "print(os.name)"
   ]
  },
  {
   "cell_type": "code",
   "execution_count": 1,
   "metadata": {},
   "outputs": [
    {
     "data": {
      "text/plain": [
       "0"
      ]
     },
     "execution_count": 1,
     "metadata": {},
     "output_type": "execute_result"
    }
   ],
   "source": [
    "# Importing required module\n",
    "import os\n",
    "  \n",
    "# Using system() method to execute\n",
    "# shell commands\n",
    "os.system('ls')"
   ]
  },
  {
   "cell_type": "code",
   "execution_count": 63,
   "metadata": {},
   "outputs": [
    {
     "name": "stdout",
     "output_type": "stream",
     "text": [
      "\u001b[31mERROR: Could not find a version that satisfies the requirement os (from versions: none)\u001b[0m\n",
      "\u001b[31mERROR: No matching distribution found for os\u001b[0m\n",
      "\u001b[33mWARNING: You are using pip version 21.2.4; however, version 21.3.1 is available.\n",
      "You should consider upgrading via the '/Users/devuser/anaconda3/bin/python -m pip install --upgrade pip' command.\u001b[0m\n",
      "Note: you may need to restart the kernel to use updated packages.\n"
     ]
    }
   ],
   "source": [
    "pip install os"
   ]
  },
  {
   "cell_type": "code",
   "execution_count": 3,
   "metadata": {},
   "outputs": [
    {
     "data": {
      "text/plain": [
       "'/Users/devuser/Python_Pro'"
      ]
     },
     "execution_count": 3,
     "metadata": {},
     "output_type": "execute_result"
    }
   ],
   "source": [
    "pwd"
   ]
  },
  {
   "cell_type": "code",
   "execution_count": null,
   "metadata": {},
   "outputs": [],
   "source": []
  },
  {
   "cell_type": "code",
   "execution_count": null,
   "metadata": {},
   "outputs": [],
   "source": []
  },
  {
   "cell_type": "code",
   "execution_count": null,
   "metadata": {},
   "outputs": [],
   "source": []
  },
  {
   "cell_type": "code",
   "execution_count": null,
   "metadata": {},
   "outputs": [],
   "source": []
  },
  {
   "cell_type": "code",
   "execution_count": null,
   "metadata": {},
   "outputs": [],
   "source": []
  },
  {
   "cell_type": "code",
   "execution_count": 5,
   "metadata": {},
   "outputs": [
    {
     "name": "stdout",
     "output_type": "stream",
     "text": [
      "<_csv.reader object at 0x11012edd8>\n",
      "Total no. of rows: 170\n",
      "Field names are:Duration, Pulse, Maxpulse, Calories\n",
      "\n",
      "First 5 rows are:\n",
      "\n",
      "        60\n",
      "       110\n",
      "       130\n",
      "     409.1\n",
      "\n",
      "\n",
      "        60\n",
      "       117\n",
      "       145\n",
      "       479\n",
      "\n",
      "\n",
      "        60\n",
      "       103\n",
      "       135\n",
      "       340\n",
      "\n",
      "\n",
      "        45\n",
      "       109\n",
      "       175\n",
      "     282.4\n",
      "\n",
      "\n",
      "        45\n",
      "       117\n",
      "       148\n",
      "       406\n",
      "\n",
      "\n"
     ]
    }
   ],
   "source": [
    "# importing csv module\n",
    "import csv\n",
    "  \n",
    "# csv file name\n",
    "filename = \"data.csv\"\n",
    "  \n",
    "# initializing the titles and rows list\n",
    "fields = []\n",
    "rows = []\n",
    "  \n",
    "# reading csv file\n",
    "with open(filename, 'r') as csvfile:\n",
    "    # creating a csv reader object\n",
    "    csvreader = csv.reader(csvfile)\n",
    "    print(csvreader)  \n",
    "    # extracting field names through first row\n",
    "    fields = next(csvreader)\n",
    "  \n",
    "    # extracting each data row one by one\n",
    "    for row in csvreader:\n",
    "        rows.append(row)\n",
    "  \n",
    "    # get total number of rows\n",
    "    print(\"Total no. of rows: %d\"%(csvreader.line_num))\n",
    "  \n",
    "# printing the field names\n",
    "print('Field names are:' + ', '.join(field for field in fields))\n",
    "  \n",
    "#  printing first 5 rows\n",
    "print('\\nFirst 5 rows are:\\n')\n",
    "for row in rows[:5]:\n",
    "    # parsing each column of a row\n",
    "    for col in row:\n",
    "        print(\"%10s\"%col),\n",
    "    print('\\n')"
   ]
  },
  {
   "cell_type": "code",
   "execution_count": 6,
   "metadata": {},
   "outputs": [
    {
     "name": "stdout",
     "output_type": "stream",
     "text": [
      "Requirement already satisfied: pyyaml in /Users/devuser/anaconda3/lib/python3.7/site-packages (5.3.1)\n",
      "\u001b[33mWARNING: You are using pip version 21.2.4; however, version 21.3.1 is available.\n",
      "You should consider upgrading via the '/Users/devuser/anaconda3/bin/python -m pip install --upgrade pip' command.\u001b[0m\n",
      "Note: you may need to restart the kernel to use updated packages.\n"
     ]
    }
   ],
   "source": [
    "pip install pyyaml"
   ]
  },
  {
   "cell_type": "code",
   "execution_count": null,
   "metadata": {},
   "outputs": [],
   "source": []
  },
  {
   "cell_type": "code",
   "execution_count": null,
   "metadata": {},
   "outputs": [],
   "source": []
  },
  {
   "cell_type": "code",
   "execution_count": 18,
   "metadata": {},
   "outputs": [
    {
     "name": "stdout",
     "output_type": "stream",
     "text": [
      "http://da3d-gen-sp8-app007.dalab.syniverse.com/notification-service/v1/service-alerts\n",
      "Key: Value\n"
     ]
    },
    {
     "name": "stderr",
     "output_type": "stream",
     "text": [
      "/Users/devuser/anaconda3/lib/python3.7/site-packages/ipykernel_launcher.py:4: YAMLLoadWarning: calling yaml.load() without Loader=... is deprecated, as the default Loader is unsafe. Please read https://msg.pyyaml.org/load for full details.\n",
      "  after removing the cwd from sys.path.\n"
     ]
    }
   ],
   "source": [
    "import yaml\n",
    "\n",
    "yaml_file = open(\"dbconfig.yaml\", 'r')\n",
    "yaml_content = yaml.load(yaml_file)\n",
    "\n",
    "print(yaml_content['dev']['server'])\n",
    "print(\"Key: Value\")\n",
    "#"
   ]
  },
  {
   "cell_type": "code",
   "execution_count": null,
   "metadata": {},
   "outputs": [],
   "source": []
  },
  {
   "cell_type": "code",
   "execution_count": null,
   "metadata": {},
   "outputs": [],
   "source": []
  },
  {
   "cell_type": "code",
   "execution_count": null,
   "metadata": {},
   "outputs": [],
   "source": []
  },
  {
   "cell_type": "code",
   "execution_count": 34,
   "metadata": {},
   "outputs": [
    {
     "name": "stdout",
     "output_type": "stream",
     "text": [
      "0\n",
      "2\n",
      "2\n",
      "1.04\n",
      "1.05\n",
      "1.04\n",
      "\n",
      "10500\n",
      "10400\n"
     ]
    }
   ],
   "source": [
    "class Employee:\n",
    "    \n",
    "    raise_amount = 1.04\n",
    "    num_of_emps = 0\n",
    "\n",
    "    def __init__(self, first, last, pay):\n",
    "        self.first = first\n",
    "        self.last = last\n",
    "        self.pay = pay\n",
    "        self.email = first + \".\"+last+\"@gmail.com\"\n",
    "        Employee.num_of_emps += 1\n",
    "        #print(self.first, self.pay, self.email)\n",
    "\n",
    "    def fullname(self):\n",
    "        return '{} {}'.format(self.first, self.last)\n",
    "    \n",
    "    def apply_raise(self):\n",
    "        self.pay = int(self.pay * self.raise_amount)\n",
    "        return self.pay\n",
    "    \n",
    "print(Employee.num_of_emps)    \n",
    "emp_1 = Employee('Karthik', 'Dhanbal', 10000)\n",
    "emp_2 = Employee('Test', 'User', 10000)\n",
    "print(Employee.num_of_emps)    \n",
    "print(emp_1.num_of_emps)    \n",
    "\n",
    "emp_1.raise_amount = 1.05\n",
    "\n",
    "print(Employee.raise_amount)\n",
    "print(emp_1.raise_amount)\n",
    "print(emp_2.raise_amount)\n",
    "print()   \n",
    "print(emp_1.apply_raise())\n",
    "print(emp_2.apply_raise())"
   ]
  },
  {
   "cell_type": "code",
   "execution_count": null,
   "metadata": {},
   "outputs": [],
   "source": []
  },
  {
   "cell_type": "code",
   "execution_count": null,
   "metadata": {},
   "outputs": [],
   "source": []
  },
  {
   "cell_type": "code",
   "execution_count": 46,
   "metadata": {},
   "outputs": [
    {
     "name": "stdout",
     "output_type": "stream",
     "text": [
      "HI\n"
     ]
    }
   ],
   "source": [
    "def outer_func():\n",
    "    message = \"HI\"\n",
    "    def inner_func():\n",
    "        print(message)\n",
    "    return inner_func\n",
    "\n",
    "my_value = outer_func()\n",
    "my_value()"
   ]
  },
  {
   "cell_type": "code",
   "execution_count": 47,
   "metadata": {},
   "outputs": [
    {
     "name": "stdout",
     "output_type": "stream",
     "text": [
      "HELLO\n"
     ]
    },
    {
     "ename": "TypeError",
     "evalue": "shout() missing 1 required positional argument: 'text'",
     "output_type": "error",
     "traceback": [
      "\u001b[0;31m---------------------------------------------------------------------------\u001b[0m",
      "\u001b[0;31mTypeError\u001b[0m                                 Traceback (most recent call last)",
      "\u001b[0;32m<ipython-input-47-51af667da80b>\u001b[0m in \u001b[0;36m<module>\u001b[0;34m\u001b[0m\n\u001b[1;32m      4\u001b[0m \u001b[0mprint\u001b[0m\u001b[0;34m(\u001b[0m\u001b[0mshout\u001b[0m\u001b[0;34m(\u001b[0m\u001b[0;34m'Hello'\u001b[0m\u001b[0;34m)\u001b[0m\u001b[0;34m)\u001b[0m\u001b[0;34m\u001b[0m\u001b[0;34m\u001b[0m\u001b[0m\n\u001b[1;32m      5\u001b[0m \u001b[0;34m\u001b[0m\u001b[0m\n\u001b[0;32m----> 6\u001b[0;31m \u001b[0myell\u001b[0m \u001b[0;34m=\u001b[0m \u001b[0mshout\u001b[0m\u001b[0;34m(\u001b[0m\u001b[0;34m)\u001b[0m\u001b[0;34m\u001b[0m\u001b[0;34m\u001b[0m\u001b[0m\n\u001b[0m\u001b[1;32m      7\u001b[0m \u001b[0;34m\u001b[0m\u001b[0m\n\u001b[1;32m      8\u001b[0m \u001b[0mprint\u001b[0m\u001b[0;34m(\u001b[0m\u001b[0myell\u001b[0m\u001b[0;34m(\u001b[0m\u001b[0;34m'Hello'\u001b[0m\u001b[0;34m)\u001b[0m\u001b[0;34m)\u001b[0m\u001b[0;34m\u001b[0m\u001b[0;34m\u001b[0m\u001b[0m\n",
      "\u001b[0;31mTypeError\u001b[0m: shout() missing 1 required positional argument: 'text'"
     ]
    }
   ],
   "source": [
    "def shout(text):\n",
    "    return text.upper()\n",
    " \n",
    "print(shout('Hello'))\n",
    " \n",
    "yell = shout()\n",
    " \n",
    "print(yell('Hello'))"
   ]
  },
  {
   "cell_type": "code",
   "execution_count": null,
   "metadata": {},
   "outputs": [],
   "source": []
  },
  {
   "cell_type": "code",
   "execution_count": null,
   "metadata": {},
   "outputs": [],
   "source": []
  },
  {
   "cell_type": "code",
   "execution_count": null,
   "metadata": {},
   "outputs": [],
   "source": []
  },
  {
   "cell_type": "code",
   "execution_count": null,
   "metadata": {},
   "outputs": [],
   "source": []
  },
  {
   "cell_type": "code",
   "execution_count": null,
   "metadata": {},
   "outputs": [],
   "source": []
  },
  {
   "cell_type": "code",
   "execution_count": 53,
   "metadata": {},
   "outputs": [
    {
     "name": "stdout",
     "output_type": "stream",
     "text": [
      "before Execution\n",
      "Inside the function\n",
      "after Execution\n",
      "Sum = 3\n"
     ]
    }
   ],
   "source": [
    "def hello_decorator(func):\n",
    "    \n",
    " def inner1(*args, **kwargs):\n",
    "  \n",
    "  print(\"before Execution\")\n",
    "  \n",
    "  # getting the returned value\n",
    "  returned_value = func(*args, **kwargs)\n",
    "  print(\"after Execution\")\n",
    "  \n",
    "  # returning the value to the original frame\n",
    "  return returned_value\n",
    "  \n",
    " return inner1\n",
    "\n",
    "\n",
    "# adding decorator to the function\n",
    "@hello_decorator\n",
    "def sum_two_numbers(a, b):\n",
    " print(\"Inside the function\")\n",
    " return a + b\n",
    "\n",
    "a, b = 1, 2\n",
    "\n",
    "# getting the value through return of the function\n",
    "print(\"Sum =\", sum_two_numbers(a, b))\n"
   ]
  },
  {
   "cell_type": "code",
   "execution_count": 54,
   "metadata": {},
   "outputs": [
    {
     "name": "stdout",
     "output_type": "stream",
     "text": [
      "['aaaa', 'bbb', 'cc', 'd']\n"
     ]
    }
   ],
   "source": [
    "L = ['aaaa', 'bbb', 'cc', 'd']\n",
    "print(L)"
   ]
  },
  {
   "cell_type": "code",
   "execution_count": 59,
   "metadata": {},
   "outputs": [
    {
     "name": "stdout",
     "output_type": "stream",
     "text": [
      "[1, 2, 3, 4]\n"
     ]
    }
   ],
   "source": [
    "numbers = [1, 3, 4, 2] \n",
    "    \n",
    "# Sorting list of Integers \n",
    "numbers.sort() \n",
    "    \n",
    "print(numbers) "
   ]
  },
  {
   "cell_type": "code",
   "execution_count": 60,
   "metadata": {},
   "outputs": [
    {
     "name": "stdout",
     "output_type": "stream",
     "text": [
      "[1, 3, 4, 2]\n"
     ]
    }
   ],
   "source": [
    "numbers = [1, 3, 4, 2] \n",
    "    \n",
    "# Sorting list of Integers \n",
    "sorted(numbers)    \n",
    "print(numbers) "
   ]
  },
  {
   "cell_type": "code",
   "execution_count": 61,
   "metadata": {},
   "outputs": [
    {
     "name": "stdout",
     "output_type": "stream",
     "text": [
      "[1, 3, 4, 2]\n"
     ]
    }
   ],
   "source": [
    "numbers = [1, 3, 4, 2] \n",
    "    \n",
    "# Sorting list of Integers \n",
    "reversed(numbers)    \n",
    "print(numbers)"
   ]
  },
  {
   "cell_type": "code",
   "execution_count": 62,
   "metadata": {},
   "outputs": [
    {
     "name": "stdout",
     "output_type": "stream",
     "text": [
      "[2, 4, 3, 1]\n"
     ]
    }
   ],
   "source": [
    "numbers = [1, 3, 4, 2] \n",
    "    \n",
    "# Sorting list of Integers \n",
    "numbers.reverse()\n",
    "print(numbers)"
   ]
  },
  {
   "cell_type": "code",
   "execution_count": 63,
   "metadata": {},
   "outputs": [
    {
     "data": {
      "text/plain": [
       "[1, 2, 3, 2, 1, 5, 6, 5, 5, 5]"
      ]
     },
     "execution_count": 63,
     "metadata": {},
     "output_type": "execute_result"
    }
   ],
   "source": [
    "a = [1,2,3,2,1,5,6,5,5,5]\n",
    "a"
   ]
  },
  {
   "cell_type": "code",
   "execution_count": 64,
   "metadata": {},
   "outputs": [
    {
     "data": {
      "text/plain": [
       "{1, 2, 3, 5, 6}"
      ]
     },
     "execution_count": 64,
     "metadata": {},
     "output_type": "execute_result"
    }
   ],
   "source": [
    "a = set(a)\n",
    "a"
   ]
  },
  {
   "cell_type": "code",
   "execution_count": 65,
   "metadata": {},
   "outputs": [
    {
     "data": {
      "text/plain": [
       "[1, 2, 3, 5, 6]"
      ]
     },
     "execution_count": 65,
     "metadata": {},
     "output_type": "execute_result"
    }
   ],
   "source": [
    "a = list(a)\n",
    "a"
   ]
  },
  {
   "cell_type": "code",
   "execution_count": 66,
   "metadata": {},
   "outputs": [
    {
     "name": "stdout",
     "output_type": "stream",
     "text": [
      "['apple', 'banana', 'cherry', 'mango', 'pineapple', 'papaya']\n"
     ]
    }
   ],
   "source": [
    "thislist = [\"apple\", \"banana\", \"cherry\"]\n",
    "tropical = [\"mango\", \"pineapple\", \"papaya\"]\n",
    "thislist.extend(tropical)\n",
    "print(thislist)"
   ]
  },
  {
   "cell_type": "code",
   "execution_count": 67,
   "metadata": {},
   "outputs": [
    {
     "name": "stdout",
     "output_type": "stream",
     "text": [
      "['apple', 'banana', 'cherry', ['mango', 'pineapple', 'papaya']]\n"
     ]
    }
   ],
   "source": [
    "thislist = [\"apple\", \"banana\", \"cherry\"]\n",
    "tropical = [\"mango\", \"pineapple\", \"papaya\"]\n",
    "thislist.append(tropical)\n",
    "print(thislist)"
   ]
  },
  {
   "cell_type": "code",
   "execution_count": 69,
   "metadata": {},
   "outputs": [
    {
     "name": "stdout",
     "output_type": "stream",
     "text": [
      "['apple', 'banana', 'cherry']\n"
     ]
    }
   ],
   "source": [
    "thislist = [\"apple\", \"banana\", \"cherry\"]\n",
    "tropical = [\"mango\", \"pineapple\", \"papaya\"]\n",
    "\n",
    "print(thislist)"
   ]
  },
  {
   "cell_type": "code",
   "execution_count": 70,
   "metadata": {},
   "outputs": [
    {
     "name": "stdout",
     "output_type": "stream",
     "text": [
      "['apple', 'cherry']\n"
     ]
    }
   ],
   "source": [
    "thislist = [\"apple\", \"banana\", \"cherry\"]\n",
    "thislist.pop(1)\n",
    "print(thislist)"
   ]
  },
  {
   "cell_type": "code",
   "execution_count": 71,
   "metadata": {},
   "outputs": [
    {
     "name": "stdout",
     "output_type": "stream",
     "text": [
      "['apple', 'banana']\n"
     ]
    }
   ],
   "source": [
    "thislist = [\"apple\", \"banana\", \"cherry\"]\n",
    "thislist.pop()\n",
    "print(thislist)"
   ]
  },
  {
   "cell_type": "code",
   "execution_count": 73,
   "metadata": {},
   "outputs": [
    {
     "name": "stdout",
     "output_type": "stream",
     "text": [
      "brand Ford\n",
      "city BLR\n",
      "model Mustang\n",
      "year 1964\n"
     ]
    }
   ],
   "source": [
    "car = {\n",
    "  \"brand\": \"Ford\",\n",
    "  \"model\": \"Mustang\",\n",
    "  \"year\": 1964,\n",
    "  \"city\": \"BLR\"  \n",
    "}\n",
    "\n",
    "for key, value in sorted(car.items()):\n",
    "    print(key, value)"
   ]
  },
  {
   "cell_type": "code",
   "execution_count": 3,
   "metadata": {},
   "outputs": [
    {
     "name": "stdout",
     "output_type": "stream",
     "text": [
      "({'userId': 1, 'firstName': 'Krish', 'lastName': 'Lee', 'phoneNumber': '123456', 'emailAddress': 'krish.lee@learningcontainer.com'}, {'userId': 2, 'firstName': 'racks', 'lastName': 'jacson', 'phoneNumber': '123456', 'emailAddress': 'racks.jacson@learningcontainer.com'}, {'userId': 3, 'firstName': 'denial', 'lastName': 'roast', 'phoneNumber': '33333333', 'emailAddress': 'denial.roast@learningcontainer.com'}, {'userId': 4, 'firstName': 'devid', 'lastName': 'neo', 'phoneNumber': '222222222', 'emailAddress': 'devid.neo@learningcontainer.com'}, {'userId': 5, 'firstName': 'jone', 'lastName': 'mac', 'phoneNumber': '111111111', 'emailAddress': 'jone.mac@learningcontainer.com'})\n"
     ]
    }
   ],
   "source": [
    "dict = { \"userId\": 1, \"firstName\": \"Krish\", \"lastName\": \"Lee\", \"phoneNumber\": \"123456\", \"emailAddress\": \"krish.lee@learningcontainer.com\" }, { \"userId\": 2, \"firstName\": \"racks\", \"lastName\": \"jacson\", \"phoneNumber\": \"123456\", \"emailAddress\": \"racks.jacson@learningcontainer.com\" }, { \"userId\": 3, \"firstName\": \"denial\", \"lastName\": \"roast\", \"phoneNumber\": \"33333333\", \"emailAddress\": \"denial.roast@learningcontainer.com\" }, { \"userId\": 4, \"firstName\": \"devid\", \"lastName\": \"neo\", \"phoneNumber\": \"222222222\", \"emailAddress\": \"devid.neo@learningcontainer.com\" }, { \"userId\": 5, \"firstName\": \"jone\", \"lastName\": \"mac\", \"phoneNumber\": \"111111111\", \"emailAddress\": \"jone.mac@learningcontainer.com\" } \n",
    "\n",
    "print(dict)"
   ]
  },
  {
   "cell_type": "code",
   "execution_count": null,
   "metadata": {},
   "outputs": [],
   "source": [
    "for key, value in sorted(car.items()):\n",
    "    print(key, value)"
   ]
  }
 ],
 "metadata": {
  "kernelspec": {
   "display_name": "Python 3",
   "language": "python",
   "name": "python3"
  },
  "language_info": {
   "codemirror_mode": {
    "name": "ipython",
    "version": 3
   },
   "file_extension": ".py",
   "mimetype": "text/x-python",
   "name": "python",
   "nbconvert_exporter": "python",
   "pygments_lexer": "ipython3",
   "version": "3.7.1"
  }
 },
 "nbformat": 4,
 "nbformat_minor": 2
}
