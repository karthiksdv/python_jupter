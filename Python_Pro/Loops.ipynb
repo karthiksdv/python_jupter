{
 "cells": [
  {
   "cell_type": "markdown",
   "metadata": {},
   "source": [
    "# FOR loop with BREAK and CONTINUE key word"
   ]
  },
  {
   "cell_type": "code",
   "execution_count": 4,
   "metadata": {},
   "outputs": [
    {
     "name": "stdout",
     "output_type": "stream",
     "text": [
      "1\n",
      "2\n",
      "3\n",
      "Fount it!\n"
     ]
    }
   ],
   "source": [
    "number = [1,2,3,73,4,5]\n",
    "\n",
    "## Break the loop after met the condition\n",
    "for num in number:\n",
    "    if num == 73:\n",
    "        print(\"Fount it!\")\n",
    "        break\n",
    "    print(num)    "
   ]
  },
  {
   "cell_type": "code",
   "execution_count": 5,
   "metadata": {},
   "outputs": [
    {
     "name": "stdout",
     "output_type": "stream",
     "text": [
      "1\n",
      "2\n",
      "Fount it!\n",
      "73\n",
      "4\n",
      "5\n"
     ]
    }
   ],
   "source": [
    "## Continue the loop even though met condition\n",
    "\n",
    "for num in number:\n",
    "    if num == 3:\n",
    "        print(\"Fount it!\")\n",
    "        continue\n",
    "    print(num) "
   ]
  },
  {
   "cell_type": "code",
   "execution_count": 6,
   "metadata": {},
   "outputs": [
    {
     "name": "stdout",
     "output_type": "stream",
     "text": [
      "1\n",
      "2\n",
      "Fount it!\n",
      "73\n",
      "4\n",
      "5\n"
     ]
    }
   ],
   "source": [
    "## include the ELSE block and test it\n",
    "\n",
    "for num in number:\n",
    "    if num == 3:\n",
    "        print(\"Fount it!\")\n",
    "        continue\n",
    "    else:\n",
    "        print(num) "
   ]
  },
  {
   "cell_type": "markdown",
   "metadata": {},
   "source": [
    "# Nested Loop"
   ]
  },
  {
   "cell_type": "code",
   "execution_count": 11,
   "metadata": {},
   "outputs": [
    {
     "name": "stdout",
     "output_type": "stream",
     "text": [
      "5 A\n",
      "5 B\n",
      "5 C\n",
      "5 D\n",
      "6 A\n",
      "6 B\n",
      "6 C\n",
      "6 D\n",
      "7 A\n",
      "7 B\n",
      "7 C\n",
      "7 D\n",
      "8 A\n",
      "8 B\n",
      "8 C\n",
      "8 D\n",
      "9 A\n",
      "9 B\n",
      "9 C\n",
      "9 D\n"
     ]
    }
   ],
   "source": [
    "for num in range(5,10):\n",
    "    for char in 'ABCD':\n",
    "        print(num, char)\n",
    "        "
   ]
  },
  {
   "cell_type": "markdown",
   "metadata": {},
   "source": [
    "## WHILE loop"
   ]
  },
  {
   "cell_type": "code",
   "execution_count": 18,
   "metadata": {},
   "outputs": [
    {
     "name": "stdout",
     "output_type": "stream",
     "text": [
      "0\n",
      "2\n",
      "4\n",
      "6\n",
      "8\n"
     ]
    }
   ],
   "source": [
    "x = 0\n",
    "\n",
    "while x < 10:\n",
    "    print(x)\n",
    "    x += 2"
   ]
  },
  {
   "cell_type": "code",
   "execution_count": 19,
   "metadata": {},
   "outputs": [
    {
     "name": "stdout",
     "output_type": "stream",
     "text": [
      "0\n",
      "1\n",
      "Found it!\n"
     ]
    }
   ],
   "source": [
    "x = 0\n",
    "while x < 5:\n",
    "    if x == 2:\n",
    "        print(\"Found it!\")\n",
    "        break\n",
    "    print(x)\n",
    "    x += 1"
   ]
  },
  {
   "cell_type": "code",
   "execution_count": 22,
   "metadata": {},
   "outputs": [
    {
     "name": "stdout",
     "output_type": "stream",
     "text": [
      "0\n",
      "Found it!\n",
      "6\n"
     ]
    }
   ],
   "source": [
    "x = 0\n",
    "while x < 10:\n",
    "    if x == 5:\n",
    "        print(\"Found it!\")    \n",
    "        x += 1\n",
    "        continue\n",
    "    else:    \n",
    "        print(x)\n",
    "        x += 5"
   ]
  },
  {
   "cell_type": "code",
   "execution_count": 26,
   "metadata": {},
   "outputs": [
    {
     "name": "stdout",
     "output_type": "stream",
     "text": [
      "0\n",
      "1\n",
      "2\n",
      "3\n",
      "4\n",
      "5\n",
      "6\n",
      "Fount it!\n"
     ]
    }
   ],
   "source": [
    "y=0\n",
    "while True:\n",
    "    if y == 7:\n",
    "        print(\"Fount it!\")\n",
    "        break\n",
    "    print(y)\n",
    "    y += 1\n",
    "    \n",
    "        "
   ]
  },
  {
   "cell_type": "code",
   "execution_count": null,
   "metadata": {},
   "outputs": [],
   "source": []
  }
 ],
 "metadata": {
  "kernelspec": {
   "display_name": "Python 3",
   "language": "python",
   "name": "python3"
  },
  "language_info": {
   "codemirror_mode": {
    "name": "ipython",
    "version": 3
   },
   "file_extension": ".py",
   "mimetype": "text/x-python",
   "name": "python",
   "nbconvert_exporter": "python",
   "pygments_lexer": "ipython3",
   "version": "3.7.1"
  }
 },
 "nbformat": 4,
 "nbformat_minor": 2
}
