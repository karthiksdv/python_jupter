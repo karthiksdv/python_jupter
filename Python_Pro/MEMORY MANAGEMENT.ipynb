{
 "cells": [
  {
   "cell_type": "markdown",
   "metadata": {},
   "source": [
    "1. Memory management in python is managed by Python private heap space. ...\n",
    "2. The allocation of heap space for Python objects is done by Python's memory manager. ...\n",
    "3. Python also has an inbuilt garbage collector, which recycles all the unused memory and so that it can be made available to the heap space."
   ]
  },
  {
   "cell_type": "markdown",
   "metadata": {},
   "source": [
    "Python objects have three things: Type, value, and reference count."
   ]
  },
  {
   "cell_type": "code",
   "execution_count": null,
   "metadata": {},
   "outputs": [],
   "source": [
    "\n"
   ]
  },
  {
   "cell_type": "code",
   "execution_count": 6,
   "metadata": {},
   "outputs": [
    {
     "name": "stdout",
     "output_type": "stream",
     "text": [
      "The object id of x is  4458407312\n",
      "The object id of y is  4458407312\n",
      "The object id of x is  4458407344\n",
      "The object id of z is  4458407312\n",
      "The object id of z is  4495812512\n",
      "The object id of x is  4495812512\n"
     ]
    }
   ],
   "source": [
    "x = 10\n",
    "print(\"The object id of x is \", id(x))\n",
    "y = x\n",
    "print(\"The object id of y is \", id(y))\n",
    "x = x + 1\n",
    "print(\"The object id of x is \", id(x))\n",
    "z = 10\n",
    "print(\"The object id of z is \", id(z))\n",
    "z = \"car\"\n",
    "print(\"The object id of z is \", id(z))\n",
    "x = \"car\"\n",
    "print(\"The object id of x is \", id(x))"
   ]
  },
  {
   "cell_type": "code",
   "execution_count": null,
   "metadata": {},
   "outputs": [],
   "source": []
  },
  {
   "cell_type": "code",
   "execution_count": null,
   "metadata": {},
   "outputs": [],
   "source": [
    "Memory management in python is managed by Python private heap space. ...\n",
    "The allocation of heap space for Python objects is done by Python's memory manager. ...\n",
    "Python also has an inbuilt garbage collector, which recycles all the unused memory and so that it can be made available to the heap space."
   ]
  }
 ],
 "metadata": {
  "kernelspec": {
   "display_name": "Python 3",
   "language": "python",
   "name": "python3"
  },
  "language_info": {
   "codemirror_mode": {
    "name": "ipython",
    "version": 3
   },
   "file_extension": ".py",
   "mimetype": "text/x-python",
   "name": "python",
   "nbconvert_exporter": "python",
   "pygments_lexer": "ipython3",
   "version": "3.7.1"
  }
 },
 "nbformat": 4,
 "nbformat_minor": 2
}
