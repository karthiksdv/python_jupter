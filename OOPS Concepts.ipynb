{
 "cells": [
  {
   "cell_type": "markdown",
   "id": "4c98b8bd",
   "metadata": {},
   "source": [
    "# Python OOPS Concepts"
   ]
  },
  {
   "cell_type": "markdown",
   "id": "b4e71412",
   "metadata": {},
   "source": [
    "## Class & Instance Variables"
   ]
  },
  {
   "cell_type": "code",
   "execution_count": 4,
   "id": "0f1a2b0d",
   "metadata": {},
   "outputs": [
    {
     "name": "stdout",
     "output_type": "stream",
     "text": [
      "Total Employees  0\n",
      "Total Employees  2\n",
      "52000\n",
      "{'first': 'Karthik', 'last': 'Dhanbal', 'salary': 50000, 'email': 'Karthik.Dhanbal@gmail.com'}\n",
      "52500\n",
      "{'first': 'Karthik', 'last': 'Dhanbal', 'salary': 50000, 'email': 'Karthik.Dhanbal@gmail.com', 'raise_amt': 1.05}\n"
     ]
    }
   ],
   "source": [
    "class Employee:\n",
    "    raise_amt = 1.04\n",
    "    employee_count =0\n",
    "    \n",
    "    def __init__(self, first, last, salary):\n",
    "        self.first = first\n",
    "        self.last = last\n",
    "        self.salary = salary\n",
    "        self.email =  first + \".\"+ last+\"@gmail.com\"\n",
    "        Employee.employee_count +=1\n",
    "        \n",
    "    def fullname(self):\n",
    "        return \"{} {}\".format(self.first, self.last)\n",
    "    \n",
    "    def apply_raise(self):\n",
    "        return int(self.salary * self.raise_amt)\n",
    "\n",
    "\n",
    "print(\"Total Employees \", Employee.employee_count)    \n",
    "emp_1 = Employee(\"Karthik\", \"Dhanbal\", 50000)\n",
    "emp_2 = Employee(\"Test\", \"User\", 60000)\n",
    "print(\"Total Employees \", Employee.employee_count)  ## Increased total employees number  \n",
    "\n",
    "\n",
    "# print(emp_2.email)\n",
    "# print(emp_1.fullname())\n",
    "# print(emp_2.fullname())\n",
    "\n",
    "print(emp_1.apply_raise())\n",
    "print(emp_1.__dict__)\n",
    "emp_1.raise_amt = 1.05\n",
    "print(emp_1.apply_raise())\n",
    "print(emp_1.__dict__)\n",
    "\n"
   ]
  },
  {
   "cell_type": "code",
   "execution_count": null,
   "id": "b7b65986",
   "metadata": {},
   "outputs": [],
   "source": []
  },
  {
   "cell_type": "markdown",
   "id": "9e294f6f",
   "metadata": {},
   "source": [
    "## Destructors"
   ]
  },
  {
   "cell_type": "code",
   "execution_count": 33,
   "id": "3d12aa0c",
   "metadata": {},
   "outputs": [
    {
     "name": "stdout",
     "output_type": "stream",
     "text": [
      "Employee created.\n"
     ]
    }
   ],
   "source": [
    "# Python program to illustrate destructor\n",
    "class Employee:\n",
    "\n",
    "\t# Initializing\n",
    "\tdef __init__(self):\n",
    "\t\tprint('Employee created.')\n",
    "\n",
    "\t# Deleting (Calling destructor)\n",
    "\tdef __del__(self):\n",
    "\t\tprint('Destructor called, Employee deleted.')\n",
    "\n",
    "obj = Employee()\n",
    "# del obj\n"
   ]
  },
  {
   "cell_type": "code",
   "execution_count": 8,
   "id": "b59dbad7",
   "metadata": {},
   "outputs": [],
   "source": [
    "class Test():\n",
    "    pass"
   ]
  },
  {
   "cell_type": "code",
   "execution_count": 11,
   "id": "488b9404",
   "metadata": {},
   "outputs": [
    {
     "name": "stdout",
     "output_type": "stream",
     "text": [
      "Help on class Developer in module __main__:\n",
      "\n",
      "class Developer(Test, Employee)\n",
      " |  Developer(first, last, salary)\n",
      " |  \n",
      " |  Method resolution order:\n",
      " |      Developer\n",
      " |      Test\n",
      " |      Employee\n",
      " |      builtins.object\n",
      " |  \n",
      " |  Data descriptors inherited from Test:\n",
      " |  \n",
      " |  __dict__\n",
      " |      dictionary for instance variables (if defined)\n",
      " |  \n",
      " |  __weakref__\n",
      " |      list of weak references to the object (if defined)\n",
      " |  \n",
      " |  ----------------------------------------------------------------------\n",
      " |  Methods inherited from Employee:\n",
      " |  \n",
      " |  __init__(self, first, last, salary)\n",
      " |      Initialize self.  See help(type(self)) for accurate signature.\n",
      " |  \n",
      " |  apply_raise(self)\n",
      " |  \n",
      " |  fullname(self)\n",
      " |  \n",
      " |  ----------------------------------------------------------------------\n",
      " |  Data and other attributes inherited from Employee:\n",
      " |  \n",
      " |  employee_count = 2\n",
      " |  \n",
      " |  raise_amt = 1.04\n",
      "\n",
      "None\n"
     ]
    }
   ],
   "source": [
    "class Developer(Test, Employee):\n",
    "    pass\n",
    "print(help(Developer))"
   ]
  },
  {
   "cell_type": "code",
   "execution_count": null,
   "id": "9e4dc6a4",
   "metadata": {},
   "outputs": [],
   "source": []
  }
 ],
 "metadata": {
  "kernelspec": {
   "display_name": "Python 3 (ipykernel)",
   "language": "python",
   "name": "python3"
  },
  "language_info": {
   "codemirror_mode": {
    "name": "ipython",
    "version": 3
   },
   "file_extension": ".py",
   "mimetype": "text/x-python",
   "name": "python",
   "nbconvert_exporter": "python",
   "pygments_lexer": "ipython3",
   "version": "3.9.12"
  }
 },
 "nbformat": 4,
 "nbformat_minor": 5
}
