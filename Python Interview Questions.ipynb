{
 "cells": [
  {
   "cell_type": "markdown",
   "id": "1006d98b",
   "metadata": {},
   "source": [
    "## Generators"
   ]
  },
  {
   "cell_type": "markdown",
   "id": "8e2305d8",
   "metadata": {},
   "source": [
    "Generator-Function : A generator-function is defined like a normal function, but whenever it needs to generate a value, it does so with the yield keyword rather than return. If the body of a def contains yield, the function automatically becomes a generator function"
   ]
  },
  {
   "cell_type": "markdown",
   "id": "b3e966bf",
   "metadata": {},
   "source": [
    "A generator is a special type of function which does not return a single value, instead, it returns an iterator object with a sequence of values. In a generator function, a yield statement is used rather than a return statement.\n"
   ]
  },
  {
   "cell_type": "code",
   "execution_count": null,
   "id": "96df9a36",
   "metadata": {},
   "outputs": [],
   "source": []
  },
  {
   "cell_type": "code",
   "execution_count": 4,
   "id": "bc1a04aa",
   "metadata": {},
   "outputs": [],
   "source": [
    "def mygenerator():\n",
    "    print('First item')\n",
    "    yield 10\n",
    "\n",
    "    print('Second item')\n",
    "    yield 20\n",
    "\n",
    "    print('Last item')\n",
    "    yield 30"
   ]
  },
  {
   "cell_type": "code",
   "execution_count": 19,
   "id": "61edce12",
   "metadata": {},
   "outputs": [
    {
     "name": "stdout",
     "output_type": "stream",
     "text": [
      "First item\n",
      "10\n",
      "Second item\n",
      "20\n",
      "Last item\n",
      "30\n"
     ]
    }
   ],
   "source": [
    "gen = mygenerator()\n",
    "print(next(gen))\n",
    "print(next(gen))\n",
    "print(next(gen))\n",
    "\n"
   ]
  },
  {
   "cell_type": "code",
   "execution_count": null,
   "id": "5bf2691f",
   "metadata": {},
   "outputs": [],
   "source": []
  },
  {
   "cell_type": "markdown",
   "id": "45c00356",
   "metadata": {},
   "source": [
    "## Fibinocci Series"
   ]
  },
  {
   "cell_type": "code",
   "execution_count": 20,
   "id": "100caab2",
   "metadata": {},
   "outputs": [
    {
     "name": "stdout",
     "output_type": "stream",
     "text": [
      "0\n",
      "1\n",
      "1\n",
      "2\n",
      "3\n",
      "5\n",
      "8\n",
      "13\n",
      "21\n",
      "34\n"
     ]
    }
   ],
   "source": [
    "def fib(n):\n",
    "    a = 0\n",
    "    b = 1\n",
    "    if n == 1:\n",
    "        print(a)\n",
    "    else:\n",
    "        print(a)\n",
    "        print(b)\n",
    "        for i in range(2,n):\n",
    "            c = a + b\n",
    "            a = b\n",
    "            b = c\n",
    "            print(c)\n",
    "fib(10)"
   ]
  },
  {
   "cell_type": "code",
   "execution_count": 33,
   "id": "95e88785",
   "metadata": {},
   "outputs": [
    {
     "name": "stdout",
     "output_type": "stream",
     "text": [
      "0\n",
      "1\n",
      "1\n",
      "2\n",
      "3\n",
      "5\n",
      "8\n",
      "13\n",
      "21\n",
      "34\n"
     ]
    },
    {
     "data": {
      "text/plain": [
       "0"
      ]
     },
     "execution_count": 33,
     "metadata": {},
     "output_type": "execute_result"
    }
   ],
   "source": [
    "def fibno_series(number):\n",
    "    a = 0\n",
    "    b = 1\n",
    "    fib_series = 0\n",
    "    if number == 1:\n",
    "        fib_series += 1\n",
    "        return fib_series\n",
    "    else:\n",
    "        print(a)\n",
    "        print(b)\n",
    "        for i in range(2, number):\n",
    "            c = a + b\n",
    "            a = b\n",
    "            b = c\n",
    "            \n",
    "            print(c)\n",
    "            \n",
    "    \n",
    "    return fib_series\n",
    "\n",
    "number = 10\n",
    "fibno_series(number)"
   ]
  },
  {
   "cell_type": "markdown",
   "id": "25c9d8ca",
   "metadata": {},
   "source": [
    "## palindrome Detection"
   ]
  },
  {
   "cell_type": "code",
   "execution_count": 34,
   "id": "f470ef7b",
   "metadata": {},
   "outputs": [],
   "source": [
    "string  = \"malayalam\""
   ]
  },
  {
   "cell_type": "code",
   "execution_count": 35,
   "id": "ea0439b6",
   "metadata": {},
   "outputs": [
    {
     "data": {
      "text/plain": [
       "9"
      ]
     },
     "execution_count": 35,
     "metadata": {},
     "output_type": "execute_result"
    }
   ],
   "source": [
    "len(string)"
   ]
  },
  {
   "cell_type": "code",
   "execution_count": 50,
   "id": "a49d1ba6",
   "metadata": {},
   "outputs": [
    {
     "name": "stdout",
     "output_type": "stream",
     "text": [
      "3\n",
      "5\n",
      "7\n",
      "9\n"
     ]
    },
    {
     "data": {
      "text/plain": [
       "['ala', 'layal', 'alayala', 'malayalam']"
      ]
     },
     "execution_count": 50,
     "metadata": {},
     "output_type": "execute_result"
    }
   ],
   "source": [
    "palindrome_list = []\n",
    "for i in range(3, len(string)+1, 2):\n",
    "    print(i)\n",
    "    init = 0\n",
    "    for init in range(i):\n",
    "        sub_str = string[init:i+init]\n",
    "        rev_str = sub_str[::-1]\n",
    "        if sub_str == rev_str and len(sub_str) >= 3:\n",
    "            palindrome_list.append(sub_str)\n",
    "        \n",
    "palindrome_list     "
   ]
  },
  {
   "cell_type": "code",
   "execution_count": null,
   "id": "b1e506f2",
   "metadata": {},
   "outputs": [],
   "source": []
  }
 ],
 "metadata": {
  "kernelspec": {
   "display_name": "Python 3 (ipykernel)",
   "language": "python",
   "name": "python3"
  },
  "language_info": {
   "codemirror_mode": {
    "name": "ipython",
    "version": 3
   },
   "file_extension": ".py",
   "mimetype": "text/x-python",
   "name": "python",
   "nbconvert_exporter": "python",
   "pygments_lexer": "ipython3",
   "version": "3.9.12"
  }
 },
 "nbformat": 4,
 "nbformat_minor": 5
}
