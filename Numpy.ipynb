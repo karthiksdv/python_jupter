{
 "cells": [
  {
   "cell_type": "markdown",
   "metadata": {},
   "source": [
    "# Basics of Numpy - Numerical Python"
   ]
  },
  {
   "cell_type": "code",
   "execution_count": 1,
   "metadata": {},
   "outputs": [],
   "source": [
    "import numpy as np"
   ]
  },
  {
   "cell_type": "code",
   "execution_count": 5,
   "metadata": {},
   "outputs": [
    {
     "data": {
      "text/plain": [
       "numpy.ndarray"
      ]
     },
     "execution_count": 5,
     "metadata": {},
     "output_type": "execute_result"
    }
   ],
   "source": [
    "#Numpy Array\n",
    "# its a homegeneou.\n",
    "a = np.array([2,5,7]) # int(4.5) kind of convert a python list into numpy array.\n",
    "type(a)"
   ]
  },
  {
   "cell_type": "code",
   "execution_count": 4,
   "metadata": {},
   "outputs": [
    {
     "name": "stdout",
     "output_type": "stream",
     "text": [
      "[2 5 7]\n"
     ]
    }
   ],
   "source": [
    "print(a)"
   ]
  },
  {
   "cell_type": "code",
   "execution_count": 12,
   "metadata": {},
   "outputs": [
    {
     "name": "stdout",
     "output_type": "stream",
     "text": [
      "['2' '5' '7' 'True']\n",
      "<U21\n"
     ]
    }
   ],
   "source": [
    "a = np.array([2,5,7, 'True'])\n",
    "print(a)\n",
    "print(a.dtype)"
   ]
  },
  {
   "cell_type": "code",
   "execution_count": 8,
   "metadata": {},
   "outputs": [
    {
     "name": "stdout",
     "output_type": "stream",
     "text": [
      "[2.  5.  7.6]\n"
     ]
    }
   ],
   "source": [
    "a = np.array([2,5,7.6])\n",
    "print(a)"
   ]
  },
  {
   "cell_type": "code",
   "execution_count": 14,
   "metadata": {},
   "outputs": [
    {
     "name": "stdout",
     "output_type": "stream",
     "text": [
      "Size of the array is :  3\n",
      "Array element datatype is :  int64\n",
      "Number of dimentsion is :  1\n",
      "Shape of array is :  (3,)\n"
     ]
    }
   ],
   "source": [
    "# a is an Numpy Array object\n",
    "a = np.array([2,5,7]) \n",
    "print (\"Size of the array is : \", a.size)\n",
    "print (\"Array element datatype is : \", a.dtype)\n",
    "print (\"Number of dimentsion is : \", a.ndim)\n",
    "print (\"Shape of array is : \", a.shape)"
   ]
  },
  {
   "cell_type": "code",
   "execution_count": 21,
   "metadata": {},
   "outputs": [
    {
     "name": "stdout",
     "output_type": "stream",
     "text": [
      "Size of the array is :  9\n",
      "Array element datatype is :  int64\n",
      "Number of dimentsion is :  2\n",
      "Shape of array is :  (3, 3)\n"
     ]
    }
   ],
   "source": [
    "# a is an Numpy Array object\n",
    "# 2- D array is collection of 1-D arrays\n",
    "a = np.array([\n",
    "                [2,5,7],\n",
    "                [6,9,3],\n",
    "                [1,2,3]\n",
    "            ]) \n",
    "print (\"Size of the array is : \", a.size)\n",
    "print (\"Array element datatype is : \", a.dtype)\n",
    "print (\"Number of dimentsion is : \", a.ndim)\n",
    "print (\"Shape of array is : \", a.shape)"
   ]
  },
  {
   "cell_type": "markdown",
   "metadata": {},
   "source": [
    "### 3- Dimension Array"
   ]
  },
  {
   "cell_type": "code",
   "execution_count": 30,
   "metadata": {},
   "outputs": [
    {
     "name": "stdout",
     "output_type": "stream",
     "text": [
      "[[[ 2  5  7]\n",
      "  [ 6  9  3]]\n",
      "\n",
      " [[11 12 13]\n",
      "  [14 15 16]]]\n",
      "Size of the array is :  12\n",
      "Array element datatype is :  int64\n",
      "Number of dimentsion is :  3\n",
      "Shape of array is :  (2, 2, 3)\n"
     ]
    }
   ],
   "source": [
    "# a is an Numpy Array object\n",
    "# 2- D array is collection of 1-D arrays\n",
    "a = np.array([\n",
    "              [[2,5,7],\n",
    "                [6,9,3]],\n",
    "    \n",
    "                [[11,12,13],\n",
    "                 [14,15,16]]\n",
    "            ]) \n",
    "print(a)\n",
    "print (\"Size of the array is : \", a.size)\n",
    "print (\"Array element datatype is : \", a.dtype)\n",
    "print (\"Number of dimentsion is : \", a.ndim)\n",
    "print (\"Shape of array is : \", a.shape)"
   ]
  },
  {
   "cell_type": "code",
   "execution_count": 44,
   "metadata": {},
   "outputs": [
    {
     "name": "stdout",
     "output_type": "stream",
     "text": [
      "[[[[ 2  5  7  4  5]\n",
      "   [ 6  9  3  4  5]\n",
      "   [ 2  5  7  4  5]\n",
      "   [ 2  5  7  4  5]]\n",
      "\n",
      "  [[11 12 13  4  5]\n",
      "   [14 15 16  4  5]\n",
      "   [14 15 16  4  5]\n",
      "   [14 15 16  4  5]]\n",
      "\n",
      "  [[11 12 13  4  5]\n",
      "   [14 15 16  4  5]\n",
      "   [14 15 16  4  5]\n",
      "   [14 15 16  4  5]]]\n",
      "\n",
      "\n",
      " [[[ 2  5  7  4  5]\n",
      "   [ 6  9  3  4  5]\n",
      "   [ 6  9  3  4  5]\n",
      "   [ 6  9  3  4  5]]\n",
      "\n",
      "  [[11 12 13  5  4]\n",
      "   [11 12 13  5  4]\n",
      "   [11 12 13  5  4]\n",
      "   [14 15 16  4  5]]\n",
      "\n",
      "  [[11 12 13  5  4]\n",
      "   [11 12 13  5  4]\n",
      "   [11 12 13  5  4]\n",
      "   [14 15 16  4  5]]]]\n"
     ]
    }
   ],
   "source": [
    "#2,3,4,5\n",
    "b = np.array([\n",
    "    \n",
    "            [\n",
    "              [[2,5,7,4,5],\n",
    "               [6,9,3,4,5],\n",
    "               [2,5,7,4,5],\n",
    "               [2,5,7,4,5]],\n",
    "    \n",
    "               [[11,12,13,4,5],\n",
    "                [14,15,16,4,5],\n",
    "                [14,15,16,4,5],\n",
    "                [14,15,16,4,5]],\n",
    "                \n",
    "                [[11,12,13,4,5],\n",
    "                [14,15,16,4,5],\n",
    "                [14,15,16,4,5],\n",
    "                [14,15,16,4,5]]\n",
    "            ],\n",
    "    \n",
    "            [\n",
    "              [[2,5,7,4,5],\n",
    "               [6,9,3,4,5],\n",
    "               [6,9,3,4,5],\n",
    "               [6,9,3,4,5]],\n",
    "    \n",
    "               [[11,12,13,5,4],\n",
    "                [11,12,13,5,4],\n",
    "                [11,12,13,5,4],\n",
    "                [14,15,16,4,5]],\n",
    "                \n",
    "                [[11,12,13,5,4],\n",
    "                [11,12,13,5,4],\n",
    "                [11,12,13,5,4],\n",
    "                [14,15,16,4,5]]\n",
    "            ]\n",
    "]) \n",
    "\n",
    "print(b)"
   ]
  },
  {
   "cell_type": "code",
   "execution_count": 42,
   "metadata": {},
   "outputs": [
    {
     "name": "stdout",
     "output_type": "stream",
     "text": [
      "Size of the array is :  120\n",
      "Array element datatype is :  int64\n",
      "Number of dimentsion is :  4\n",
      "Shape of array is :  (2, 3, 4, 5)\n"
     ]
    }
   ],
   "source": [
    "print (\"Size of the array is : \", b.size)\n",
    "print (\"Array element datatype is : \", b.dtype)\n",
    "print (\"Number of dimentsion is : \", b.ndim)\n",
    "print (\"Shape of array is : \", b.shape)"
   ]
  },
  {
   "cell_type": "code",
   "execution_count": 45,
   "metadata": {},
   "outputs": [
    {
     "name": "stdout",
     "output_type": "stream",
     "text": [
      "Number of dimentsion is :  4\n"
     ]
    }
   ],
   "source": [
    "print (\"Number of dimentsion is : \", b.ndim)\n"
   ]
  },
  {
   "cell_type": "code",
   "execution_count": 70,
   "metadata": {},
   "outputs": [
    {
     "name": "stdout",
     "output_type": "stream",
     "text": [
      "Size of the array is :  4\n",
      "Array element datatype is :  int64\n",
      "Number of dimentsion is :  4\n",
      "Shape of array is :  (1, 1, 1, 4)\n"
     ]
    }
   ],
   "source": [
    "b = np.array([[[[1,2,3,4]]]])\n",
    "print (\"Size of the array is : \", b.size)\n",
    "print (\"Array element datatype is : \", b.dtype)\n",
    "print (\"Number of dimentsion is : \", b.ndim)\n",
    "print (\"Shape of array is : \", b.shape)"
   ]
  },
  {
   "cell_type": "markdown",
   "metadata": {},
   "source": [
    "### Array Range"
   ]
  },
  {
   "cell_type": "code",
   "execution_count": 54,
   "metadata": {},
   "outputs": [
    {
     "name": "stdout",
     "output_type": "stream",
     "text": [
      "[0 1 2 3 4 5 6 7 8 9]\n",
      "Size of the array is :  10\n",
      "Array element datatype is :  int64\n",
      "Number of dimentsion is :  1\n",
      "Shape of array is :  (10,)\n"
     ]
    }
   ],
   "source": [
    "a = np.arange(10)\n",
    "print(a)\n",
    "print (\"Size of the array is : \", a.size)\n",
    "print (\"Array element datatype is : \", a.dtype)\n",
    "print (\"Number of dimentsion is : \", a.ndim)\n",
    "print (\"Shape of array is : \", a.shape)"
   ]
  },
  {
   "cell_type": "code",
   "execution_count": 56,
   "metadata": {},
   "outputs": [
    {
     "name": "stdout",
     "output_type": "stream",
     "text": [
      "[[[[  0   1   2   3   4]\n",
      "   [  5   6   7   8   9]\n",
      "   [ 10  11  12  13  14]\n",
      "   [ 15  16  17  18  19]]\n",
      "\n",
      "  [[ 20  21  22  23  24]\n",
      "   [ 25  26  27  28  29]\n",
      "   [ 30  31  32  33  34]\n",
      "   [ 35  36  37  38  39]]\n",
      "\n",
      "  [[ 40  41  42  43  44]\n",
      "   [ 45  46  47  48  49]\n",
      "   [ 50  51  52  53  54]\n",
      "   [ 55  56  57  58  59]]]\n",
      "\n",
      "\n",
      " [[[ 60  61  62  63  64]\n",
      "   [ 65  66  67  68  69]\n",
      "   [ 70  71  72  73  74]\n",
      "   [ 75  76  77  78  79]]\n",
      "\n",
      "  [[ 80  81  82  83  84]\n",
      "   [ 85  86  87  88  89]\n",
      "   [ 90  91  92  93  94]\n",
      "   [ 95  96  97  98  99]]\n",
      "\n",
      "  [[100 101 102 103 104]\n",
      "   [105 106 107 108 109]\n",
      "   [110 111 112 113 114]\n",
      "   [115 116 117 118 119]]]]\n",
      "Size of the array is :  120\n",
      "Array element datatype is :  int64\n",
      "Number of dimentsion is :  4\n",
      "Shape of array is :  (2, 3, 4, 5)\n"
     ]
    }
   ],
   "source": [
    "a = np.arange(120)\n",
    "a = a.reshape(2,3,4,5)\n",
    "print(a)\n",
    "print (\"Size of the array is : \", a.size)\n",
    "print (\"Array element datatype is : \", a.dtype)\n",
    "print (\"Number of dimentsion is : \", a.ndim)\n",
    "print (\"Shape of array is : \", a.shape)"
   ]
  },
  {
   "cell_type": "markdown",
   "metadata": {},
   "source": [
    "## Force Type Casting"
   ]
  },
  {
   "cell_type": "code",
   "execution_count": 61,
   "metadata": {},
   "outputs": [
    {
     "name": "stdout",
     "output_type": "stream",
     "text": [
      "[2. 3. 4. 5.]\n",
      "float64\n",
      "[ True  True False  True  True]\n",
      "bool\n"
     ]
    }
   ],
   "source": [
    "a = np.array([2,3,4,5], dtype ='float')\n",
    "print(a)\n",
    "print(a.dtype) \n",
    "a = np.array([2,3,0,-5,'hello'], dtype ='bool')\n",
    "print(a)\n",
    "print(a.dtype) "
   ]
  },
  {
   "cell_type": "code",
   "execution_count": 62,
   "metadata": {},
   "outputs": [
    {
     "data": {
      "text/plain": [
       "array([10, 12, 14, 16, 18])"
      ]
     },
     "execution_count": 62,
     "metadata": {},
     "output_type": "execute_result"
    }
   ],
   "source": [
    "np.arange(10,20,2)"
   ]
  },
  {
   "cell_type": "code",
   "execution_count": 65,
   "metadata": {},
   "outputs": [
    {
     "data": {
      "text/plain": [
       "array([10, 13, 16, 19])"
      ]
     },
     "execution_count": 65,
     "metadata": {},
     "output_type": "execute_result"
    }
   ],
   "source": [
    "np.arange(10,20,3) # start, end, step"
   ]
  },
  {
   "cell_type": "markdown",
   "metadata": {},
   "source": [
    "### Linear Space Linspace"
   ]
  },
  {
   "cell_type": "code",
   "execution_count": 67,
   "metadata": {},
   "outputs": [
    {
     "data": {
      "text/plain": [
       "array([10., 15., 20.])"
      ]
     },
     "execution_count": 67,
     "metadata": {},
     "output_type": "execute_result"
    }
   ],
   "source": [
    "np.linspace(10,20,3) # start, end, no of element equally distribute"
   ]
  },
  {
   "cell_type": "code",
   "execution_count": 68,
   "metadata": {},
   "outputs": [
    {
     "data": {
      "text/plain": [
       "array([10.        , 11.42857143, 12.85714286, 14.28571429, 15.71428571,\n",
       "       17.14285714, 18.57142857, 20.        ])"
      ]
     },
     "execution_count": 68,
     "metadata": {},
     "output_type": "execute_result"
    }
   ],
   "source": [
    "np.linspace(10,20,8)"
   ]
  },
  {
   "cell_type": "markdown",
   "metadata": {},
   "source": [
    "### Random Numbers\n",
    "#numpy functions apply to whole array"
   ]
  },
  {
   "cell_type": "code",
   "execution_count": 73,
   "metadata": {},
   "outputs": [
    {
     "data": {
      "text/plain": [
       "0.7369756870121785"
      ]
     },
     "execution_count": 73,
     "metadata": {},
     "output_type": "execute_result"
    }
   ],
   "source": [
    "#Rand()\n",
    "np.random.rand()"
   ]
  },
  {
   "cell_type": "code",
   "execution_count": 76,
   "metadata": {},
   "outputs": [
    {
     "data": {
      "text/plain": [
       "array([59.56930534, 99.87670375, 71.45357402, 32.91403464])"
      ]
     },
     "execution_count": 76,
     "metadata": {},
     "output_type": "execute_result"
    }
   ],
   "source": [
    "np.random.rand(4)*100"
   ]
  },
  {
   "cell_type": "code",
   "execution_count": 77,
   "metadata": {},
   "outputs": [
    {
     "data": {
      "text/plain": [
       "array([45., 52., 28., 67.])"
      ]
     },
     "execution_count": 77,
     "metadata": {},
     "output_type": "execute_result"
    }
   ],
   "source": [
    "np.round(np.random.rand(4)*100)"
   ]
  },
  {
   "cell_type": "code",
   "execution_count": 78,
   "metadata": {},
   "outputs": [
    {
     "data": {
      "text/plain": [
       "array([51., 30., 77.,  5.])"
      ]
     },
     "execution_count": 78,
     "metadata": {},
     "output_type": "execute_result"
    }
   ],
   "source": [
    "np.floor(np.random.rand(4)*100)"
   ]
  },
  {
   "cell_type": "code",
   "execution_count": 79,
   "metadata": {},
   "outputs": [
    {
     "data": {
      "text/plain": [
       "array([16., 90., 52., 28.])"
      ]
     },
     "execution_count": 79,
     "metadata": {},
     "output_type": "execute_result"
    }
   ],
   "source": [
    "np.ceil(np.random.rand(4)*100)"
   ]
  },
  {
   "cell_type": "code",
   "execution_count": 82,
   "metadata": {},
   "outputs": [
    {
     "name": "stdout",
     "output_type": "stream",
     "text": [
      "11.0\n",
      "10.0\n",
      "11.0\n"
     ]
    }
   ],
   "source": [
    "print(np.round(10.8))\n",
    "print(np.floor(10.8))\n",
    "print(np.ceil(10.8))"
   ]
  },
  {
   "cell_type": "code",
   "execution_count": 86,
   "metadata": {},
   "outputs": [
    {
     "data": {
      "text/plain": [
       "85"
      ]
     },
     "execution_count": 86,
     "metadata": {},
     "output_type": "execute_result"
    }
   ],
   "source": [
    "# Generate random numbers 200 between 35 and 100\n",
    "int (35 + np.random.rand()*(100-36))"
   ]
  },
  {
   "cell_type": "code",
   "execution_count": 95,
   "metadata": {},
   "outputs": [
    {
     "data": {
      "text/plain": [
       "array([43, 42, 71, 97, 99, 93, 64, 37, 84, 99])"
      ]
     },
     "execution_count": 95,
     "metadata": {},
     "output_type": "execute_result"
    }
   ],
   "source": [
    "np.random.randint(35,100, 10)"
   ]
  },
  {
   "cell_type": "code",
   "execution_count": 96,
   "metadata": {},
   "outputs": [],
   "source": [
    "# Random number generation is very usefull in sample space creation for model evaluations"
   ]
  },
  {
   "cell_type": "code",
   "execution_count": 110,
   "metadata": {},
   "outputs": [
    {
     "data": {
      "text/plain": [
       "array([[7.87400787, 7.14142843, 7.48331477, 6.55743852, 6.32455532],\n",
       "       [9.43398113, 9.59166305, 8.77496439, 9.11043358, 7.34846923],\n",
       "       [7.48331477, 8.24621125, 9.59166305, 7.81024968, 6.4807407 ],\n",
       "       [7.87400787, 9.94987437, 6.92820323, 8.1240384 , 7.68114575]])"
      ]
     },
     "execution_count": 110,
     "metadata": {},
     "output_type": "execute_result"
    }
   ],
   "source": [
    "np.sqrt(np.random.randint(35,100, 20).reshape(4,5))"
   ]
  },
  {
   "cell_type": "code",
   "execution_count": 116,
   "metadata": {},
   "outputs": [
    {
     "name": "stdout",
     "output_type": "stream",
     "text": [
      "5.0\n",
      "3.2188758248682006\n",
      "20.085536923187668\n",
      "-0.1425465430742778\n",
      "3.141592653589793\n"
     ]
    }
   ],
   "source": [
    "print(np.sqrt(25))\n",
    "print(np.log(25))\n",
    "print(np.exp(3))\n",
    "print(np.tan(3))\n",
    "print(np.pi)\n"
   ]
  },
  {
   "cell_type": "markdown",
   "metadata": {},
   "source": [
    "### Ravel is the opposite of reshape. It will flatten the multi-dimentional array into single dimentional arry"
   ]
  },
  {
   "cell_type": "code",
   "execution_count": 120,
   "metadata": {},
   "outputs": [
    {
     "data": {
      "text/plain": [
       "array([[[[[[0, 1, 2, 3, 4, 5]]]]]])"
      ]
     },
     "execution_count": 120,
     "metadata": {},
     "output_type": "execute_result"
    }
   ],
   "source": [
    "#can you create 6 dimensional array with 6 elements?\n",
    "np.arange(6).reshape(1,1,1,1,1,6)"
   ]
  },
  {
   "cell_type": "markdown",
   "metadata": {},
   "source": [
    "np.arange(6).reshape(1,1,1,1,2,3)"
   ]
  },
  {
   "cell_type": "code",
   "execution_count": 122,
   "metadata": {},
   "outputs": [
    {
     "data": {
      "text/plain": [
       "array([[[[[[0]]]]],\n",
       "\n",
       "\n",
       "\n",
       "\n",
       "       [[[[[1]]]]],\n",
       "\n",
       "\n",
       "\n",
       "\n",
       "       [[[[[2]]]]],\n",
       "\n",
       "\n",
       "\n",
       "\n",
       "       [[[[[3]]]]],\n",
       "\n",
       "\n",
       "\n",
       "\n",
       "       [[[[[4]]]]],\n",
       "\n",
       "\n",
       "\n",
       "\n",
       "       [[[[[5]]]]]])"
      ]
     },
     "execution_count": 122,
     "metadata": {},
     "output_type": "execute_result"
    }
   ],
   "source": [
    "np.arange(6).reshape(6,1,1,1,1,1)"
   ]
  },
  {
   "cell_type": "code",
   "execution_count": 125,
   "metadata": {},
   "outputs": [
    {
     "data": {
      "text/plain": [
       "array([[ 83, 185, 102,  45,  58,  93],\n",
       "       [ 63, 119,  46, 163,  52, 196],\n",
       "       [190, 108,  50, 181,  42,  41],\n",
       "       [ 19, 186, 152, 126,  19,  34]])"
      ]
     },
     "execution_count": 125,
     "metadata": {},
     "output_type": "execute_result"
    }
   ],
   "source": [
    "a = np.random.randint(10,200,24).reshape(4,6)\n",
    "a"
   ]
  },
  {
   "cell_type": "code",
   "execution_count": 131,
   "metadata": {},
   "outputs": [
    {
     "name": "stdout",
     "output_type": "stream",
     "text": [
      "[array([[ 83, 185, 102],\n",
      "       [ 63, 119,  46],\n",
      "       [190, 108,  50],\n",
      "       [ 19, 186, 152]]), array([[ 45,  58,  93],\n",
      "       [163,  52, 196],\n",
      "       [181,  42,  41],\n",
      "       [126,  19,  34]])]\n",
      "[[ 83 185 102]\n",
      " [ 63 119  46]\n",
      " [190 108  50]\n",
      " [ 19 186 152]]\n",
      "[[ 45  58  93]\n",
      " [163  52 196]\n",
      " [181  42  41]\n",
      " [126  19  34]]\n"
     ]
    }
   ],
   "source": [
    "splits = np.hsplit(a,2)\n",
    "print(splits)\n",
    "print(splits[0])\n",
    "print(splits[1])"
   ]
  },
  {
   "cell_type": "code",
   "execution_count": 132,
   "metadata": {},
   "outputs": [
    {
     "name": "stdout",
     "output_type": "stream",
     "text": [
      "[array([[ 83, 185],\n",
      "       [ 63, 119],\n",
      "       [190, 108],\n",
      "       [ 19, 186]]), array([[102,  45],\n",
      "       [ 46, 163],\n",
      "       [ 50, 181],\n",
      "       [152, 126]]), array([[ 58,  93],\n",
      "       [ 52, 196],\n",
      "       [ 42,  41],\n",
      "       [ 19,  34]])]\n",
      "[[ 83 185]\n",
      " [ 63 119]\n",
      " [190 108]\n",
      " [ 19 186]]\n",
      "[[102  45]\n",
      " [ 46 163]\n",
      " [ 50 181]\n",
      " [152 126]]\n"
     ]
    }
   ],
   "source": [
    "splits = np.hsplit(a,3)\n",
    "print(splits)\n",
    "print(splits[0])\n",
    "print(splits[1])"
   ]
  },
  {
   "cell_type": "code",
   "execution_count": 133,
   "metadata": {},
   "outputs": [
    {
     "data": {
      "text/plain": [
       "[array([[ 83, 185, 102,  45,  58,  93],\n",
       "        [ 63, 119,  46, 163,  52, 196]]),\n",
       " array([[190, 108,  50, 181,  42,  41],\n",
       "        [ 19, 186, 152, 126,  19,  34]])]"
      ]
     },
     "execution_count": 133,
     "metadata": {},
     "output_type": "execute_result"
    }
   ],
   "source": [
    "np.vsplit(a,2)"
   ]
  },
  {
   "cell_type": "code",
   "execution_count": 134,
   "metadata": {},
   "outputs": [
    {
     "data": {
      "text/plain": [
       "array([[ 83, 185, 102,  45,  58,  93],\n",
       "       [ 63, 119,  46, 163,  52, 196]])"
      ]
     },
     "execution_count": 134,
     "metadata": {},
     "output_type": "execute_result"
    }
   ],
   "source": [
    "np.vsplit(a,2)[0]"
   ]
  },
  {
   "cell_type": "code",
   "execution_count": 135,
   "metadata": {},
   "outputs": [
    {
     "data": {
      "text/plain": [
       "array([[190, 108,  50, 181,  42,  41],\n",
       "       [ 19, 186, 152, 126,  19,  34]])"
      ]
     },
     "execution_count": 135,
     "metadata": {},
     "output_type": "execute_result"
    }
   ],
   "source": [
    "np.vsplit(a,2)[1]"
   ]
  },
  {
   "cell_type": "code",
   "execution_count": 137,
   "metadata": {},
   "outputs": [
    {
     "name": "stdout",
     "output_type": "stream",
     "text": [
      "[[113  66 129]\n",
      " [ 54 185  90]\n",
      " [193 156  43]]\n",
      "[[ 12  62 159]\n",
      " [ 75 161  74]\n",
      " [ 18  39  20]]\n"
     ]
    }
   ],
   "source": [
    "a = np.random.randint(10,200,9).reshape(3,3)\n",
    "print(a)\n",
    "b = np.random.randint(10,200,9).reshape(3,3)\n",
    "print(b)"
   ]
  },
  {
   "cell_type": "code",
   "execution_count": 138,
   "metadata": {},
   "outputs": [
    {
     "data": {
      "text/plain": [
       "array([[113,  66, 129,  12,  62, 159],\n",
       "       [ 54, 185,  90,  75, 161,  74],\n",
       "       [193, 156,  43,  18,  39,  20]])"
      ]
     },
     "execution_count": 138,
     "metadata": {},
     "output_type": "execute_result"
    }
   ],
   "source": [
    "np.hstack((a,b))"
   ]
  },
  {
   "cell_type": "code",
   "execution_count": 144,
   "metadata": {},
   "outputs": [
    {
     "data": {
      "text/plain": [
       "array([[9, 3],\n",
       "       [1, 2],\n",
       "       [4, 1],\n",
       "       [1, 1]])"
      ]
     },
     "execution_count": 144,
     "metadata": {},
     "output_type": "execute_result"
    }
   ],
   "source": [
    "np.vstack((a,b))"
   ]
  },
  {
   "cell_type": "code",
   "execution_count": 145,
   "metadata": {},
   "outputs": [
    {
     "name": "stdout",
     "output_type": "stream",
     "text": [
      "[[18 12]\n",
      " [ 8  5]]\n",
      "[[14  1]\n",
      " [ 5  8]]\n"
     ]
    }
   ],
   "source": [
    "a = np.random.randint(1,20,4).reshape(2,2)\n",
    "print(a)\n",
    "b = np.random.randint(1,20,4).reshape(2,2)\n",
    "print(b)"
   ]
  },
  {
   "cell_type": "code",
   "execution_count": 149,
   "metadata": {},
   "outputs": [
    {
     "data": {
      "text/plain": [
       "array([[252,  12],\n",
       "       [ 40,  40]])"
      ]
     },
     "execution_count": 149,
     "metadata": {},
     "output_type": "execute_result"
    }
   ],
   "source": [
    "np.multiply(a,b)"
   ]
  },
  {
   "cell_type": "code",
   "execution_count": 148,
   "metadata": {},
   "outputs": [
    {
     "data": {
      "text/plain": [
       "array([[312, 114],\n",
       "       [137,  48]])"
      ]
     },
     "execution_count": 148,
     "metadata": {},
     "output_type": "execute_result"
    }
   ],
   "source": [
    "np.matmul(a,b)"
   ]
  },
  {
   "cell_type": "markdown",
   "metadata": {},
   "source": [
    "## Shallow vs Deep Copy"
   ]
  },
  {
   "cell_type": "markdown",
   "metadata": {},
   "source": [
    "### Shallow Copy"
   ]
  },
  {
   "cell_type": "code",
   "execution_count": 150,
   "metadata": {},
   "outputs": [
    {
     "name": "stdout",
     "output_type": "stream",
     "text": [
      "a is : [1, 2, 3]\n",
      "b is : [1, 2, 3]\n"
     ]
    }
   ],
   "source": [
    "a = [1,2,3]\n",
    "b = a\n",
    "print(\"a is :\", a)\n",
    "print(\"b is :\", b)"
   ]
  },
  {
   "cell_type": "code",
   "execution_count": 151,
   "metadata": {},
   "outputs": [
    {
     "name": "stdout",
     "output_type": "stream",
     "text": [
      "a is : [1, 5, 3]\n",
      "b is : [1, 5, 3]\n"
     ]
    }
   ],
   "source": [
    "a[1] = 5\n",
    "print(\"a is :\", a)\n",
    "print(\"b is :\", b)"
   ]
  },
  {
   "cell_type": "markdown",
   "metadata": {},
   "source": [
    "### Deep Copy"
   ]
  },
  {
   "cell_type": "code",
   "execution_count": 154,
   "metadata": {},
   "outputs": [
    {
     "name": "stdout",
     "output_type": "stream",
     "text": [
      "a is : [1, 2, 3]\n",
      "b is : [1, 2, 3]\n",
      "a is : [1, 5, 3]\n",
      "b is : [1, 2, 3]\n"
     ]
    }
   ],
   "source": [
    "a = [1,2,3]\n",
    "b = a.copy()\n",
    "print(\"a is :\", a)\n",
    "print(\"b is :\", b)\n",
    "\n",
    "## The change only effect in A not in B\n",
    "a[1] = 5\n",
    "print(\"a is :\", a)\n",
    "print(\"b is :\", b)"
   ]
  },
  {
   "cell_type": "code",
   "execution_count": null,
   "metadata": {},
   "outputs": [],
   "source": []
  }
 ],
 "metadata": {
  "kernelspec": {
   "display_name": "Python 3",
   "language": "python",
   "name": "python3"
  },
  "language_info": {
   "codemirror_mode": {
    "name": "ipython",
    "version": 3
   },
   "file_extension": ".py",
   "mimetype": "text/x-python",
   "name": "python",
   "nbconvert_exporter": "python",
   "pygments_lexer": "ipython3",
   "version": "3.7.1"
  }
 },
 "nbformat": 4,
 "nbformat_minor": 2
}
