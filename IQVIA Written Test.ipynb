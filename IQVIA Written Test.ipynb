{
 "cells": [
  {
   "cell_type": "markdown",
   "id": "eb8044fd",
   "metadata": {},
   "source": [
    "# 1 Replace String"
   ]
  },
  {
   "cell_type": "code",
   "execution_count": 72,
   "id": "1a6f5e9c",
   "metadata": {},
   "outputs": [
    {
     "name": "stdout",
     "output_type": "stream",
     "text": [
      "SELECT * FROM  (SELECT * FROM sale_order WHERE ds = 'LATEST') so INNER JOIN  (SELECT * FROM res_partner WHERE ds = 'LATEST') rp ON so.id = rp.id \n"
     ]
    }
   ],
   "source": [
    "def replace_string(base_string):\n",
    "    replaced_string = \"\"\n",
    "    str_list = base_string.split()\n",
    "        \n",
    "    for data in str_list:\n",
    "        if \"latest_slice\" in data:   ## take the string for replacing\n",
    "            inner_split = data.split(\"::\")\n",
    "            table_name = inner_split[1]\n",
    "            replace_str = \" (SELECT * FROM {} WHERE ds = 'LATEST') \".format(table_name)\n",
    "            replaced_string += replace_str\n",
    "        else:\n",
    "            replaced_string += data+\" \"\n",
    "#     print(replaced_string) \n",
    "    return replaced_string\n",
    "            \n",
    "    \n",
    "base_string = \"SELECT * FROM latest_slice::sale_order so INNER JOIN latest_slice::res_partner rp ON so.id = rp.id\"\n",
    "print(replace_string(base_string))   \n",
    "    "
   ]
  },
  {
   "cell_type": "code",
   "execution_count": null,
   "id": "20cd9563",
   "metadata": {},
   "outputs": [],
   "source": [
    "counts how many days driver John Smith made deliveries in 2017 September (active days)."
   ]
  },
  {
   "cell_type": "markdown",
   "id": "e3648567",
   "metadata": {},
   "source": [
    "#  2 SQL Quries "
   ]
  },
  {
   "cell_type": "code",
   "execution_count": null,
   "id": "d58ef9b4",
   "metadata": {},
   "outputs": [],
   "source": [
    "1. SELECT dr.driver, count(dl.id) from deliveries dl inner JOIN drivers dr on dl.driver_id = dr.id \n",
    "where dr.city =\"Dubai\" and dl.day like '%2017, septemper';\n",
    "\n",
    "2. select dr.name, count(dl.id) from deliveries dl inner JOIN drivers dr on dl.driver_id = dr.id \n",
    " where city=\"Dubai\" group by driver_id having count(dl.id) > 1000;\n",
    "    \n",
    "3.select count(dl.) from deliveries dl inner join drivers dr on dr.id = dl.driver_id where day = '2017-09-01' and dr ='Join Smith'\n",
    "\n",
    "4 select * from deliveries dl inner join drivers dr on dr.id <> dl.driver_id where day = \"2017-0911\"\n"
   ]
  },
  {
   "cell_type": "code",
   "execution_count": null,
   "id": "e04a606a",
   "metadata": {},
   "outputs": [],
   "source": []
  },
  {
   "cell_type": "markdown",
   "id": "9c60e222",
   "metadata": {},
   "source": [
    "# 3.Employee Class "
   ]
  },
  {
   "cell_type": "code",
   "execution_count": 6,
   "id": "9b0579c8",
   "metadata": {},
   "outputs": [
    {
     "ename": "IndexError",
     "evalue": "list index out of range",
     "output_type": "error",
     "traceback": [
      "\u001b[1;31m---------------------------------------------------------------------------\u001b[0m",
      "\u001b[1;31mIndexError\u001b[0m                                Traceback (most recent call last)",
      "Input \u001b[1;32mIn [6]\u001b[0m, in \u001b[0;36m<cell line: 19>\u001b[1;34m()\u001b[0m\n\u001b[0;32m     14\u001b[0m \u001b[38;5;66;03m#         for key, values in dict_data.items():  ## I will workout later\u001b[39;00m\n\u001b[0;32m     15\u001b[0m \u001b[38;5;66;03m#             print(key)\u001b[39;00m\n\u001b[0;32m     16\u001b[0m \u001b[38;5;66;03m#             self.key = dict_data.get(key)\u001b[39;00m\n\u001b[0;32m     18\u001b[0m giancarlo \u001b[38;5;241m=\u001b[39m Employee(\u001b[38;5;124m\"\u001b[39m\u001b[38;5;124mGiancarlo Rossi\u001b[39m\u001b[38;5;124m\"\u001b[39m, salary\u001b[38;5;241m=\u001b[39m\u001b[38;5;241m115000\u001b[39m, height\u001b[38;5;241m=\u001b[39m\u001b[38;5;241m182\u001b[39m, nationality\u001b[38;5;241m=\u001b[39m\u001b[38;5;124m\"\u001b[39m\u001b[38;5;124mItalian\u001b[39m\u001b[38;5;124m\"\u001b[39m)\n\u001b[1;32m---> 19\u001b[0m joe \u001b[38;5;241m=\u001b[39m \u001b[43mEmployee\u001b[49m\u001b[43m(\u001b[49m\u001b[38;5;124;43m\"\u001b[39;49m\u001b[38;5;124;43mJoe\u001b[39;49m\u001b[38;5;124;43m\"\u001b[39;49m\u001b[43m)\u001b[49m\n\u001b[0;32m     20\u001b[0m mary \u001b[38;5;241m=\u001b[39m Employee(\u001b[38;5;124m\"\u001b[39m\u001b[38;5;124mMary Major\u001b[39m\u001b[38;5;124m\"\u001b[39m, salary\u001b[38;5;241m=\u001b[39m\u001b[38;5;241m120000\u001b[39m)\n\u001b[0;32m     21\u001b[0m richard \u001b[38;5;241m=\u001b[39m Employee(\u001b[38;5;124m\"\u001b[39m\u001b[38;5;124mRichard Roe\u001b[39m\u001b[38;5;124m\"\u001b[39m, salary\u001b[38;5;241m=\u001b[39m\u001b[38;5;241m110000\u001b[39m, height\u001b[38;5;241m=\u001b[39m\u001b[38;5;241m178\u001b[39m)\n",
      "Input \u001b[1;32mIn [6]\u001b[0m, in \u001b[0;36mEmployee.__init__\u001b[1;34m(self, *args, **kwargs)\u001b[0m\n\u001b[0;32m      4\u001b[0m \u001b[38;5;28mself\u001b[39m\u001b[38;5;241m.\u001b[39mfullname \u001b[38;5;241m=\u001b[39m args[\u001b[38;5;241m0\u001b[39m]\n\u001b[0;32m      5\u001b[0m \u001b[38;5;28mself\u001b[39m\u001b[38;5;241m.\u001b[39mfirst_name \u001b[38;5;241m=\u001b[39m \u001b[38;5;28mself\u001b[39m\u001b[38;5;241m.\u001b[39mfullname\u001b[38;5;241m.\u001b[39msplit(\u001b[38;5;124m\"\u001b[39m\u001b[38;5;124m \u001b[39m\u001b[38;5;124m\"\u001b[39m)[\u001b[38;5;241m0\u001b[39m]\n\u001b[1;32m----> 6\u001b[0m \u001b[38;5;28;01mif\u001b[39;00m \u001b[38;5;28;43mself\u001b[39;49m\u001b[38;5;241;43m.\u001b[39;49m\u001b[43mfullname\u001b[49m\u001b[38;5;241;43m.\u001b[39;49m\u001b[43msplit\u001b[49m\u001b[43m(\u001b[49m\u001b[38;5;124;43m\"\u001b[39;49m\u001b[38;5;124;43m \u001b[39;49m\u001b[38;5;124;43m\"\u001b[39;49m\u001b[43m)\u001b[49m\u001b[43m[\u001b[49m\u001b[38;5;241;43m1\u001b[39;49m\u001b[43m]\u001b[49m:\n\u001b[0;32m      7\u001b[0m     \u001b[38;5;28mself\u001b[39m\u001b[38;5;241m.\u001b[39mlast_name \u001b[38;5;241m=\u001b[39m \u001b[38;5;28mself\u001b[39m\u001b[38;5;241m.\u001b[39mfullname\u001b[38;5;241m.\u001b[39msplit(\u001b[38;5;124m\"\u001b[39m\u001b[38;5;124m \u001b[39m\u001b[38;5;124m\"\u001b[39m)[\u001b[38;5;241m1\u001b[39m]\n\u001b[0;32m      9\u001b[0m dict_data \u001b[38;5;241m=\u001b[39m kwargs\n",
      "\u001b[1;31mIndexError\u001b[0m: list index out of range"
     ]
    }
   ],
   "source": [
    "class Employee:\n",
    "    \n",
    "    def __init__(self, *args, **kwargs):\n",
    "        self.fullname = args[0]\n",
    "        \n",
    "        self.first_name = self.fullname.split(\" \")[0]\n",
    "        if self.fullname.split(\" \")[1]:\n",
    "            self.last_name = self.fullname.split(\" \")[1]\n",
    "        \n",
    "        dict_data = kwargs\n",
    "        self.salary = dict_data.get('salary')\n",
    "        self.height = dict_data.get('height')\n",
    "        self.nationality = dict_data.get('nationality')\n",
    "        \n",
    "#         for key, values in dict_data.items():  ## I will workout later\n",
    "#             print(key)\n",
    "#             self.key = dict_data.get(key)\n",
    "                \n",
    "giancarlo = Employee(\"Giancarlo Rossi\", salary=115000, height=182, nationality=\"Italian\")\n",
    "joe = Employee(\"Joe\")\n",
    "mary = Employee(\"Mary Major\", salary=120000)\n",
    "richard = Employee(\"Richard Roe\", salary=110000, height=178)\n",
    "print(joe.first_name)\n",
    "print(mary.last_name)\n",
    "print(giancarlo.nationality)\n"
   ]
  },
  {
   "cell_type": "code",
   "execution_count": null,
   "id": "d3656d8f",
   "metadata": {},
   "outputs": [],
   "source": []
  },
  {
   "cell_type": "code",
   "execution_count": null,
   "id": "f8277e29",
   "metadata": {},
   "outputs": [],
   "source": [
    "\n",
    "\n"
   ]
  },
  {
   "cell_type": "markdown",
   "id": "3ad16d18",
   "metadata": {},
   "source": [
    "#  4. Using List Comprehension for Performance"
   ]
  },
  {
   "cell_type": "code",
   "execution_count": 78,
   "id": "0f085224",
   "metadata": {},
   "outputs": [
    {
     "name": "stdout",
     "output_type": "stream",
     "text": [
      "Execution time: 4.403676509857178\n"
     ]
    }
   ],
   "source": [
    "import os\n",
    "from time import time\n",
    "from random import randint\n",
    "\n",
    "# cur_dir = os.path.dirname(_file_)\n",
    "# file_name = os.path.join (cur_dir, 'random_numbers_1.txt')\n",
    "file_name = \"random_numbers.txt\"\n",
    "a = time()\n",
    "random_number = ''\n",
    "\"\"\"\n",
    "for i in range(5000000):\n",
    "    random_number += str(randint (0, 9999))  \n",
    "    random_number += '\\n'\n",
    "\"\"\"\n",
    "random_number = ''.join([str(randint (0, 9999)) + '\\n' for i in range(5000000)])   ## Using List comprehension for performance\n",
    "# random_number = ''.join(random_number)\n",
    "with open(file_name, 'w') as f:\n",
    "    f.write(random_number)\n",
    "\n",
    "b = time()\n",
    "print(f'Execution time: {b-a}')"
   ]
  },
  {
   "cell_type": "code",
   "execution_count": null,
   "id": "62b94c4e",
   "metadata": {},
   "outputs": [],
   "source": []
  },
  {
   "cell_type": "code",
   "execution_count": null,
   "id": "ef851dd5",
   "metadata": {},
   "outputs": [],
   "source": []
  },
  {
   "cell_type": "code",
   "execution_count": 3,
   "id": "b4e4ac96",
   "metadata": {},
   "outputs": [
    {
     "name": "stdout",
     "output_type": "stream",
     "text": [
      "Execution time: 16.076080083847046\n"
     ]
    }
   ],
   "source": [
    "import os\n",
    "from time import time\n",
    "from random import randint\n",
    "\n",
    "# cur_dir = os.path.dirname(_file_)\n",
    "# file_name = os.path.join (cur_dir, 'random_numbers_1.txt')\n",
    "file_name = \"random_numbers.txt\"\n",
    "a = time()\n",
    "random_number = ''\n",
    "# for i in range(5000000):\n",
    "#     random_number += str(randint (0, 9999))  \n",
    "#     random_number += '\\n'\n",
    "\n",
    "random_number = ''.join([str(randint (0, 9999)) + '\\n' for i in range(5000000)])   ## Using List comprehension for performance\n",
    "# random_number = ''.join(random_number)\n",
    "with open(file_name, 'w') as f:\n",
    "    f.write(random_number)\n",
    "\n",
    "b = time()\n",
    "print(f'Execution time: {b-a}')"
   ]
  },
  {
   "cell_type": "code",
   "execution_count": null,
   "id": "a8b95a76",
   "metadata": {},
   "outputs": [],
   "source": []
  }
 ],
 "metadata": {
  "kernelspec": {
   "display_name": "Python 3 (ipykernel)",
   "language": "python",
   "name": "python3"
  },
  "language_info": {
   "codemirror_mode": {
    "name": "ipython",
    "version": 3
   },
   "file_extension": ".py",
   "mimetype": "text/x-python",
   "name": "python",
   "nbconvert_exporter": "python",
   "pygments_lexer": "ipython3",
   "version": "3.9.12"
  }
 },
 "nbformat": 4,
 "nbformat_minor": 5
}
