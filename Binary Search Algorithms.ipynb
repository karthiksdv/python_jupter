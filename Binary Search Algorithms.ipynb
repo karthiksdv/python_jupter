{
 "cells": [
  {
   "cell_type": "code",
   "execution_count": 2,
   "id": "7c43b70e",
   "metadata": {},
   "outputs": [],
   "source": [
    "import time"
   ]
  },
  {
   "cell_type": "markdown",
   "id": "01e2947d",
   "metadata": {},
   "source": [
    "# Binary Search Algorithm"
   ]
  },
  {
   "cell_type": "code",
   "execution_count": 10,
   "id": "6b9107c6",
   "metadata": {},
   "outputs": [
    {
     "name": "stdout",
     "output_type": "stream",
     "text": [
      "The low 11 and high 21 \n",
      "The low 17 and high 21 \n",
      "The low 20 and high 21 \n",
      "The total time taken is  0.0\n",
      "The search element is present in index  20\n"
     ]
    }
   ],
   "source": [
    "num_list = [20, 5, 92, 55, 22, 85, 43,6,2,3,0,9, 1,33,28,99,46,31,990,45,83,59]\n",
    "# num_list = [5, 20, 22, 55, 85, 92]\n",
    "\n",
    "num_list.sort()\n",
    "element = 99\n",
    "def binary_search(num_list, element):\n",
    "    t1 = time.time()\n",
    "    low = 0\n",
    "    mid = 0\n",
    "    high = len(num_list) -1\n",
    "    \n",
    "    while low <= high:\n",
    "        mid = (low + high) // 2\n",
    "        \n",
    "        if num_list[mid] < element:\n",
    "            low = mid + 1\n",
    "        elif num_list[mid] > element:\n",
    "            high = mid -1\n",
    "        else:\n",
    "            \n",
    "            t2 =  time.time() - t1\n",
    "            print(\"The total time taken is \", t2)\n",
    "            return mid\n",
    "        \n",
    "        print(\"The low {} and high {} \".format(low, high))\n",
    "    t2 =  time.time() - t1    \n",
    "    print(\"The total time taken is \", t2)\n",
    "    return -1   \n",
    "\n",
    "search_index = binary_search(num_list, element)\n",
    "\n",
    "if search_index == -1:\n",
    "    print(\"THe element is not in the list \")\n",
    "else:\n",
    "    print(\"The search element is present in index \", search_index)\n",
    "    "
   ]
  },
  {
   "cell_type": "code",
   "execution_count": 4,
   "id": "cd8b8aec",
   "metadata": {},
   "outputs": [
    {
     "data": {
      "text/plain": [
       "[0,\n",
       " 1,\n",
       " 2,\n",
       " 3,\n",
       " 5,\n",
       " 6,\n",
       " 9,\n",
       " 20,\n",
       " 22,\n",
       " 28,\n",
       " 31,\n",
       " 33,\n",
       " 43,\n",
       " 45,\n",
       " 46,\n",
       " 55,\n",
       " 59,\n",
       " 83,\n",
       " 85,\n",
       " 92,\n",
       " 99,\n",
       " 990]"
      ]
     },
     "execution_count": 4,
     "metadata": {},
     "output_type": "execute_result"
    }
   ],
   "source": [
    "num_list.sort()\n",
    "num_list"
   ]
  },
  {
   "cell_type": "code",
   "execution_count": 5,
   "id": "d1942d42",
   "metadata": {},
   "outputs": [
    {
     "data": {
      "text/plain": [
       "22"
      ]
     },
     "execution_count": 5,
     "metadata": {},
     "output_type": "execute_result"
    }
   ],
   "source": [
    "len(num_list)"
   ]
  },
  {
   "cell_type": "code",
   "execution_count": 9,
   "id": "75a32dd3",
   "metadata": {},
   "outputs": [
    {
     "name": "stdout",
     "output_type": "stream",
     "text": [
      "The total time taken is  0.0\n",
      "found \n"
     ]
    }
   ],
   "source": [
    "for x in num_list:\n",
    "    t1 = time.time()\n",
    "    if x == 99:\n",
    "        t2 =  time.time() - t1    \n",
    "        print(\"The total time taken is \", t2)\n",
    "        print(\"found \")\n",
    "    else:\n",
    "        pass\n",
    "t2 =  time.time() - t1    \n",
    "# print(\"The total time taken is out side \", t2)        "
   ]
  },
  {
   "cell_type": "markdown",
   "id": "3db83e82",
   "metadata": {},
   "source": [
    "## Simplified Binary Search"
   ]
  },
  {
   "cell_type": "code",
   "execution_count": 7,
   "id": "65098764",
   "metadata": {},
   "outputs": [
    {
     "name": "stdout",
     "output_type": "stream",
     "text": [
      "The search number 50 is present in index 6 \n"
     ]
    }
   ],
   "source": [
    "list1 = [0,1,5,8,11,33,50,70,79]\n",
    "search_num = 50\n",
    "\n",
    "def binary_search(list1, search_num):\n",
    "    low = 0\n",
    "    mid = 0\n",
    "    high = len(list1) -1\n",
    "    while low <= high:\n",
    "        mid = (low + high) // 2    \n",
    "        if list1[mid] < search_num:\n",
    "            low = mid + 1\n",
    "        elif list1[mid] > search_num:\n",
    "            high = mid -1\n",
    "        else:\n",
    "            return mid\n",
    "        \n",
    "    return False    \n",
    "    \n",
    "result = binary_search(list1, search_num)\n",
    "\n",
    "if result == False:\n",
    "    print(\"The search number is {} is not present in the list \".format(search_num))\n",
    "else:\n",
    "    print(\"The search number {} is present in index {} \".format(search_num, result))"
   ]
  },
  {
   "cell_type": "code",
   "execution_count": null,
   "id": "05382206",
   "metadata": {},
   "outputs": [],
   "source": []
  },
  {
   "cell_type": "code",
   "execution_count": null,
   "id": "e3bc27ec",
   "metadata": {},
   "outputs": [],
   "source": []
  },
  {
   "cell_type": "code",
   "execution_count": 14,
   "id": "0202d996",
   "metadata": {},
   "outputs": [
    {
     "name": "stdout",
     "output_type": "stream",
     "text": [
      "The low 0 high 6 and mid 3 \n",
      "The low 4 high 6 and mid 5 \n",
      "The search element 17 is in 5 index position.\n"
     ]
    }
   ],
   "source": [
    "num_list = [0, 3,6,7,9,17,28]\n",
    "search_element = 17\n",
    "\n",
    "\n",
    "def binary_search(num_list, search_element):\n",
    "    low = 0\n",
    "    high = len(num_list) -1\n",
    "    while low <= high:\n",
    "        mid = (low + high) // 2\n",
    "        print(\"The low {} high {} and mid {} \".format(low, high, mid))\n",
    "        if num_list[mid] < search_element:\n",
    "            low = mid + 1\n",
    "        elif num_list[mid] > search_element:\n",
    "            high = mid -1\n",
    "        else:\n",
    "            return mid\n",
    "    return False\n",
    "\n",
    "result = binary_search(num_list, search_element)\n",
    "if result == False:\n",
    "    print(\"The search element {} is not present \".format(search_element))\n",
    "else:\n",
    "    print(\"The search element {} is in {} index position.\".format(search_element, result))"
   ]
  },
  {
   "cell_type": "code",
   "execution_count": null,
   "id": "f24fee92",
   "metadata": {},
   "outputs": [],
   "source": []
  }
 ],
 "metadata": {
  "kernelspec": {
   "display_name": "Python 3 (ipykernel)",
   "language": "python",
   "name": "python3"
  },
  "language_info": {
   "codemirror_mode": {
    "name": "ipython",
    "version": 3
   },
   "file_extension": ".py",
   "mimetype": "text/x-python",
   "name": "python",
   "nbconvert_exporter": "python",
   "pygments_lexer": "ipython3",
   "version": "3.9.12"
  }
 },
 "nbformat": 4,
 "nbformat_minor": 5
}
