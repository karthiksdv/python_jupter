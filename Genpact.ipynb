{
 "cells": [
  {
   "cell_type": "code",
   "execution_count": 2,
   "id": "cf046202",
   "metadata": {},
   "outputs": [],
   "source": [
    "input_str = \"google.com\"\n"
   ]
  },
  {
   "cell_type": "code",
   "execution_count": 1,
   "id": "be5e0d7c",
   "metadata": {},
   "outputs": [
    {
     "ename": "NameError",
     "evalue": "name 'input_str' is not defined",
     "output_type": "error",
     "traceback": [
      "\u001b[1;31m---------------------------------------------------------------------------\u001b[0m",
      "\u001b[1;31mNameError\u001b[0m                                 Traceback (most recent call last)",
      "Input \u001b[1;32mIn [1]\u001b[0m, in \u001b[0;36m<cell line: 2>\u001b[1;34m()\u001b[0m\n\u001b[0;32m      1\u001b[0m char_dict \u001b[38;5;241m=\u001b[39m {}\n\u001b[1;32m----> 2\u001b[0m \u001b[38;5;28;01mfor\u001b[39;00m char \u001b[38;5;129;01min\u001b[39;00m \u001b[43minput_str\u001b[49m:\n\u001b[0;32m      3\u001b[0m     \u001b[38;5;28mprint\u001b[39m(char)\n\u001b[0;32m      4\u001b[0m     \u001b[38;5;28;01mif\u001b[39;00m char_dict\u001b[38;5;241m.\u001b[39mget(char) \u001b[38;5;129;01mis\u001b[39;00m \u001b[38;5;129;01mnot\u001b[39;00m \u001b[38;5;28;01mNone\u001b[39;00m:\n",
      "\u001b[1;31mNameError\u001b[0m: name 'input_str' is not defined"
     ]
    }
   ],
   "source": [
    "char_dict = {}\n",
    "for char in input_str:\n",
    "    print(char)\n",
    "    if char_dict.get(char) is not None:\n",
    "        \n",
    "        char_dict['char'] += 1\n",
    "    else:\n",
    "        char_dict['char'] = 1\n",
    "        print(char_dict)    "
   ]
  },
  {
   "cell_type": "code",
   "execution_count": null,
   "id": "abada3d8",
   "metadata": {},
   "outputs": [],
   "source": []
  },
  {
   "cell_type": "code",
   "execution_count": null,
   "id": "71e9a13f",
   "metadata": {},
   "outputs": [],
   "source": []
  },
  {
   "cell_type": "code",
   "execution_count": 13,
   "id": "52698872",
   "metadata": {},
   "outputs": [
    {
     "name": "stdout",
     "output_type": "stream",
     "text": [
      "['g', 'o', 'o', 'g', 'l', 'e', '.', 'c', 'o', 'm']\n",
      "Already counted  o\n",
      "Already counted  g\n",
      "Already counted  o\n"
     ]
    },
    {
     "data": {
      "text/plain": [
       "{'g': 2, 'o': 3, 'l': 1, 'e': 1, '.': 1, 'c': 1, 'm': 1}"
      ]
     },
     "execution_count": 13,
     "metadata": {},
     "output_type": "execute_result"
    }
   ],
   "source": [
    "input_str = \"google.com\"\n",
    "list_1 = []\n",
    "\n",
    "for char in input_str:\n",
    "    list_1.append(char)\n",
    "    \n",
    "print(list_1)   \n",
    "dict1 = {}\n",
    "\n",
    "for data in list_1:\n",
    "    if data in dict1.keys():\n",
    "        print(\"Already counted \", data)\n",
    "    else:\n",
    "        dict1[data] = list_1.count(data)\n",
    "dict1   "
   ]
  },
  {
   "cell_type": "code",
   "execution_count": 5,
   "id": "089530ca",
   "metadata": {},
   "outputs": [],
   "source": [
    "char = \"g\"\n",
    "dict1[char]=2"
   ]
  },
  {
   "cell_type": "code",
   "execution_count": 6,
   "id": "f0cf3623",
   "metadata": {},
   "outputs": [
    {
     "data": {
      "text/plain": [
       "{'g': 2, 'o': 3, 'l': 1, 'e': 1, '.': 1, 'c': 1, 'm': 1}"
      ]
     },
     "execution_count": 6,
     "metadata": {},
     "output_type": "execute_result"
    }
   ],
   "source": [
    "dict1"
   ]
  },
  {
   "cell_type": "code",
   "execution_count": null,
   "id": "31c1dbc2",
   "metadata": {},
   "outputs": [],
   "source": []
  },
  {
   "cell_type": "code",
   "execution_count": 14,
   "id": "c350e808",
   "metadata": {},
   "outputs": [],
   "source": [
    "string = \"Welcome to the great python learning process. It is a awesome programming language\""
   ]
  },
  {
   "cell_type": "code",
   "execution_count": 22,
   "id": "0ffacade",
   "metadata": {},
   "outputs": [
    {
     "data": {
      "text/plain": [
       "82"
      ]
     },
     "execution_count": 22,
     "metadata": {},
     "output_type": "execute_result"
    }
   ],
   "source": [
    "#split string char into list\n",
    "string_list = [char for char in string.lower()]\n",
    "len(string_list)"
   ]
  },
  {
   "cell_type": "code",
   "execution_count": 23,
   "id": "6e74f575",
   "metadata": {},
   "outputs": [
    {
     "data": {
      "text/plain": [
       "{'w': 2,\n",
       " 'e': 9,\n",
       " 'l': 3,\n",
       " 'c': 2,\n",
       " 'o': 6,\n",
       " 'm': 4,\n",
       " 't': 5,\n",
       " 'h': 2,\n",
       " 'g': 6,\n",
       " 'r': 5,\n",
       " 'a': 7,\n",
       " 'p': 3,\n",
       " 'y': 1,\n",
       " 'n': 5,\n",
       " 'i': 4,\n",
       " 's': 4,\n",
       " 'u': 1}"
      ]
     },
     "execution_count": 23,
     "metadata": {},
     "output_type": "execute_result"
    }
   ],
   "source": [
    "char_dict = {}\n",
    "for char in string_list:\n",
    "    char_count = string_list.count(char)\n",
    "    if char in char_dict:\n",
    "#         print(\"Already added \", char)\n",
    "        pass\n",
    "    else:\n",
    "        char_dict[char] = char_count\n",
    "        \n",
    "char_dict \n",
    "char_dict.pop(\" \")\n",
    "char_dict.pop(\".\")\n",
    "char_dict    "
   ]
  },
  {
   "cell_type": "markdown",
   "id": "41304986",
   "metadata": {},
   "source": [
    "## Remove the Second 'hello' string"
   ]
  },
  {
   "cell_type": "code",
   "execution_count": 30,
   "id": "513d7f37",
   "metadata": {},
   "outputs": [
    {
     "name": "stdout",
     "output_type": "stream",
     "text": [
      "hello DK hello python hello world\n"
     ]
    }
   ],
   "source": [
    "rep_str = \"hello DK hello python hello world\"\n",
    "# simple method\n",
    "rep_str_update = rep_str.replace(\"DK hello python\", \"DK python\")\n",
    "print(rep_str)"
   ]
  },
  {
   "cell_type": "code",
   "execution_count": 31,
   "id": "d0b62a0f",
   "metadata": {},
   "outputs": [
    {
     "data": {
      "text/plain": [
       "['hello', 'DK', 'hello', 'python', 'hello', 'world']"
      ]
     },
     "execution_count": 31,
     "metadata": {},
     "output_type": "execute_result"
    }
   ],
   "source": [
    "str_list = rep_str.split()\n",
    "str_list"
   ]
  },
  {
   "cell_type": "code",
   "execution_count": 32,
   "id": "61146b15",
   "metadata": {},
   "outputs": [
    {
     "name": "stdout",
     "output_type": "stream",
     "text": [
      "found the 2 occ\n"
     ]
    },
    {
     "data": {
      "text/plain": [
       "'hello DK python hello world '"
      ]
     },
     "execution_count": 32,
     "metadata": {},
     "output_type": "execute_result"
    }
   ],
   "source": [
    "spoc_word = \"hello\"\n",
    "new_str = \"\"\n",
    "word_count = 0\n",
    "for word in str_list:\n",
    "    if word == \"hello\":\n",
    "        word_count +=1\n",
    "    if word == \"hello\" and word_count == 2:\n",
    "        print(\"found the 2 occ\")\n",
    "        pass\n",
    "    else:\n",
    "        new_str += word + \" \"\n",
    "        \n",
    "new_str        \n",
    "    "
   ]
  },
  {
   "cell_type": "code",
   "execution_count": null,
   "id": "f8fe1ac0",
   "metadata": {},
   "outputs": [],
   "source": []
  },
  {
   "cell_type": "markdown",
   "id": "b38e17e3",
   "metadata": {},
   "source": [
    "## Star Pattern"
   ]
  },
  {
   "cell_type": "code",
   "execution_count": 39,
   "id": "12468295",
   "metadata": {},
   "outputs": [
    {
     "name": "stdout",
     "output_type": "stream",
     "text": [
      " *  \n",
      " *  *  \n",
      " *  *  *  \n",
      " *  *  *  *  \n",
      " *  *  *  *  *  \n",
      " *  *  *  *  *  *  \n",
      " *  *  *  *  *  *  *  \n",
      " *  *  *  *  *  *  *  *  \n",
      " *  *  *  *  *  *  *  *  *  \n"
     ]
    }
   ],
   "source": [
    "star = \"\"\n",
    "for i in range(1,10):\n",
    "    star += \" * \"\n",
    "    print(star, end=\" \\n\")\n",
    "    "
   ]
  },
  {
   "cell_type": "code",
   "execution_count": null,
   "id": "ce067a0b",
   "metadata": {},
   "outputs": [],
   "source": []
  }
 ],
 "metadata": {
  "kernelspec": {
   "display_name": "Python 3 (ipykernel)",
   "language": "python",
   "name": "python3"
  },
  "language_info": {
   "codemirror_mode": {
    "name": "ipython",
    "version": 3
   },
   "file_extension": ".py",
   "mimetype": "text/x-python",
   "name": "python",
   "nbconvert_exporter": "python",
   "pygments_lexer": "ipython3",
   "version": "3.9.12"
  }
 },
 "nbformat": 4,
 "nbformat_minor": 5
}
