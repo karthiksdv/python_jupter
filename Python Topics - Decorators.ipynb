{
 "cells": [
  {
   "cell_type": "markdown",
   "id": "a04bb644",
   "metadata": {},
   "source": [
    "## Convert number to Binsty using Recursive "
   ]
  },
  {
   "cell_type": "code",
   "execution_count": 2,
   "id": "0291bb0c",
   "metadata": {},
   "outputs": [
    {
     "name": "stdout",
     "output_type": "stream",
     "text": [
      "1\n",
      "0\n",
      "1\n",
      "1\n"
     ]
    }
   ],
   "source": [
    "def DecimalToBinary(num):\n",
    "    if num >= 1:\n",
    "        DecimalToBinary(num // 2)\n",
    "        print(num % 2) \n",
    "        \n",
    "DecimalToBinary(11)        "
   ]
  },
  {
   "cell_type": "markdown",
   "id": "18ce6f05",
   "metadata": {},
   "source": [
    "## Convert number to Binsty using Interation "
   ]
  },
  {
   "cell_type": "code",
   "execution_count": 8,
   "id": "99ea80f0",
   "metadata": {},
   "outputs": [
    {
     "name": "stdout",
     "output_type": "stream",
     "text": [
      "1\n",
      "1\n",
      "1\n"
     ]
    }
   ],
   "source": [
    "num = 7\n",
    "\n",
    "while num >= 1:\n",
    "    print(num % 2)\n",
    "    num = num // 2\n"
   ]
  },
  {
   "cell_type": "code",
   "execution_count": 66,
   "id": "d84a83cb",
   "metadata": {},
   "outputs": [],
   "source": [
    "import time, logging"
   ]
  },
  {
   "cell_type": "markdown",
   "id": "9104a3e1",
   "metadata": {},
   "source": [
    "## Decorators\n",
    "\n",
    "A decorator is a design pattern in Python that allows a user to add new functionality to an existing object without modifying its structure. Decorators are usually called before the definition of a function you want to decorate"
   ]
  },
  {
   "cell_type": "code",
   "execution_count": 15,
   "id": "31488da5",
   "metadata": {},
   "outputs": [
    {
     "name": "stdout",
     "output_type": "stream",
     "text": [
      "Hi DK\n",
      "inner_func\n",
      "bye Bye\n"
     ]
    }
   ],
   "source": [
    "def outer_func(msg):\n",
    "    message = msg\n",
    "    def inner_func(msg):\n",
    "        print(message, msg)  ## Method Resolution order . First search parent class / functions then move to higher order\n",
    "    return inner_func\n",
    "\n",
    "hi_func = outer_func(\"Hi\")\n",
    "hi_func(\"DK\")\n",
    "bye_func = outer_func(\"bye\")\n",
    "print(bye_func.__name__)\n",
    "bye_func(\"Bye\")"
   ]
  },
  {
   "cell_type": "markdown",
   "id": "9d3608a3",
   "metadata": {},
   "source": [
    "# Decroators Functions"
   ]
  },
  {
   "cell_type": "code",
   "execution_count": 21,
   "id": "d0db43c8",
   "metadata": {},
   "outputs": [
    {
     "name": "stdout",
     "output_type": "stream",
     "text": [
      "wrapper executed before this \"display\" func \n",
      "Display function ran\n"
     ]
    }
   ],
   "source": [
    "def decorated_function(original_function):\n",
    "    message = \"Hi\"\n",
    "    def wrapper_function():\n",
    "        print(\"wrapper executed before this \\\"{}\\\" func \".format(original_function.__name__))\n",
    "        return original_function()\n",
    "    return wrapper_function\n",
    "\n",
    "def display():\n",
    "    print(\"Display function ran\")\n",
    "    \n",
    " \n",
    "\n",
    "display = decorated_function(display)\n",
    "display()\n"
   ]
  },
  {
   "cell_type": "code",
   "execution_count": 6,
   "id": "2c44c106",
   "metadata": {},
   "outputs": [
    {
     "name": "stdout",
     "output_type": "stream",
     "text": [
      "wrapper executed before this display \n",
      "New Display function ran\n",
      "###### Display Info ####\n",
      "wrapper executed before this display_info \n",
      "Display infor func with arguments (Karthik, 34)\n"
     ]
    }
   ],
   "source": [
    "def decorated_function(original_function):\n",
    "    message = \"Hi\"\n",
    "    def wrapper_function(*args, **kwargs):\n",
    "        print(\"wrapper executed before this {} \".format(original_function.__name__))\n",
    "        return original_function(*args, **kwargs)\n",
    "    return wrapper_function\n",
    "\n",
    "@decorated_function\n",
    "def display():\n",
    "    print(\"New Display function ran\")\n",
    "    \n",
    "@decorated_function    \n",
    "def display_info(name, age):\n",
    "    print(\"Display infor func with arguments ({}, {})\".format(name, age))\n",
    "\n",
    "display()   \n",
    "\n",
    "print(\"###### Display Info ####\")\n",
    "display_info(\"Karthik\", 34)"
   ]
  },
  {
   "cell_type": "markdown",
   "id": "5024f498",
   "metadata": {},
   "source": [
    "### My Logger Decorator"
   ]
  },
  {
   "cell_type": "code",
   "execution_count": 8,
   "id": "09f1b8ea",
   "metadata": {},
   "outputs": [],
   "source": [
    "def my_logger(orig_func):\n",
    "    import logging\n",
    "    logging.basicConfig(filename='{}.log'.format(orig_func.__name__), level=logging.INFO)"
   ]
  },
  {
   "cell_type": "code",
   "execution_count": 15,
   "id": "dd963f21",
   "metadata": {},
   "outputs": [
    {
     "name": "stdout",
     "output_type": "stream",
     "text": [
      "display_info\n",
      "Display info func with arguments (Karthik 30)\n"
     ]
    }
   ],
   "source": [
    "def my_logger(orig_func):\n",
    "    import logging\n",
    "    print(format(orig_func.__name__))\n",
    "    logging.basicConfig(filename='{}.log'.format(orig_func.__name__), level=logging.INFO)\n",
    "    def wrapper_function(*args, **kwargs):\n",
    "        logging.info('Ran with args: {}, and kwargs: {}'.format(args, kwargs))\n",
    "        return orig_func(*args, **kwargs)\n",
    "    return wrapper_function\n",
    "\n",
    "# @my_logger\n",
    "def display():\n",
    "    print(\"New Display function ran\")\n",
    "    \n",
    "@my_logger    \n",
    "def display_info(name, age):\n",
    "    print(\"Display info func with arguments ({} {})\".format(name, age))\n",
    "          \n",
    "display_info(\"Karthik\", 30)\n",
    "# display()"
   ]
  },
  {
   "cell_type": "code",
   "execution_count": 18,
   "id": "6a84f321",
   "metadata": {},
   "outputs": [],
   "source": [
    "import time"
   ]
  },
  {
   "cell_type": "markdown",
   "id": "4ff8de3f",
   "metadata": {},
   "source": [
    "## My Timer Decorator"
   ]
  },
  {
   "cell_type": "code",
   "execution_count": 22,
   "id": "921c5890",
   "metadata": {},
   "outputs": [
    {
     "name": "stdout",
     "output_type": "stream",
     "text": [
      "Display info func with arguments (Karthik 30)\n",
      "display_info run in 7.005032300949097 secs \n",
      "New Display function ran\n",
      "display run in 4.010019540786743 secs \n"
     ]
    }
   ],
   "source": [
    "def my_timer(orig_func):\n",
    "    import time\n",
    "    def wrapper_function(*args, **kwargs):\n",
    "        t1 = time.time()\n",
    "        result = orig_func(*args, **kwargs)\n",
    "        t2 =  time.time() - t1\n",
    "        print('{} run in {} secs '.format(orig_func.__name__, t2))\n",
    "        return result\n",
    "    return wrapper_function\n",
    "\n",
    "@my_timer\n",
    "def display():\n",
    "    time.sleep(4)\n",
    "    print(\"New Display function ran\")\n",
    "\n",
    "@my_timer    \n",
    "def display_info(name, age):\n",
    "    time.sleep(7)\n",
    "    print(\"Display info func with arguments ({} {})\".format(name, age))\n",
    "          \n",
    "display_info(\"Karthik\", 30)\n",
    "display()"
   ]
  },
  {
   "cell_type": "code",
   "execution_count": 23,
   "id": "afc8e3ba",
   "metadata": {},
   "outputs": [],
   "source": [
    "str = \"Hello Balaji\"\n",
    "str_list = str.split(\" \")"
   ]
  },
  {
   "cell_type": "code",
   "execution_count": 25,
   "id": "a3948ab6",
   "metadata": {},
   "outputs": [
    {
     "data": {
      "text/plain": [
       "2"
      ]
     },
     "execution_count": 25,
     "metadata": {},
     "output_type": "execute_result"
    }
   ],
   "source": [
    "len(str_list)"
   ]
  },
  {
   "cell_type": "code",
   "execution_count": 28,
   "id": "be5e3bc8",
   "metadata": {},
   "outputs": [
    {
     "ename": "SyntaxError",
     "evalue": "invalid syntax (1124027757.py, line 3)",
     "output_type": "error",
     "traceback": [
      "\u001b[1;36m  Input \u001b[1;32mIn [28]\u001b[1;36m\u001b[0m\n\u001b[1;33m    str_list.map(el=>{\u001b[0m\n\u001b[1;37m                    ^\u001b[0m\n\u001b[1;31mSyntaxError\u001b[0m\u001b[1;31m:\u001b[0m invalid syntax\n"
     ]
    }
   ],
   "source": [
    "for data in str_list:\n",
    "    print(data)\n",
    "    str_list.map(el=>{\n",
    "        return(\n",
    "        el)\n",
    "    })\n",
    "\n",
    "\n",
    "for(){\n",
    "    \n",
    "    \n",
    "    \n",
    "}"
   ]
  },
  {
   "cell_type": "code",
   "execution_count": 32,
   "id": "7e27fc4a",
   "metadata": {},
   "outputs": [
    {
     "data": {
      "text/plain": [
       "[2, 4, 6, 8]"
      ]
     },
     "execution_count": 32,
     "metadata": {},
     "output_type": "execute_result"
    }
   ],
   "source": [
    "even_num = []\n",
    "for num in range(1, 10):\n",
    "    if num % 2 == 0:\n",
    "        even_num.append(num)\n",
    "even_num        "
   ]
  },
  {
   "cell_type": "code",
   "execution_count": 33,
   "id": "4dadd72b",
   "metadata": {},
   "outputs": [
    {
     "data": {
      "text/plain": [
       "[2, 4, 6, 8]"
      ]
     },
     "execution_count": 33,
     "metadata": {},
     "output_type": "execute_result"
    }
   ],
   "source": [
    "even_num = [num for num in range(1,10) if num % 2 == 0]\n",
    "even_num\n",
    "\n",
    "\n",
    "\n"
   ]
  },
  {
   "cell_type": "code",
   "execution_count": null,
   "id": "b1e9c315",
   "metadata": {},
   "outputs": [],
   "source": []
  }
 ],
 "metadata": {
  "kernelspec": {
   "display_name": "Python 3 (ipykernel)",
   "language": "python",
   "name": "python3"
  },
  "language_info": {
   "codemirror_mode": {
    "name": "ipython",
    "version": 3
   },
   "file_extension": ".py",
   "mimetype": "text/x-python",
   "name": "python",
   "nbconvert_exporter": "python",
   "pygments_lexer": "ipython3",
   "version": "3.9.12"
  }
 },
 "nbformat": 4,
 "nbformat_minor": 5
}
